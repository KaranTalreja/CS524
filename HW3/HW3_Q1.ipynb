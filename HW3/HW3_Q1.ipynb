{
 "cells": [
  {
   "cell_type": "markdown",
   "metadata": {},
   "source": [
    "# Homework 3-Question 1:  Doodle scheduling\n",
    "Doodle Inc. is looking to interview a candidate for a new software\n",
    "engineer position at their company. It works like this: the interview (10 AM to 3 PM) is divided into\n",
    "a number of 20-minute time slots that may be used for 1-on-1 meetings with the candidate. There is\n",
    "also a one-hour time slot in the middle of the day where 3 employees take the candidate out for lunch.\n",
    "It would be nice for all 15 senior employees to meet with the candidate at some point during the\n",
    "day, but everybody has a busy schedule so it’s not clear whether this will be possible. A doodle poll\n",
    "(obviously) was sent to the 15 senior employees to figure out their availability\n",
    "\n",
    " | | 10:00 | 10:20 | 10:40 | 11:00 | 11:20 | 11:40 | Lunch | 1:00 | 1:20 | 1:40 | 2:00 | 2:20 | 2:40\n",
    " | ---| ---| ---| ---| ---| ---| ---| ---| ---| ---| ---| ---| ---| ---| --- \n",
    " | Manuel | 0 | 0 | 1 | 1 | 0 | 0 | 0 | 1 | 1 | 0 | 0 | 0 | 0\n",
    " | Luca | 0 | 1 | 1 | 0 | 0 | 0 | 0 | 0 | 1 | 1 | 0 | 0 | 0\n",
    " | Jule | 0 | 0 | 0 | 1 | 1 | 0 | 1 | 1 | 0 | 1 | 1 | 1 | 1\n",
    " | Michael | 0 | 0 | 0 | 1 | 1 | 1 | 1 | 1 | 1 | 1 | 1 | 1 | 0\n",
    " | Malte | 0 | 0 | 0 | 0 | 0 | 0 | 1 | 1 | 1 | 0 | 0 | 0 | 0\n",
    " | Chris | 0 | 1 | 1 | 0 | 0 | 0 | 0 | 0 | 1 | 1 | 0 | 0 | 0\n",
    " | Spyros | 0 | 0 | 0 | 1 | 1 | 1 | 1 | 0 | 0 | 0 | 0 | 0 | 0\n",
    " | Mirjam | 1 | 1 | 0 | 0 | 0 | 0 | 0 | 0 | 0 | 0 | 1 | 1 | 1\n",
    " | Matt | 1 | 1 | 1 | 0 | 0 | 0 | 0 | 0 | 0 | 1 | 1 | 0 | 0\n",
    " | Florian | 0 | 0 | 0 | 0 | 0 | 0 | 0 | 1 | 1 | 0 | 0 | 0 | 0\n",
    " | Josep | 0 | 0 | 0 | 0 | 0 | 0 | 1 | 1 | 1 | 0 | 0 | 0 | 0\n",
    " | Joel | 1 | 1 | 0 | 0 | 0 | 1 | 1 | 1 | 1 | 0 | 0 | 1 | 1\n",
    " | Tom | 1 | 1 | 1 | 0 | 1 | 1 | 0 | 0 | 0 | 0 | 0 | 1 | 1\n",
    " | Daniel | 0 | 1 | 1 | 1 | 0 | 0 | 0 | 0 | 0 | 0 | 0 | 0 | 0\n",
    " | Anne | 1 | 1 | 0 | 0 | 1 | 1 | 0 | 0 | 0 | 0 | 0 | 0 | 0\n",
    " \n",
    " In the table, a 1 means that the employee is available at the indicated time, while a 0 means that they\n",
    "are unavailable. Determine whether a feasible interview schedule exists. If so, print out a calendar for\n",
    "the candidate that lists who they will be meeting at each time slot."
   ]
  },
  {
   "cell_type": "markdown",
   "metadata": {},
   "source": [
    "## Problem Data"
   ]
  },
  {
   "cell_type": "code",
   "execution_count": 1,
   "metadata": {
    "collapsed": false,
    "scrolled": false
   },
   "outputs": [],
   "source": [
    "using NamedArrays\n",
    "# Employees\n",
    "employees = [\"Manuel\", \"Luca\", \"Jule\", \"Michael\", \"Malte\", \"Chris\", \n",
    "    \"Spyros\", \"Mirjam\", \"Matt\", \"Florian\", \"Josep\", \"Joel\", \"Tom\", \"Daniel\", \"Anne\"]\n",
    "\n",
    "# Slots\n",
    "slots = [\"10:00\",\"10:20\",\"10:40\",\"11:00\",\"11:20\",\"11:40\",\"Lunch\",\n",
    "    \"1:00\",\"1:20\",\"1:40\",\"2:00\",\"2:20\",\"2:40\"]\n",
    "\n",
    "# Slot Capacity\n",
    "slotCapacity = Dict(zip(slots,[1,1,1,1,1,1,3,1,1,1,1,1,1]))\n",
    "\n",
    "raw = [ 0 0 1 1 0 0 0 1 1 0 0 0 0;\n",
    "        0 1 1 0 0 0 0 0 1 1 0 0 0;\n",
    "        0 0 0 1 1 0 1 1 0 1 1 1 1;\n",
    "        0 0 0 1 1 1 1 1 1 1 1 1 0;\n",
    "        0 0 0 0 0 0 1 1 1 0 0 0 0;\n",
    "        0 1 1 0 0 0 0 0 1 1 0 0 0;\n",
    "        0 0 0 1 1 1 1 0 0 0 0 0 0;\n",
    "        1 1 0 0 0 0 0 0 0 0 1 1 1;\n",
    "        1 1 1 0 0 0 0 0 0 1 1 0 0;\n",
    "        0 0 0 0 0 0 0 1 1 0 0 0 0;\n",
    "        0 0 0 0 0 0 1 1 1 0 0 0 0;\n",
    "        1 1 0 0 0 1 1 1 1 0 0 1 1;\n",
    "        1 1 1 0 1 1 0 0 0 0 0 1 1;\n",
    "        0 1 1 1 0 0 0 0 0 0 0 0 0;\n",
    "        1 1 0 0 1 1 0 0 0 0 0 0 0;]\n",
    "\n",
    "availability = NamedArray(raw, (employees, slots), (\"Employees\", \"Slots\"));"
   ]
  },
  {
   "cell_type": "markdown",
   "metadata": {},
   "source": [
    "## Problem Model "
   ]
  },
  {
   "cell_type": "code",
   "execution_count": 2,
   "metadata": {
    "collapsed": false,
    "scrolled": true
   },
   "outputs": [],
   "source": [
    "using JuMP\n",
    "\n",
    "m = Model()\n",
    "\n",
    "# decision variables, flow on edges from Layer 1: employees to Layer 2: slots\n",
    "@variable(m, x[employees,slots] >= 0)\n",
    "\n",
    "# availability constraint, to assign an employee to slot only when the employee is available.\n",
    "for e in employees\n",
    "    for s in slots\n",
    "        @constraint(m, x[e,s] <= availability[e,s])\n",
    "    end\n",
    "end\n",
    "\n",
    "# constraint to limit only one employee per slot and three employees for lunch.\n",
    "@constraint(m,attendancePerSlot[s in slots],sum(x[e,s] for e in employees) <= slotCapacity[s])\n",
    "\n",
    "# constraint for all employees to meet the candidate exactly once.\n",
    "@constraint(m,attendancePerEmployee[e in employees],sum(x[e,s] for s in slots) == 1)\n",
    "\n",
    "# Max flow objective along edges\n",
    "@objective(m, Max, sum(x[e,s] for e in employees for s in slots))\n",
    ";"
   ]
  },
  {
   "cell_type": "code",
   "execution_count": 3,
   "metadata": {
    "collapsed": false,
    "scrolled": true
   },
   "outputs": [
    {
     "name": "stdout",
     "output_type": "stream",
     "text": [
      "Optimal\n",
      "15.0\n",
      "10:00\t:\tMirjam\n",
      "10:20\t:\tJoel\n",
      "10:40\t:\tManuel\n",
      "11:00\t:\tDaniel\n",
      "11:20\t:\tJule\n",
      "11:40\t:\tAnne\n",
      "Lunch\t:\tMalte\n",
      "Lunch\t:\tSpyros\n",
      "Lunch\t:\tJosep\n",
      "1:00\t:\tFlorian\n",
      "1:20\t:\tLuca\n",
      "1:40\t:\tChris\n",
      "2:00\t:\tMatt\n",
      "2:20\t:\tMichael\n",
      "2:40\t:\tTom\n",
      "\n"
     ]
    }
   ],
   "source": [
    "status = solve(m)\n",
    "println(status)\n",
    "println(getobjectivevalue(m))\n",
    "# nicely formatted solution\n",
    "solution = NamedArray( Int[getvalue(x[i,j]) for i in employees, j in slots], (employees,slots),\n",
    "    (\"Employees\",\"Slots\") )\n",
    "[println(s,\"\\t:\\t\" ,e) for s in slots for e in employees if solution[e,s] == 1]\n",
    "println()"
   ]
  },
  {
   "cell_type": "markdown",
   "metadata": {},
   "source": [
    "The assignment of employees to slots has been shown above."
   ]
  }
 ],
 "metadata": {
  "kernelspec": {
   "display_name": "Julia 0.5.0",
   "language": "julia",
   "name": "julia-0.5"
  },
  "language_info": {
   "file_extension": ".jl",
   "mimetype": "application/julia",
   "name": "julia",
   "version": "0.5.0"
  }
 },
 "nbformat": 4,
 "nbformat_minor": 2
}
