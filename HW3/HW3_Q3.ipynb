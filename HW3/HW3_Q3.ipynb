{
 "cells": [
  {
   "cell_type": "markdown",
   "metadata": {},
   "source": [
    "# Homework 3 Question 3: Building a stadium.\n",
    "A town council wishes to construct a small stadium in order to improve the services provided to the people living in the district. After the invitation to tender, a local construction company is awarded the contract and wishes to complete the task within the shortest possible time. All the major tasks are listed in the following table. Some tasks can only start after the completion of certain other tasks, as indicated by the “Predecessors” column. \n",
    "\n",
    "|Task| Description| Duration (in weeks) | Predecessors | Maximum reduction (in weeks) | Cost of reduction ($1k/wk)\n",
    "|---|---|---|---|---|---|---|\n",
    "| 1 | Installing the construction site | 2 | none | 0  | –\n",
    "| 2 | Terracing  | 16 |  1 |  3 |  30\n",
    "| 3 | Constructing the foundations  | 9  | 2 |  1 |  26\n",
    "| 4 | Access roads and other networks  | 8 |  2 |  2 |  12\n",
    "| 5 | Erecting the basement  | 10 |  3 |  2 |  17\n",
    "| 6 | Main floor  | 6 |  4,5 |  1 |  15\n",
    "| 7 | Dividing up the changing rooms |  2  | 4 |  1 |  8\n",
    "| 8 | Electrifying the terraces  | 2 |  6 |  0 |  –\n",
    "| 9 | Constructing the roof  | 9 |  4,6 |  2  | 42\n",
    "| 10|  Lighting of the stadium |  5 |  4 |  1 |  21\n",
    "| 11|  Installing the terraces |  3 |  6 |  1 |  18\n",
    "| 12|  Sealing the roof  | 2 |  9 |  0 |  –\n",
    "| 13|  Finishing the changing rooms  | 1 |  7 |  0 |  –\n",
    "| 14|  Constructing the ticket office |  7 |  2 |  2 |  22\n",
    "| 15|  Secondary access roads  | 4 |  4,14 |  2 |  12\n",
    "| 16|  Means of signalling  | 3 |  8,11,14 |  1 |  6\n",
    "| 17|  Lawn and sport accessories  | 9 |  12 |  3  | 16\n",
    "| 18|  Handing over the building  | 1 |  17 |  0 |  –"
   ]
  },
  {
   "cell_type": "markdown",
   "metadata": {},
   "source": [
    "__a) What is the earliest possible date of completion for the construction? Note that the last two\n",
    "columns of the table are not relevant for this part of the problem.__"
   ]
  },
  {
   "cell_type": "markdown",
   "metadata": {},
   "source": [
    "## Problem Data "
   ]
  },
  {
   "cell_type": "code",
   "execution_count": 1,
   "metadata": {
    "collapsed": false
   },
   "outputs": [],
   "source": [
    "# this array stores the task names (:a, :b, ..., :r)\n",
    "nTasks=18\n",
    "tasks = []\n",
    "for i = 'a':'a'+nTasks-1\n",
    "    push!(tasks, Symbol(i))\n",
    "end\n",
    "\n",
    "# this dictionary stores the project durations\n",
    "dur = [2 16 9 8 10 6 2 2 9 5 3 2 1 7 4 3 9 1]\n",
    "duration = Dict(zip(tasks,dur))\n",
    "\n",
    "red = [0 3 1 2 2 1 1 0 2 1 1 0 0 2 2 1 3 0]\n",
    "reduction = Dict(zip(tasks,red))\n",
    "\n",
    "costOfRed = [0 30 26 12 17 15 8 0 42 21 18 0 0 22 12 6 16 0]\n",
    "costOfReduction = Dict(zip(tasks,costOfRed))\n",
    "\n",
    "# this dictionary stores the projects that a given project depends on (ancestors)\n",
    "pre = ([],[tasks[1]],[tasks[2]],[tasks[2]],[tasks[3]],[tasks[4],tasks[5]],[tasks[4]],\n",
    "    [tasks[6]],[tasks[4],tasks[6]],[tasks[4]],[tasks[6]],[tasks[9]],[tasks[7]],[tasks[2]],\n",
    "    [tasks[4],tasks[14]],[tasks[8],tasks[11],tasks[14]],[tasks[12]],[tasks[17]])\n",
    "pred = Dict(zip(tasks,pre));"
   ]
  },
  {
   "cell_type": "markdown",
   "metadata": {},
   "source": [
    "## Problem Model "
   ]
  },
  {
   "cell_type": "code",
   "execution_count": 2,
   "metadata": {
    "collapsed": false
   },
   "outputs": [
    {
     "name": "stdout",
     "output_type": "stream",
     "text": [
      "tstart: 1 dimensions:\n",
      "[a] = 0.0\n",
      "[b] = 2.0\n",
      "[c] = 18.0\n",
      "[d] = 18.0\n",
      "[e] = 27.0\n",
      "[f] = 37.0\n",
      "[g] = 26.0\n",
      "[h] = 43.0\n",
      "[i] = 43.0\n",
      "[j] = 26.0\n",
      "[k] = 43.0\n",
      "[l] = 52.0\n",
      "[m] = 28.0\n",
      "[n] = 18.0\n",
      "[o] = 26.0\n",
      "[p] = 46.0\n",
      "[q] = 54.0\n",
      "[r] = 63.0\n",
      "\n"
     ]
    }
   ],
   "source": [
    "using JuMP\n",
    "m = Model()\n",
    "\n",
    "# variable to hold start time of all tasks\n",
    "@variable(m, tstart[tasks] >= 0 )\n",
    "\n",
    "# constraints imposed on start time of tasks due to its predecessors\n",
    "start = @constraint(m, [i in tasks, j in pred[i]], tstart[i] >= tstart[j] + duration[j])\n",
    "\n",
    "# objective to minimize the end time of last task\n",
    "@objective(m, Min, tstart[tasks[nTasks]] + duration[tasks[nTasks]])\n",
    "\n",
    "solve(m)\n",
    "println(getvalue(tstart))"
   ]
  },
  {
   "cell_type": "markdown",
   "metadata": {},
   "source": [
    "So the earliest possible completion date is 64 weeks."
   ]
  },
  {
   "cell_type": "markdown",
   "metadata": {},
   "source": [
    "__b) For some of the tasks, the builder may employ additional workers and rent more equipment to\n",
    "cut down on the total time. The last two columns of the table show the maximum number of\n",
    "weeks that can be saved per task and the associated additional cost per week incurred by the\n",
    "extra work. Plot a trade-off curve that shows extra cost as a function of the number of weeks\n",
    "early we wish the stadium to be completed.__\n",
    "\n",
    "The trick used to solve this part of the question is the following. Reducing a week from any of the task may or may not reduce the overall time of stadium completion. But reducing the time in tasks which have tight constraints will definitely reduce the overall time. To identify those constraints we look at the dual variable for it. If the constraint is slack, its dual variable will be 0, otherwise 1."
   ]
  },
  {
   "cell_type": "code",
   "execution_count": 3,
   "metadata": {
    "collapsed": false
   },
   "outputs": [
    {
     "name": "stdout",
     "output_type": "stream",
     "text": [
      "The reduction possible by seeing the tight bounds is 12 weeks at cost $297k\n",
      "Reduce work of b upto maximum of 3 weeks at cost $30k per week\n",
      "Reduce work of c upto maximum of 1 weeks at cost $26k per week\n",
      "Reduce work of e upto maximum of 2 weeks at cost $17k per week\n",
      "Reduce work of f upto maximum of 1 weeks at cost $15k per week\n",
      "Reduce work of i upto maximum of 2 weeks at cost $42k per week\n",
      "Reduce work of q upto maximum of 3 weeks at cost $16k per week\n"
     ]
    }
   ],
   "source": [
    "# Total reduction possible looking at all tight constraints and their maximum reduction weeks\n",
    "reductionPossible = sum([reduction[j] \n",
    "        for i in tasks for j in pred[i] if getdual(start[i,j]) == 1])\n",
    "\n",
    "# If all the reduction possible is implemented, the max cost is stored\n",
    "maxCostPossible = sum([reduction[j]*costOfReduction[j] \n",
    "        for i in tasks for j in pred[i] if getdual(start[i,j]) == 1])\n",
    "\n",
    "println(\"The reduction possible by seeing the tight bounds is \", \n",
    "    reductionPossible,\" weeks at cost \\$\",maxCostPossible,\"k\")\n",
    "\n",
    "[println(\"Reduce work of \",j,\" upto maximum of \",reduction[j],\n",
    "        \" weeks at cost \\$\", costOfReduction[j],\"k per week\") \n",
    "    for i in tasks for j in pred[i] if getdual(start[i,j])*reduction[j] > 0];"
   ]
  },
  {
   "cell_type": "markdown",
   "metadata": {
    "collapsed": true
   },
   "source": [
    "Figuring out the optimal cost per week reduction from the possible set of tight bounds, turns out to be a linear programming problem. Which is solved next\n",
    "## Problem Data "
   ]
  },
  {
   "cell_type": "code",
   "execution_count": 4,
   "metadata": {
    "collapsed": false
   },
   "outputs": [],
   "source": [
    "# This is the maximum possible reduction possible for tasks which have tight constraints\n",
    "reductionTight = Dict(zip(tasks, zeros(red)))\n",
    "[reductionTight[j] = reduction[j] \n",
    "    for i in tasks for j in pred[i] if  getdual(start[i,j])*reduction[j] > 0];"
   ]
  },
  {
   "cell_type": "markdown",
   "metadata": {},
   "source": [
    "## Problem Model "
   ]
  },
  {
   "cell_type": "code",
   "execution_count": 5,
   "metadata": {
    "collapsed": false
   },
   "outputs": [
    {
     "name": "stdout",
     "output_type": "stream",
     "text": [
      "Cost per number of weeks reduced: [15.0,31.0,47.0,63.0,80.0,97.0,123.0,153.0,183.0,213.0,255.0,297.0]\n"
     ]
    }
   ],
   "source": [
    "md = Model()\n",
    "\n",
    "# variable for reduction in weeks for each task\n",
    "@variable(md, x[tasks] >= 0)\n",
    "\n",
    "# constraint to limit the reduction to reduction possible for each task\n",
    "@constraint(md, reduce[t in tasks], x[t] <= reductionTight[t])\n",
    "\n",
    "# objective to minimize the cost for total reduction in weeks\n",
    "@objective(md, Min, sum(x[t]*costOfReduction[t] for t in tasks));\n",
    "\n",
    "# Incrementally increasing the lower bound for total reduction in weeks to\n",
    "# plot the trade off curve.\n",
    "y = zeros(reductionPossible)\n",
    "for i in 1:reductionPossible\n",
    "    @constraint(md, sum(x[t] for t in tasks) >= i)\n",
    "    status = solve(md)\n",
    "    y[i] = getobjectivevalue(md)\n",
    "end\n",
    "println(\"Cost per number of weeks reduced: \",y)"
   ]
  },
  {
   "cell_type": "code",
   "execution_count": 6,
   "metadata": {
    "collapsed": false
   },
   "outputs": [
    {
     "data": {
      "image/png": "[encoded data removed]",
      "text/plain": [
       "PyPlot.Figure(PyObject <matplotlib.figure.Figure object at 0x7f6b57224350>)"
      ]
     },
     "metadata": {},
     "output_type": "display_data"
    }
   ],
   "source": [
    "x = linspace(1,reductionPossible,reductionPossible)\n",
    "\n",
    "using PyPlot\n",
    "grid(\"on\")\n",
    "bar(x,y,align=\"center\");"
   ]
  },
  {
   "cell_type": "markdown",
   "metadata": {},
   "source": [
    "__c) The town council wants the builder to expedite the project. As an incentive, the council will pay\n",
    "a bonus of \\$30k/week for each week the work finishes early. When will the project be completed\n",
    "if the builder is acting in a way that maximizes his profit?__"
   ]
  },
  {
   "cell_type": "code",
   "execution_count": 7,
   "metadata": {
    "collapsed": false
   },
   "outputs": [
    {
     "name": "stdout",
     "output_type": "stream",
     "text": [
      "1 week reduction gives profit of $15.0k\n",
      "2 week reduction gives profit of $29.0k\n",
      "3 week reduction gives profit of $43.0k\n",
      "4 week reduction gives profit of $57.0k\n",
      "5 week reduction gives profit of $70.0k\n",
      "6 week reduction gives profit of $83.0k\n",
      "7 week reduction gives profit of $87.0k\n",
      "8 week reduction gives profit of $87.0k\n",
      "9 week reduction gives profit of $87.0k\n",
      "10 week reduction gives profit of $87.0k\n",
      "11 week reduction gives profit of $75.0k\n",
      "12 week reduction gives profit of $63.0k\n"
     ]
    }
   ],
   "source": [
    "incentive = 30\n",
    "[println(i,\" week reduction gives profit of \\$\",i*incentive - y[i],\"k\")\n",
    "    for i in 1:reductionPossible];"
   ]
  },
  {
   "cell_type": "markdown",
   "metadata": {},
   "source": [
    "The above code output shows that to maximize profit, the builder needs to finish the project early anywhere between 7-10 weeks. The profit would be \\$87k"
   ]
  }
 ],
 "metadata": {
  "kernelspec": {
   "display_name": "Julia 0.5.0",
   "language": "julia",
   "name": "julia-0.5"
  },
  "language_info": {
   "file_extension": ".jl",
   "mimetype": "application/julia",
   "name": "julia",
   "version": "0.5.0"
  }
 },
 "nbformat": 4,
 "nbformat_minor": 2
}
