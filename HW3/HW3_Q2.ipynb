{
 "cells": [
  {
   "cell_type": "markdown",
   "metadata": {},
   "source": [
    "# Homework 3 Question 2: Car Rental\n",
    "A small car rental company has a fleet of 94 vehicles distributed among its 10\n",
    "agencies. The location of every agency is given by its geographical coordinates x and y in a grid based\n",
    "on miles. We assume that the road distance between agencies is approximately 1.3 times the Euclidean\n",
    "distance (as the crow flies). The following table indicates the coordinates of all agencies, the number\n",
    "of cars required the next morning, and the stock of cars in the evening preceding this day.\n",
    "\n",
    "Agency number |  1|  2|  3|  4|  5|  6|  7|  8|  9|  10\n",
    " --- |--- |--- |--- |--- |--- |--- |--- |--- |--- |--- \n",
    "x-coordinate | 0 | 20|  18|  30|  35|  33|  5|  5|  11|  2\n",
    "y-coordinate | 0|  20|  10|  12|  0|  25|  27|  10|  0|  15\n",
    "Required cars|  10|  6|  8|  11|  9|  7|  15|  7|  9|  12\n",
    "Cars present | 8|  13|  4|  8|  12|  2|  14|  11|  15|  7\n",
    "\n",
    "Supposing the cost for transporting a car is $0.50 per mile, the movements of cars that allow\n",
    "the company to re-establish the required numbers of cars at all agencies, minimizing the total cost\n",
    "incurred for transport."
   ]
  },
  {
   "cell_type": "markdown",
   "metadata": {},
   "source": [
    "## Problem Data "
   ]
  },
  {
   "cell_type": "code",
   "execution_count": 1,
   "metadata": {
    "collapsed": false
   },
   "outputs": [],
   "source": [
    "# Helper Function\n",
    "function agencyEuclDistance(ax, ay, bx, by)\n",
    "    return 1.3*(sqrt((ax-bx)^2 + (ay-by)^2))\n",
    "end;"
   ]
  },
  {
   "cell_type": "code",
   "execution_count": 2,
   "metadata": {
    "collapsed": false
   },
   "outputs": [],
   "source": [
    "using NamedArrays\n",
    "\n",
    "# agency list\n",
    "agency = [1,2,3,4,5,6,7,8,9,10]\n",
    "\n",
    "# required cars per agency\n",
    "required = Dict(zip(agency, [10 6 8 11 9 7 15 7 9 12]))\n",
    "\n",
    "# present cars per agency\n",
    "present =  Dict(zip(agency, [8 13 4 8 12 2 14 11 15 7]))\n",
    "\n",
    "# location (x,y) tuples per agency\n",
    "location = Dict(zip(agency,[( 0 ,  0)\n",
    "                            ( 20,  20)\n",
    "                            ( 18,  10)\n",
    "                            ( 30,  12)\n",
    "                            ( 35,   0)\n",
    "                            ( 33,  25)\n",
    "                            (  5,  27)\n",
    "                            (  5,  10)\n",
    "                            ( 11,   0)\n",
    "                            (  2,  15)]))\n",
    "\n",
    "# cost per mile for transportation\n",
    "costPerMile = 0.5\n",
    "\n",
    "# Arrays to store agency to agency cost (agency, agency)\n",
    "costRaw = reshape([costPerMile*agencyEuclDistance(location[a][1],location[a][2],\n",
    "            location[b][1],location[b][2])\n",
    "    for a in agency for b in agency],length(agency), length(agency))\n",
    "cost = NamedArray(costRaw, (agency,agency), (\"Agency\", \"Agency\"))\n",
    ";"
   ]
  },
  {
   "cell_type": "markdown",
   "metadata": {},
   "source": [
    "## Problem Model "
   ]
  },
  {
   "cell_type": "code",
   "execution_count": 3,
   "metadata": {
    "collapsed": false
   },
   "outputs": [],
   "source": [
    "using JuMP\n",
    "\n",
    "m = Model()\n",
    "\n",
    "# Variables for edge cost from agency to agency\n",
    "@variable(m, x[agency,agency] >= 0)\n",
    "\n",
    "# Constraint to limit the number of cars an agency can transfer to the number of cars present\n",
    "@constraint(m, supply[a in agency], sum(x[a,b] for b in agency) <= present[a])\n",
    "            \n",
    "# Constraint to impose the required number of cars at the end at each agency\n",
    "@constraint(m, demand[b in agency], sum(x[a,b] for a in agency) == required[b])\n",
    "\n",
    "# Objective of minimizing cost per car transfer between agencies\n",
    "@objective(m, Min, sum(cost[a,b]*x[a,b] for a in agency for b in agency))\n",
    ";"
   ]
  },
  {
   "cell_type": "code",
   "execution_count": 4,
   "metadata": {
    "collapsed": false
   },
   "outputs": [
    {
     "name": "stdout",
     "output_type": "stream",
     "text": [
      "Minimum cost to reistablish demands: $152.63901632295628\n",
      "11×11 Named Array{Int64,2}\n",
      "Src ╲ Dest │    1     2     3     4     5     6     7     8     9    10  Pres\n",
      "───────────┼─────────────────────────────────────────────────────────────────\n",
      "1          │    8     0     0     0     0     0     0     0     0     0     8\n",
      "2          │    0     6     1     0     0     5     1     0     0     0    13\n",
      "3          │    0     0     4     0     0     0     0     0     0     0     4\n",
      "4          │    0     0     0     8     0     0     0     0     0     0     8\n",
      "5          │    0     0     0     3     9     0     0     0     0     0    12\n",
      "6          │    0     0     0     0     0     2     0     0     0     0     2\n",
      "7          │    0     0     0     0     0     0    14     0     0     0    14\n",
      "8          │    0     0     0     0     0     0     0     7     0     4    11\n",
      "9          │    2     0     3     0     0     0     0     0     9     1    15\n",
      "10         │    0     0     0     0     0     0     0     0     0     7     7\n",
      "Required   │   10     6     8    11     9     7    15     7     9    12    94\n"
     ]
    }
   ],
   "source": [
    "status = solve(m)\n",
    "println(\"Minimum cost to reistablish demands: \\$\",getobjectivevalue(m))\n",
    "\n",
    "# nicely formatted solution\n",
    "raw = Int[getvalue(x[i,j]) for i in agency, j in agency]\n",
    "raw = hcat(raw,sum(raw,2))\n",
    "raw = vcat(raw,sum(raw,1))\n",
    "\n",
    "solution = NamedArray(raw,([1,2,3,4,5,6,7,8,9,10,\"Required\"],\n",
    "        [1,2,3,4,5,6,7,8,9,10,\"Pres\"]),(\"Src\",\"Dest\"))\n",
    "println(solution)"
   ]
  },
  {
   "cell_type": "markdown",
   "metadata": {},
   "source": [
    "The car transfers from source agency to destination agency is as shown above. The rightmost column shows the cars initially present at all source agencies, while the bottom most row shows the required cars at each destination agency. The values in these rows and columns is as per the requirement of the question."
   ]
  }
 ],
 "metadata": {
  "kernelspec": {
   "display_name": "Julia 0.5.0",
   "language": "julia",
   "name": "julia-0.5"
  },
  "language_info": {
   "file_extension": ".jl",
   "mimetype": "application/julia",
   "name": "julia",
   "version": "0.5.0"
  }
 },
 "nbformat": 4,
 "nbformat_minor": 2
}
