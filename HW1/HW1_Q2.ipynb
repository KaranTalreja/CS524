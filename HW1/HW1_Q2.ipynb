{
 "cells": [
  {
   "cell_type": "markdown",
   "metadata": {},
   "source": [
    "# Homework-1 Question-2: Standard form with equality constraints "
   ]
  },
  {
   "cell_type": "code",
   "execution_count": 1,
   "metadata": {
    "collapsed": true
   },
   "outputs": [],
   "source": [
    "using JuMP"
   ]
  },
  {
   "cell_type": "markdown",
   "metadata": {},
   "source": [
    "## Original Problem"
   ]
  },
  {
   "cell_type": "markdown",
   "metadata": {},
   "source": [
    "\\begin{equation*}\n",
    "\\begin{aligned}\n",
    "& \\underset{z_1, z_2, z_3, z_4} {\\text{maximize}}\n",
    "& & 3z_1 -z_2\\\\\n",
    "& \\text{subject to}:\n",
    "& & -z_1 + 6z_2 - z_3 + z_4 \\ge -3 \\\\\n",
    "& & & 7z_2 + z_4 = 5 \\\\\n",
    "& & & z_3 + z_4 \\le 2 \\\\\n",
    "& -1 \\le z_1 \\le 5, \\> \\> \\> -1 \\le z_3 \\le 5, \\> \\> \\> -2 \\le z_4 \\le 2.\\\n",
    "\\end{aligned}\n",
    "\\end{equation*}"
   ]
  },
  {
   "cell_type": "code",
   "execution_count": 2,
   "metadata": {
    "collapsed": false
   },
   "outputs": [
    {
     "name": "stdout",
     "output_type": "stream",
     "text": [
      "Optimal\n",
      "\n",
      "z1: 5.0\n",
      "z2: 0.42857142857142855\n",
      "z3: -1.0\n",
      "z4: 2.0\n",
      "Max: 14.571428571428571\n"
     ]
    }
   ],
   "source": [
    "m = Model()\n",
    "\n",
    "@variable(m, -1 <= z_1 <= 5)\n",
    "@variable(m, z_2)\n",
    "@variable(m, -1 <= z_3 <= 5)\n",
    "@variable(m, -2 <= z_4 <= 2)\n",
    "\n",
    "@constraint(m, -z_1 + 6z_2 - z_3 + z_4 >= -3)\n",
    "@constraint(m, 7z_2 + z_4 == 5)\n",
    "@constraint(m, z_3 + z_4 <= 2)\n",
    "\n",
    "@objective(m, Max, 3z_1 - z_2)\n",
    "\n",
    "status = solve(m)\n",
    "println(status)\n",
    "println()\n",
    "println(\"z1: \", getvalue(z_1))\n",
    "println(\"z2: \", getvalue(z_2))\n",
    "println(\"z3: \", getvalue(z_3))\n",
    "println(\"z4: \", getvalue(z_4))\n",
    "println(\"Max: \", getobjectivevalue(m))\n",
    "m"
   ]
  },
  {
   "cell_type": "markdown",
   "metadata": {},
   "source": [
    "## Standard Form"
   ]
  },
  {
   "cell_type": "markdown",
   "metadata": {},
   "source": [
    "should look like:\n",
    "\\begin{equation*}\n",
    "\\begin{aligned}\n",
    "& {\\text{minimize}}\n",
    "& & c^{T} x\\\\\n",
    "& \\text{subject to}:\n",
    "& & Ax = b \\\\\n",
    "& & & x \\ge 0.\n",
    "\\end{aligned}\n",
    "\\end{equation*}"
   ]
  },
  {
   "cell_type": "code",
   "execution_count": 3,
   "metadata": {
    "collapsed": false
   },
   "outputs": [
    {
     "name": "stdout",
     "output_type": "stream",
     "text": [
      "Optimal\n",
      "\n",
      "z1: 5.0\n",
      "z2: 0.42857142857142855\n",
      "z3: -1.0\n",
      "z4: 2.0\n",
      "Max: 14.571428571428573\n"
     ]
    },
    {
     "data": {
      "text/latex": [
       "$$ \\begin{alignat*}{1}\\min\\quad & -3 x_1 + x_2 - x_3 + 3\\\\\n",
       "\\text{Subject to} \\quad & x_1 + s_1 = 6\\\\\n",
       " & x_4 + s_2 = 6\\\\\n",
       " & x_5 + s_3 = 4\\\\\n",
       " & x_1 - 6 x_2 + 6 x_3 + x_4 - x_5 + s_4 = 3\\\\\n",
       " & 7 x_2 - 7 x_3 + x_5 = 7\\\\\n",
       " & x_4 + x_5 + s_5 = 5\\\\\n",
       " & x_1 \\geq 0\\\\\n",
       " & x_2 \\geq 0\\\\\n",
       " & x_3 \\geq 0\\\\\n",
       " & x_4 \\geq 0\\\\\n",
       " & x_5 \\geq 0\\\\\n",
       " & s_1 \\geq 0\\\\\n",
       " & s_2 \\geq 0\\\\\n",
       " & s_3 \\geq 0\\\\\n",
       " & s_4 \\geq 0\\\\\n",
       " & s_5 \\geq 0\\\\\n",
       "\\end{alignat*}\n",
       " $$"
      ],
      "text/plain": [
       "Minimization problem with:\n",
       " * 6 linear constraints\n",
       " * 10 variables\n",
       "Solver is default solver"
      ]
     },
     "execution_count": 3,
     "metadata": {},
     "output_type": "execute_result"
    }
   ],
   "source": [
    "sf_m = Model()\n",
    "\n",
    "@variable(sf_m, x_1 >= 0)\n",
    "@variable(sf_m, x_2 >= 0)\n",
    "@variable(sf_m, x_3 >= 0)\n",
    "@variable(sf_m, x_4 >= 0)\n",
    "@variable(sf_m, x_5 >= 0)\n",
    "@variable(sf_m, s_1 >= 0)\n",
    "@variable(sf_m, s_2 >= 0)\n",
    "@variable(sf_m, s_3 >= 0)\n",
    "@variable(sf_m, s_4 >= 0)\n",
    "@variable(sf_m, s_5 >= 0)\n",
    "\n",
    "@constraint(sf_m, (x_1 - 1) + s_1 == 5)\n",
    "@constraint(sf_m, (x_4 - 1) + s_2 == 5)\n",
    "@constraint(sf_m, (x_5 - 2) + s_3 == 2)\n",
    "@constraint(sf_m, (x_1 - 1) - 6(x_2-x_3) + (x_4 - 1) - (x_5 - 2) + s_4 == 3)\n",
    "@constraint(sf_m, 7(x_2-x_3) + (x_5 - 2) == 5)\n",
    "@constraint(sf_m, (x_4 - 1) + (x_5 - 2) + s_5 == 2)\n",
    "\n",
    "@objective(sf_m, Min, -3(x_1 - 1) + (x_2-x_3))\n",
    "\n",
    "status = solve(sf_m)\n",
    "\n",
    "println(status)\n",
    "println()\n",
    "println(\"z1: \", getvalue((x_1 - 1)))\n",
    "println(\"z2: \", getvalue((x_2-x_3)))\n",
    "println(\"z3: \", getvalue((x_4 - 1)))\n",
    "println(\"z4: \", getvalue((x_5 - 2)))\n",
    "println(\"Max: \", -getobjectivevalue(sf_m))\n",
    "sf_m"
   ]
  },
  {
   "cell_type": "markdown",
   "metadata": {},
   "source": [
    "## Standard Form (compact)"
   ]
  },
  {
   "cell_type": "code",
   "execution_count": 4,
   "metadata": {
    "collapsed": false
   },
   "outputs": [
    {
     "name": "stdout",
     "output_type": "stream",
     "text": [
      "Optimal\n",
      "\n",
      "z1: 5.0\n",
      "z2: 0.42857142857142855\n",
      "z3: -1.0\n",
      "z4: 2.0\n",
      "Max: 14.571428571428573\n"
     ]
    },
    {
     "data": {
      "text/latex": [
       "$$ \\begin{alignat*}{1}\\min\\quad & -3 x_{1} + x_{2} - x_{3}\\\\\n",
       "\\text{Subject to} \\quad & x_{1} + x_{6} = 6\\\\\n",
       " & x_{4} + x_{7} = 6\\\\\n",
       " & x_{5} + x_{8} = 4\\\\\n",
       " & x_{1} - 6 x_{2} + 6 x_{3} + x_{4} - x_{5} + x_{9} = 3\\\\\n",
       " & 7 x_{2} - 7 x_{3} + x_{5} = 7\\\\\n",
       " & x_{4} + x_{5} + x_{10} = 5\\\\\n",
       " & x_{i} \\geq 0 \\quad\\forall i \\in \\{1,2,\\dots,9,10\\}\\\\\n",
       "\\end{alignat*}\n",
       " $$"
      ],
      "text/plain": [
       "Minimization problem with:\n",
       " * 6 linear constraints\n",
       " * 10 variables\n",
       "Solver is default solver"
      ]
     },
     "execution_count": 4,
     "metadata": {},
     "output_type": "execute_result"
    }
   ],
   "source": [
    "#  x = [x_1; x_2; x_3; x_4; x_5; s_1; s_2; s_3; s_4; s_5]\n",
    "A = [1 0 0 0 0 1 0 0 0 0;\n",
    "      0 0 0 1 0 0 1 0 0 0; \n",
    "      0 0 0 0 1 0 0 1 0 0; \n",
    "      1 -6 6 1 -1 0 0 0 1 0;\n",
    "      0 7 -7 0 1 0 0 0 0 0;\n",
    "      0 0 0 1 1 0 0 0 0 1;]\n",
    "b = [6; 6; 4; 3; 7; 5]\n",
    "c = [-3; 1; -1; 0; 0; 0; 0; 0; 0; 0]\n",
    "\n",
    "sfc_m = Model()\n",
    "\n",
    "@variable(sfc_m, x[1:10] >= 0)\n",
    "@constraint(sfc_m, A*x .== b )      # the dot in front of ==, which indicates element-wise (vector) inequalities\n",
    "@objective(sfc_m, Min, dot(c,x) )   # must use dot(c,x) or (c'*x)[1] to return a scalar\n",
    "\n",
    "status = solve(sfc_m)\n",
    "\n",
    "println(status)\n",
    "println()\n",
    "println(\"z1: \", getvalue((x[1] - 1)))\n",
    "println(\"z2: \", getvalue((x[2]-x[3])))\n",
    "println(\"z3: \", getvalue((x[4] - 1)))\n",
    "println(\"z4: \", getvalue((x[5] - 2)))\n",
    "println(\"Max: \", -(getobjectivevalue(sfc_m)+3))\n",
    "sfc_m"
   ]
  },
  {
   "cell_type": "markdown",
   "metadata": {},
   "source": [
    "##  "
   ]
  }
 ],
 "metadata": {
  "kernelspec": {
   "display_name": "Julia 0.5.0",
   "language": "julia",
   "name": "julia-0.5"
  },
  "language_info": {
   "file_extension": ".jl",
   "mimetype": "application/julia",
   "name": "julia",
   "version": "0.5.0"
  }
 },
 "nbformat": 4,
 "nbformat_minor": 2
}
