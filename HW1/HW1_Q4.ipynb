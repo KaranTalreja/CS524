{
 "cells": [
  {
   "cell_type": "markdown",
   "metadata": {},
   "source": [
    "# Homework-1 Question-4"
   ]
  },
  {
   "cell_type": "markdown",
   "metadata": {},
   "source": [
    "## Alloy Bending\n",
    "The company Steelco has received an order for 500 tons of steel to be used\n",
    "in shipbuilding. The steel must have the following characteristics:\n",
    "\n",
    "Chemical Element | Minimum Grade (%) | Maximum Grade (%)\n",
    "--- | --- | --- \n",
    "Carbon (C) | 2 | 3\n",
    "Copper (Cu) | 0.4 | 0.6\n",
    "Manganese (Mn) | 1.2 | 1.65\n",
    "\n",
    "The company has seven different raw materials in stock that may be used for the production of this\n",
    "steel. The following table lists the grades, available amounts and prices for all materials:\n",
    "\n",
    "Raw Material | C%  | Cu% | Mn% | Availability in tons | Cost in $/ton\n",
    "-------------| --- | ----|-----|------|----\n",
    "Iron alloy 1 | 2.5 |     | 1.3 | 400  | 200\n",
    "Iron alloy 2 | 3   |     | 0.8 | 300  | 250\n",
    "Iron alloy 3 |     | 0.3 |     | 600  | 150\n",
    "Copper 1     |     | 90  |     | 500  | 220\n",
    "Copper 2     |     | 96  | 4   | 200  | 240\n",
    "Aluminum 1   |     | 0.4 | 1.2 | 300  | 200\n",
    "Aluminum 2   |     | 0.6 |     | 250  | 165"
   ]
  },
  {
   "cell_type": "markdown",
   "metadata": {},
   "source": [
    "## Problem Data"
   ]
  },
  {
   "cell_type": "code",
   "execution_count": 1,
   "metadata": {
    "collapsed": false,
    "scrolled": false
   },
   "outputs": [
    {
     "name": "stdout",
     "output_type": "stream",
     "text": [
      "7×3 Named Array{Float64,2}\n",
      "raw_materials ╲ elements │    Carbon     Copper  Manganese\n",
      "─────────────────────────┼────────────────────────────────\n",
      "IronAlloy1               │     0.025        0.0      0.013\n",
      "IronAlloy2               │      0.03        0.0      0.008\n",
      "IronAlloy3               │       0.0      0.003        0.0\n",
      "Copper1                  │       0.0        0.9        0.0\n",
      "Copper2                  │       0.0       0.96       0.04\n",
      "Aluminium1               │       0.0      0.004      0.012\n",
      "Aluminium2               │       0.0      0.006        0.0\n"
     ]
    }
   ],
   "source": [
    "# raw materials list, Iron Alloy1,2,3, Copper 1,2, Aluminium 1,2\n",
    "raw_materials = [:IronAlloy1, :IronAlloy2, :IronAlloy3, :Copper1, :Copper2, :Aluminium1, :Aluminium2]\n",
    "\n",
    "# elements in the steel\n",
    "elements = [:Carbon, :Copper, :Manganese]\n",
    "\n",
    "# cost of each raw material\n",
    "cost = Dict(zip(raw_materials, [200, 250, 150, 220, 240, 200, 165]))\n",
    "\n",
    "# availability of each raw material\n",
    "availability = Dict(zip(raw_materials, [400, 300, 600, 500, 200, 300, 250]))\n",
    "\n",
    "# weight of elements as per 500 tons of final steel, respecting min and max grades required\n",
    "min_grade = Dict(zip(elements, [0.02, 0.004, 0.012].*500))\n",
    "max_grade = Dict(zip(elements, [0.03, 0.006, 0.0165].*500))\n",
    "\n",
    "# (raw_materials, elements)\n",
    "using NamedArrays\n",
    "# Composition matrix raw_materials vs elements\n",
    "composition_mat = [0.025 0      0.013\n",
    "                   0.03  0      0.008\n",
    "                   0     0.003  0\n",
    "                   0     0.9    0\n",
    "                   0     0.96   0.04\n",
    "                   0     0.004  0.012\n",
    "                   0     0.006  0]\n",
    "\n",
    "composition = NamedArray( composition_mat, (raw_materials,elements), (\"raw_materials\",\"elements\") )\n",
    "println(composition)"
   ]
  },
  {
   "cell_type": "markdown",
   "metadata": {},
   "source": [
    "## Problem Model"
   ]
  },
  {
   "cell_type": "code",
   "execution_count": 3,
   "metadata": {
    "collapsed": false,
    "scrolled": false
   },
   "outputs": [
    {
     "name": "stdout",
     "output_type": "stream",
     "text": [
      "Minimum Cost: $98121.63579168124\n",
      "quantities: 1 dimensions:\n",
      "[IronAlloy1] = 400.0\n",
      "[IronAlloy2] = 0.0\n",
      "[IronAlloy3] = 39.77630199231039\n",
      "[   Copper1] = 0.0\n",
      "[   Copper2] = 2.761272282418735\n",
      "[Aluminium1] = 57.462425725270876\n",
      "[Aluminium2] = 0.0\n",
      "\n",
      "Min 200 quantities[IronAlloy1] + 250 quantities[IronAlloy2] + 150 quantities[IronAlloy3] + 220 quantities[Copper1] + 240 quantities[Copper2] + 200 quantities[Aluminium1] + 165 quantities[Aluminium2]\n",
      "Subject to\n",
      " quantities[IronAlloy1] + quantities[IronAlloy2] + quantities[IronAlloy3] + quantities[Copper1] + quantities[Copper2] + quantities[Aluminium1] + quantities[Aluminium2] = 500\n",
      " quantities[IronAlloy1] ≤ 400\n",
      " quantities[IronAlloy2] ≤ 300\n",
      " quantities[IronAlloy3] ≤ 600\n",
      " quantities[Copper1] ≤ 500\n",
      " quantities[Copper2] ≤ 200\n",
      " quantities[Aluminium1] ≤ 300\n",
      " quantities[Aluminium2] ≤ 250\n",
      " 0.025 quantities[IronAlloy1] + 0.03 quantities[IronAlloy2] ≥ 10\n",
      " 0.003 quantities[IronAlloy3] + 0.9 quantities[Copper1] + 0.96 quantities[Copper2] + 0.004 quantities[Aluminium1] + 0.006 quantities[Aluminium2] ≥ 2\n",
      " 0.013 quantities[IronAlloy1] + 0.008 quantities[IronAlloy2] + 0.04 quantities[Copper2] + 0.012 quantities[Aluminium1] ≥ 6\n",
      " 0.025 quantities[IronAlloy1] + 0.03 quantities[IronAlloy2] ≤ 15\n",
      " 0.003 quantities[IronAlloy3] + 0.9 quantities[Copper1] + 0.96 quantities[Copper2] + 0.004 quantities[Aluminium1] + 0.006 quantities[Aluminium2] ≤ 3\n",
      " 0.013 quantities[IronAlloy1] + 0.008 quantities[IronAlloy2] + 0.04 quantities[Copper2] + 0.012 quantities[Aluminium1] ≤ 8.25\n",
      " quantities[i] ≥ 0 ∀ i ∈ {IronAlloy1,IronAlloy2,…,Aluminium1,Aluminium2}\n",
      "\n"
     ]
    }
   ],
   "source": [
    "using JuMP\n",
    "\n",
    "m = Model()\n",
    "\n",
    "#Vectored variable to store quantities of all raw materials\n",
    "@variable(m, quantities[raw_materials] >=0)\n",
    "\n",
    "#Expressions for total cost of steel created and total quantity after mixing chosen raw materials\n",
    "@expression(m, total_cost, sum(cost[r]*quantities[r] for r in raw_materials))\n",
    "@expression(m, total_quantity, sum(quantities[r] for r in raw_materials))\n",
    "\n",
    "@constraint(m, total_quantity == 500)  # Total quantity should meet the demand of 500 tons\n",
    "                        \n",
    "# Constraint on quantities of raw materials to be less than the available raw materials\n",
    "@constraint(m, avail_constr[r in raw_materials], quantities[r] <= availability[r])\n",
    "                        \n",
    "# Constraint on min and max grade of elements required in the final 500 ton steel\n",
    "@constraint(m, min_grade_constr[e in elements],\n",
    "               sum(composition[r,e]*quantities[r] for r in raw_materials)\n",
    "               >= min_grade[e] )\n",
    "@constraint(m, max_grade_constr[e in elements],\n",
    "               sum(composition[r,e]*quantities[r] for r in raw_materials)\n",
    "               <= max_grade[e] )\n",
    "        \n",
    "@objective(m, Min, total_cost)  # Objective to minimize the final cost\n",
    "solve(m)\n",
    "println(\"Minimum Cost: \\$\", getobjectivevalue(m))\n",
    "println(getvalue(quantities))\n",
    "println(m)"
   ]
  },
  {
   "cell_type": "markdown",
   "metadata": {},
   "source": [
    "The minimum cost found by the model comes out to be \\$98121.63. The final quantities used of all alloys is as mentioned in the output of previous cell."
   ]
  }
 ],
 "metadata": {
  "kernelspec": {
   "display_name": "Julia 0.5.0",
   "language": "julia",
   "name": "julia-0.5"
  },
  "language_info": {
   "file_extension": ".jl",
   "mimetype": "application/julia",
   "name": "julia",
   "version": "0.5.0"
  }
 },
 "nbformat": 4,
 "nbformat_minor": 2
}
