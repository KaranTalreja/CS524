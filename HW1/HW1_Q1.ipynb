{
 "cells": [
  {
   "cell_type": "markdown",
   "metadata": {},
   "source": [
    "# Homework-1 Question-1 : Warm Up"
   ]
  },
  {
   "cell_type": "markdown",
   "metadata": {},
   "source": [
    "\\begin{equation*}\n",
    "\\begin{aligned}\n",
    "& \\underset{x_1,x_2,x_3}{\\text{maximize}}\n",
    "& & 5x_1 − x_2 + 11x_3 \\\\\n",
    "& \\text{subject to}:\n",
    "& & 2x_1 ≥ x_2 + x_3 \\\\\n",
    "& & & 0 \\le x_j \\le 3,  j \\in {1,2,3}.\n",
    "\\end{aligned}\n",
    "\\end{equation*}"
   ]
  },
  {
   "cell_type": "code",
   "execution_count": 1,
   "metadata": {
    "collapsed": true
   },
   "outputs": [],
   "source": [
    "using JuMP"
   ]
  },
  {
   "cell_type": "code",
   "execution_count": 2,
   "metadata": {
    "collapsed": false
   },
   "outputs": [],
   "source": [
    "function printStatus(status, x_1, x_2, x_3)    \n",
    "    println(status)\n",
    "    println(\"x1: \", getvalue(x_1))\n",
    "    println(\"x2: \", getvalue(x_2))\n",
    "    println(\"x3: \", getvalue(x_3))\n",
    "    println(\"Max: \", getobjectivevalue(m))\n",
    "end;"
   ]
  },
  {
   "cell_type": "code",
   "execution_count": 3,
   "metadata": {
    "collapsed": false
   },
   "outputs": [
    {
     "data": {
      "text/latex": [
       "$$ \\begin{alignat*}{1}\\max\\quad & 5 x_1 - x_2 + 11 x_3\\\\\n",
       "\\text{Subject to} \\quad & 2 x_1 - x_2 - x_3 \\geq 0\\\\\n",
       " & 0 \\leq x_1 \\leq 3\\\\\n",
       " & 0 \\leq x_2 \\leq 3\\\\\n",
       " & 0 \\leq x_3 \\leq 3\\\\\n",
       "\\end{alignat*}\n",
       " $$"
      ],
      "text/plain": [
       "Maximization problem with:\n",
       " * 1 linear constraint\n",
       " * 3 variables\n",
       "Solver is default solver"
      ]
     },
     "execution_count": 3,
     "metadata": {},
     "output_type": "execute_result"
    }
   ],
   "source": [
    "m = Model()\n",
    "\n",
    "@variable(m, 0 <= x_1 <= 3)\n",
    "@variable(m, 0 <= x_2 <= 3)\n",
    "@variable(m, 0 <= x_3 <= 3)\n",
    "\n",
    "@constraint(m, 2x_1 >= x_2 + x_3)\n",
    "\n",
    "@objective(m, Max, 5x_1 - x_2 + 11x_3)\n",
    "\n",
    "m"
   ]
  },
  {
   "cell_type": "code",
   "execution_count": 4,
   "metadata": {
    "collapsed": false
   },
   "outputs": [
    {
     "name": "stdout",
     "output_type": "stream",
     "text": [
      "  4.953629 seconds (2.93 M allocations: 122.641 MB, 1.46% gc time)\n",
      "Optimal\n",
      "x1: 3.0\n",
      "x2: 0.0\n",
      "x3: 3.0\n",
      "Max: 48.0\n"
     ]
    }
   ],
   "source": [
    "using Clp\n",
    "setsolver(m, ClpSolver())\n",
    "@time status = solve(m)\n",
    "\n",
    "printStatus(status, x_1, x_2, x_3)"
   ]
  },
  {
   "cell_type": "code",
   "execution_count": 5,
   "metadata": {
    "collapsed": false
   },
   "outputs": [
    {
     "name": "stdout",
     "output_type": "stream",
     "text": [
      " \n",
      "ECOS 2.0.5 - (C) embotech GmbH, Zurich Switzerland, 2012-15. Web: www.embotech.com/ECOS\n",
      "\n",
      "It     pcost       dcost      gap   pres   dres    k/t    mu     step   sigma     IR    |   BT\n",
      " 0  -2.250e+01  -8.440e+01  +1e+02  2e-01  3e-01  1e+00  1e+01    ---    ---    1  1  - |  -  - \n",
      " 1  -4.615e+01  -5.603e+01  +2e+01  2e-02  6e-02  7e-01  3e+00  0.8410  6e-02   0  0  0 |  0  0\n",
      " 2  -4.726e+01  -4.850e+01  +3e+00  3e-03  8e-03  2e-01  4e-01  0.9283  7e-02   0  0  0 |  0  0\n",
      " 3  -4.799e+01  -4.803e+01  +8e-02  1e-04  2e-04  7e-03  1e-02  0.9798  9e-03   1  0  0 |  0  0\n",
      " 4  -4.800e+01  -4.800e+01  +9e-04  1e-06  3e-06  8e-05  1e-04  0.9890  1e-04   1  0  0 |  0  0\n",
      " 5  -4.800e+01  -4.800e+01  +9e-06  1e-08  3e-08  9e-07  1e-06  0.9890  1e-04   1  0  0 |  0  0\n",
      " 6  -4.800e+01  -4.800e+01  +1e-07  1e-10  3e-10  1e-08  1e-08  0.9890  1e-04   1  0  0 |  0  0\n",
      "\n",
      "OPTIMAL (within feastol=3.3e-10, reltol=2.2e-09, abstol=1.0e-07).\n",
      "Runtime: 0.000173 seconds.\n",
      "\n",
      " 2.700640 seconds (1.72 M allocations: 65.123 MB, 1.19% gc time)\n",
      "Optimal\n",
      "x1: 2.999999998571697\n",
      "x2: 8.223270011736391e-9\n",
      "x3: 3.0000000001977236\n",
      "Max: 47.999999986810174\n"
     ]
    }
   ],
   "source": [
    "using ECOS\n",
    "\n",
    "setsolver(m, ECOSSolver())\n",
    "@time status = solve(m)\n",
    "\n",
    "printStatus(status, x_1, x_2, x_3)"
   ]
  },
  {
   "cell_type": "code",
   "execution_count": 6,
   "metadata": {
    "collapsed": false
   },
   "outputs": [
    {
     "name": "stdout",
     "output_type": "stream",
     "text": [
      " ----------------------------------------------------------------------------\n",
      "\tSCS v1.1.8 - Splitting Conic Solver\n",
      "\t(c) Brendan O'Donoghue, Stanford University, 2012-2015\n",
      "----------------------------------------------------------------------------\n",
      "Lin-sys: sparse-direct, nnz in A = 9\n",
      "eps = 1.00e-04, alpha = 1.80, max_iters = 20000, normalize = 1, scale = 5.00\n",
      "Variables n = 3, constraints m = 7\n",
      "Cones:\tlinear vars: 7\n",
      "Setup time: 8.24e-05s\n",
      "----------------------------------------------------------------------------\n",
      " Iter | pri res | dua res | rel gap | pri obj | dua obj | kap/tau | time (s)\n",
      "----------------------------------------------------------------------------\n",
      "     0|      inf       inf      -nan      -inf      -nan       inf  3.99e-05 \n",
      "   100| 8.00e-05  1.91e-04  8.48e-06 -4.80e+01 -4.80e+01  2.69e-15  1.18e-04 \n",
      "   140| 4.49e-06  2.70e-06  1.09e-07 -4.80e+01 -4.80e+01  0.00e+00  1.52e-04 \n",
      "----------------------------------------------------------------------------\n",
      "Status: Solved\n",
      "Timing: Solve time: 1.58e-04s\n",
      "\tLin-sys: nnz in L factor: 19, avg solve time: 2.68e-07s\n",
      "\tCones: avg projection time: 7.32e-08s\n",
      "----------------------------------------------------------------------------\n",
      "Error metrics:\n",
      "dist(s, K) = 1.3565e-17, dist(y, K*) = 0.0000e+00, s'y/m = -9.2050e-18\n",
      "|Ax + s - b|_2 / (1 + |b|_2) = 4.4865e-06\n",
      "|A'y + c|_2 / (1 + |c|_2) = 2.7040e-06\n",
      "|c'x + b'y| / (1 + |c'x| + |b'y|) = 1.0946e-07\n",
      "----------------------------------------------------------------------------\n",
      "c'x = -48.0001, -b'y = -48.0001\n",
      "============================================================================\n",
      " 3.491708 seconds (2.05 M allocations: 82.886 MB, 1.13% gc time)\n",
      "Optimal\n",
      "x1: 2.999985652990818\n",
      "x2: 4.149724928776938e-6\n",
      "x3: 3.0000130627112176\n",
      "Max: 48.00006780505256\n"
     ]
    }
   ],
   "source": [
    "using SCS\n",
    "\n",
    "setsolver(m, SCSSolver())\n",
    "@time status = solve(m)\n",
    "\n",
    "printStatus(status, x_1, x_2, x_3)"
   ]
  }
 ],
 "metadata": {
  "kernelspec": {
   "display_name": "Julia 0.5.0",
   "language": "julia",
   "name": "julia-0.5"
  },
  "language_info": {
   "file_extension": ".jl",
   "mimetype": "application/julia",
   "name": "julia",
   "version": "0.5.0"
  }
 },
 "nbformat": 4,
 "nbformat_minor": 2
}
