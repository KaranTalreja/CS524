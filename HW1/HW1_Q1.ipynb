{
 "cells": [
  {
   "cell_type": "markdown",
   "metadata": {},
   "source": [
    "# Homework-1 Question-1 : Warm Up"
   ]
  },
  {
   "cell_type": "markdown",
   "metadata": {},
   "source": [
    "\\begin{equation*}\n",
    "\\begin{aligned}\n",
    "& \\underset{x_1,x_2,x_3}{\\text{maximize}}\n",
    "& & 5x_1 − x_2 + 11x_3 \\\\\n",
    "& \\text{subject to}:\n",
    "& & 2x_1 ≥ x_2 + x_3 \\\\\n",
    "& & & 0 \\le x_j \\le 3,  j \\in {1,2,3}.\n",
    "\\end{aligned}\n",
    "\\end{equation*}"
   ]
  },
  {
   "cell_type": "code",
   "execution_count": 1,
   "metadata": {
    "collapsed": false
   },
   "outputs": [],
   "source": [
    "# Print Status helper function\n",
    "function printStatus(status, x_1, x_2, x_3)    \n",
    "    println(status)\n",
    "    println(\"x1: \", getvalue(x_1))\n",
    "    println(\"x2: \", getvalue(x_2))\n",
    "    println(\"x3: \", getvalue(x_3))\n",
    "    println(\"Max: \", getobjectivevalue(m))\n",
    "end;"
   ]
  },
  {
   "cell_type": "markdown",
   "metadata": {},
   "source": [
    "### Problem Model"
   ]
  },
  {
   "cell_type": "code",
   "execution_count": 2,
   "metadata": {
    "collapsed": false
   },
   "outputs": [
    {
     "data": {
      "text/latex": [
       "$$ \\begin{alignat*}{1}\\max\\quad & 5 x_1 - x_2 + 11 x_3\\\\\n",
       "\\text{Subject to} \\quad & 2 x_1 - x_2 - x_3 \\geq 0\\\\\n",
       " & 0 \\leq x_1 \\leq 3\\\\\n",
       " & 0 \\leq x_2 \\leq 3\\\\\n",
       " & 0 \\leq x_3 \\leq 3\\\\\n",
       "\\end{alignat*}\n",
       " $$"
      ],
      "text/plain": [
       "Maximization problem with:\n",
       " * 1 linear constraint\n",
       " * 3 variables\n",
       "Solver is default solver"
      ]
     },
     "execution_count": 2,
     "metadata": {},
     "output_type": "execute_result"
    }
   ],
   "source": [
    "using JuMP\n",
    "m = Model()\n",
    "\n",
    "@variable(m, 0 <= x_1 <= 3)\n",
    "@variable(m, 0 <= x_2 <= 3)\n",
    "@variable(m, 0 <= x_3 <= 3)\n",
    "\n",
    "@constraint(m, 2x_1 >= x_2 + x_3)\n",
    "\n",
    "status = solve(m)\n",
    "\n",
    "@objective(m, Max, 5x_1 - x_2 + 11x_3)  # Maximize function\n",
    "\n",
    "m"
   ]
  },
  {
   "cell_type": "code",
   "execution_count": 3,
   "metadata": {
    "collapsed": false
   },
   "outputs": [
    {
     "name": "stdout",
     "output_type": "stream",
     "text": [
      "Best time:0.000129084\n",
      "Optimal\n",
      "x1: 3.0\n",
      "x2: 0.0\n",
      "x3: 3.0\n",
      "Max: 48.0\n"
     ]
    }
   ],
   "source": [
    "# Using Clp as solver\n",
    "using Clp\n",
    "setsolver(m, ClpSolver(LogLevel=0))\n",
    "best_time = minimum( [ @elapsed solve(m) for i in 1:10 ] )\n",
    "\n",
    "status = solve(m)\n",
    "println(\"Best time:\", best_time)\n",
    "printStatus(status, x_1, x_2, x_3)"
   ]
  },
  {
   "cell_type": "code",
   "execution_count": 4,
   "metadata": {
    "collapsed": false
   },
   "outputs": [
    {
     "name": "stdout",
     "output_type": "stream",
     "text": [
      "Best time:0.000393042\n",
      "Optimal\n",
      "x1: 2.999999998571697\n",
      "x2: 8.223270011736391e-9\n",
      "x3: 3.0000000001977236\n",
      "Max: 47.999999986810174\n"
     ]
    }
   ],
   "source": [
    "using ECOS\n",
    "\n",
    "setsolver(m, ECOSSolver(verbose=0))\n",
    "best_time = minimum( [ @elapsed solve(m) for i in 1:10 ] )\n",
    "\n",
    "status = solve(m)\n",
    "println(\"Best time:\", best_time)\n",
    "printStatus(status, x_1, x_2, x_3)"
   ]
  },
  {
   "cell_type": "code",
   "execution_count": 5,
   "metadata": {
    "collapsed": false
   },
   "outputs": [
    {
     "name": "stdout",
     "output_type": "stream",
     "text": [
      "Best time:0.000449825\n",
      "Optimal\n",
      "x1: 2.999985652990818\n",
      "x2: 4.149724928776938e-6\n",
      "x3: 3.0000130627112176\n",
      "Max: 48.00006780505256\n"
     ]
    }
   ],
   "source": [
    "using SCS\n",
    "\n",
    "setsolver(m, SCSSolver(verbose=0))\n",
    "best_time = minimum( [ @elapsed solve(m) for i in 1:10 ] )\n",
    "\n",
    "status = solve(m)\n",
    "println(\"Best time:\", best_time)\n",
    "printStatus(status, x_1, x_2, x_3)"
   ]
  },
  {
   "cell_type": "markdown",
   "metadata": {},
   "source": [
    "### Accuracy"
   ]
  },
  {
   "cell_type": "markdown",
   "metadata": {},
   "source": [
    "Considering the objective of maximizing the provided function, SCS solver achieves the highest objective value. But this is only higher than the other solver's objective value by a order of $10^{-5}$. All of the three solvers converge to the same maximum of 48.0 with deviation of a order of $10^{-6}$."
   ]
  },
  {
   "cell_type": "markdown",
   "metadata": {},
   "source": [
    "### Performance "
   ]
  },
  {
   "cell_type": "markdown",
   "metadata": {},
   "source": [
    "Clp Solver is the fastest among the three solvers. Clp is specifically designed for a very specific type of problem which is to solve Linear Programming problems. Whereas the other solvers are more general and can solve other more complex problems. This is very common trade-off seen between functionality and performance. More the functionality the performance usually go down."
   ]
  }
 ],
 "metadata": {
  "kernelspec": {
   "display_name": "Julia 0.5.0",
   "language": "julia",
   "name": "julia-0.5"
  },
  "language_info": {
   "file_extension": ".jl",
   "mimetype": "application/julia",
   "name": "julia",
   "version": "0.5.0"
  }
 },
 "nbformat": 4,
 "nbformat_minor": 2
}
