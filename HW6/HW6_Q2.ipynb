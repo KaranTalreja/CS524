{
 "cells": [
  {
   "cell_type": "markdown",
   "metadata": {},
   "source": [
    "# Homework 6 Question 2: Hyperbolic program\n",
    "In this problem, we start with a problem that doesn’t appear to be\n",
    "convex and show that it is in fact convex by converting it into an SOCP."
   ]
  },
  {
   "cell_type": "markdown",
   "metadata": {},
   "source": [
    "__a) Recall from class that for any w ∈ $R^n$ and $x_o$, y ∈ R, the following constraints are equivalent:__\n",
    "\n",
    "$$\n",
    "w^Tw \\leq x_oy, x_o \\geq 0, y \\geq 0 \\iff || \\begin{bmatrix}\n",
    "    2w \\\\\n",
    "    x_o-y \\\\\n",
    "\\end{bmatrix} || \\leq x_o + y\n",
    "$$\n",
    "\n",
    "__Suppose we have an optimization problem with variables t ≥ 0 and x ∈ $R^n$. Express the constraint:\n",
    "$t(a^Tx + b_o) ≥ 1$ as a second-order cone constraint. Specifically, write the constraint in the form\n",
    "$||Ax + b|| ≤ c^Tx + d$. What are $A, b, c, d, x$?__"
   ]
  },
  {
   "cell_type": "markdown",
   "metadata": {},
   "source": [
    "Equation $t(a^Tx + b_o) \\geq 1 $ can be represented as $w^Tw \\leq x_oy$ by using following substitutions.\n",
    "\n",
    "$$x_o = a^Tx+b_o$$\n",
    "$$y = t$$\n",
    "\n",
    "$$w = [1]$$ a 1x1 matrix such that $$w^Tw = 1$$\n",
    "\n",
    "Now the same equation $w^Tw \\leq x_oy$ can be written as an SOCP $$|| \\begin{bmatrix}\n",
    "    2w \\\\\n",
    "    x_o-y \\\\\n",
    "\\end{bmatrix} || \\leq x_o + y $$\n",
    "\n",
    "Which is equivalent to $$ || \\begin{bmatrix}\n",
    "    2[1] \\\\\n",
    "    a^Tx + b_o - t \\\\\n",
    "\\end{bmatrix} || \\leq a^Tx + b_o + t\n",
    "$$\n",
    "\n",
    "To convert the above equation to the standard form of $$||Ax + b|| ≤ c^Tx + d $$ the following substitutions are done based on the dimension of the matrices\n",
    "\n",
    "$$\n",
    "|| \\begin{bmatrix}\n",
    "    0 \\\\\n",
    "    a^T\\\\\n",
    "\\end{bmatrix}x + \\begin{bmatrix}\n",
    "    2[1] \\\\ \n",
    "    b_o - t \\\\\n",
    "    \\end{bmatrix} || \\leq a^Tx + b_o + t\n",
    "$$\n",
    "\n",
    "Finally to answer the question, $$A = \\begin{bmatrix}\n",
    "    0 \\\\\n",
    "    a^T\\\\\n",
    "\\end{bmatrix}$$\n",
    "\n",
    "$$b = \\begin{bmatrix}\n",
    "    2[1] \\\\ \n",
    "    b_o - t \\\\\n",
    "    \\end{bmatrix} $$\n",
    "    \n",
    "$$ c = a $$\n",
    "\n",
    "$$ d = b_o + t$$\n",
    "\n",
    "$$ x = x$$\n",
    "\n",
    "A is a 2xn matrix, where first row is zero. b is a 2x1 vector. c is of the same dimension as of a."
   ]
  },
  {
   "cell_type": "markdown",
   "metadata": {},
   "source": [
    "__b) Consider the following hyperbolic optimization problem (note the nonlinear objective):\n",
    "\\begin{equation*}\n",
    "\\begin{aligned}\n",
    "& \\underset{x}{\\text{minimize}}\n",
    "& & \\sum_{i=1}^{p} 1/(a_i^Tx + b_i) \\\\\n",
    "& \\text{subject to}:\n",
    "& & a_i^Tx + b_i > 0, i = 1,...,p\\\\\n",
    "& & & c_j^Tx + d_j \\geq 0, j = 1,...,q.\n",
    "\\end{aligned}\n",
    "\\end{equation*}\n",
    "Write this optimization problem as an SOCP.__"
   ]
  },
  {
   "cell_type": "markdown",
   "metadata": {
    "collapsed": true
   },
   "source": [
    "For all the expressions $$a_i^Tx + b_i > 0, i = 1,...,p$$ I take an auxillary variable $t_i \\geq 0,  i =1,...,p$ and modify the given constraint as $$a_i^Tx + b_i + 1 > 1, i = 1,...,p$$\n",
    "\n",
    "Also the objective will now chage to $$sum_{i=1}^{p} 1/(a_i^Tx + b_i + 1)$$. This addition doesn't scale the objective function in any ways but just shifts the function by 1. The optimal value of x can be calculated by solving this function and just shifting it back. \n",
    "\n",
    "Now the optimization model can have the following constraint $$t_i(a_i^Tx + b_i + 1) >= 1,   i =1,...,p$$\n",
    "\n",
    "This constraint is equivalent to the one solve in part a). Using the constraint just added and the new objective function the given optimization problem is converted to the following which uses SOCP.\n",
    "\n",
    "\\begin{equation*}\n",
    "\\begin{aligned}\n",
    "& \\underset{x}{\\text{minimize}}\n",
    "& & \\sum_{i=1}^{p} t_i \\\\\n",
    "& \\text{subject to}:\n",
    "& & || \\begin{bmatrix}\n",
    "    0 \\\\\n",
    "    a_i^T\\\\\n",
    "\\end{bmatrix}x + \\begin{bmatrix}\n",
    "    2[1] \\\\ \n",
    "    b_i - t_i \\\\\n",
    "    \\end{bmatrix} || \\leq a_i^Tx + b_i + t_i, i = 1,...,p \\\\\n",
    "& & & a_i^Tx + b_i > 0, i = 1,...,p\\\\\n",
    "& & & c_j^Tx + d_j \\geq 0, j = 1,...,q.\n",
    "\\end{aligned}\n",
    "\\end{equation*}\n",
    "\n",
    "since $$t_i \\geq 1/(a_i^Tx + b_i + 1)$$ so minimizing t and the expression on the RHS is equivalent."
   ]
  },
  {
   "cell_type": "markdown",
   "metadata": {
    "collapsed": true
   },
   "source": [
    "The above problem is a standard SOCP problem, since the objective is a linear function and atleast one of the constraints is SOCP."
   ]
  }
 ],
 "metadata": {
  "kernelspec": {
   "display_name": "Julia 0.5.0",
   "language": "julia",
   "name": "julia-0.5"
  },
  "language_info": {
   "file_extension": ".jl",
   "mimetype": "application/julia",
   "name": "julia",
   "version": "0.5.0"
  }
 },
 "nbformat": 4,
 "nbformat_minor": 2
}
