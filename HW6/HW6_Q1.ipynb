{
 "cells": [
  {
   "cell_type": "markdown",
   "metadata": {},
   "source": [
    "# Homework 6 Question 1: The Huber Loss\n",
    "In statistics, we frequently encounter data sets containing outliers, which\n",
    "are bad data points arising from experimental error or abnormally high noise. Consider for example\n",
    "the following data set consisting of 15 pairs $(x, y)$.\n",
    "\n",
    "| | | | | | | | | | | | | | | |\n",
    "--- |--- |--- |--- |--- |--- |--- |--- |--- |--- |--- |--- |--- |--- |--- |---\n",
    "x |1 |2 |3 |4 |5 |6 |7 |8 |9 |10 |11 |12 |13 |14 |15\n",
    "y |6.31 |3.78 |24 |1.71 |2.99 |4.53 |2.11 |3.88 |4.67 |4.25 |2.06 |23 |1.58 |2.17 |0.02\n",
    "\n",
    "The y values corresponding to $x = 3$ and $x = 12$ are outliers because they are far outside the expected\n",
    "range of values for the experiment.\n",
    "\n",
    "__a) Compute the best linear fit to the data using an__ $\\ell_2$ __cost (least squares). In other words, we are\n",
    "looking for the a and b that minimize the expression:__\n",
    "\n",
    "$$\n",
    "        \\ell_2\\space cost: \\sum_{i=1}^{15}(y_i - ax_i -b)^2\n",
    "$$\n",
    "__Repeat the linear fit computation but this time exclude the outliers from your data set. On a\n",
    "single plot, show the data points and both linear fits. Explain the difference between both fits.__"
   ]
  },
  {
   "cell_type": "code",
   "execution_count": 1,
   "metadata": {
    "collapsed": false
   },
   "outputs": [],
   "source": [
    "x = linspace(1,15,15)\n",
    "y = [6.31 3.78 24 1.71 2.99 4.53 2.11 3.88 4.67 4.25 2.06 23 1.58 2.17 0.02]';"
   ]
  },
  {
   "cell_type": "markdown",
   "metadata": {},
   "source": [
    "### Least Squares"
   ]
  },
  {
   "cell_type": "code",
   "execution_count": 2,
   "metadata": {
    "collapsed": false
   },
   "outputs": [],
   "source": [
    "# order of polynomial to use \n",
    "k=1\n",
    "# fit using a function of the form f(x) = u1 x^k + u2 x^(k-1) + ... + uk x + u{k+1}\n",
    "n = length(x)\n",
    "A = zeros(n,k+1)\n",
    "for i = 1:n\n",
    "    for j = 1:k+1\n",
    "        A[i,j] = x[i]^(k+1-j)\n",
    "    end\n",
    "end"
   ]
  },
  {
   "cell_type": "code",
   "execution_count": 3,
   "metadata": {
    "collapsed": false
   },
   "outputs": [],
   "source": [
    "using JuMP, Gurobi\n",
    "import JuMP: GenericAffExpr\n",
    "\n",
    "# helper function defined to model linear constraints for absolute value in JuMP for array variables\n",
    "function abs_array{V<:GenericAffExpr}(v::Array{V})\n",
    "    m = first(first(v).vars).m\n",
    "    @variable(m, aux[1:length(v)] >= 0)\n",
    "    @constraint(m, aux .>= v)\n",
    "    @constraint(m, aux .>= -v)\n",
    "    return aux\n",
    "end;"
   ]
  },
  {
   "cell_type": "code",
   "execution_count": 4,
   "metadata": {
    "collapsed": false
   },
   "outputs": [
    {
     "name": "stdout",
     "output_type": "stream",
     "text": [
      "Optimal\n",
      "L2 Error: 27.08033949460119 Objective value: 733.3447871428841, Parameters learnt: [-0.290786,8.13029]\n"
     ]
    }
   ],
   "source": [
    "\n",
    "m = Model(solver=GurobiSolver(OutputFlag=0))\n",
    "@variable(m, u[1:k+1])\n",
    "@objective(m, Min, sum((y - A*u).^2))\n",
    "\n",
    "status = solve(m)\n",
    "uopt = getvalue(u)\n",
    "println(status)\n",
    "println(\"L2 Error: \",norm(y - A*uopt),\n",
    "    \" Objective value: \",getobjectivevalue(m),\", Parameters learnt: \", uopt)"
   ]
  },
  {
   "cell_type": "markdown",
   "metadata": {},
   "source": [
    "#### Plot"
   ]
  },
  {
   "cell_type": "code",
   "execution_count": 5,
   "metadata": {
    "collapsed": false
   },
   "outputs": [
    {
     "data": {
      "image/png": "[encoded data removed]",
      "text/plain": [
       "PyPlot.Figure(PyObject <matplotlib.figure.Figure object at 0x31934ce10>)"
      ]
     },
     "metadata": {},
     "output_type": "display_data"
    }
   ],
   "source": [
    "using PyPlot\n",
    "npts = 100\n",
    "xfine = linspace(0,15,npts)\n",
    "ffine = ones(npts)\n",
    "for j = 1:k\n",
    "    ffine = [ffine.*xfine ones(npts)] \n",
    "end\n",
    "yfine = ffine * uopt\n",
    "\n",
    "figure(figsize=(12,4))\n",
    "plot( x, y, \"r.\")\n",
    "plot( xfine, yfine, \"b-\");"
   ]
  },
  {
   "cell_type": "markdown",
   "metadata": {},
   "source": [
    "Cleaning the data by removing the enrty of $x=3$ and $x=12$"
   ]
  },
  {
   "cell_type": "code",
   "execution_count": 6,
   "metadata": {
    "collapsed": true
   },
   "outputs": [],
   "source": [
    "x_clean = [1 2 4 5 6 7 8 9 10 11 13 14 15]\n",
    "y_clean = [6.31 3.78 1.71 2.99 4.53 2.11 3.88 4.67 4.25 2.06 1.58 2.17 0.02]';"
   ]
  },
  {
   "cell_type": "markdown",
   "metadata": {},
   "source": [
    "### Least Squares"
   ]
  },
  {
   "cell_type": "code",
   "execution_count": 7,
   "metadata": {
    "collapsed": true
   },
   "outputs": [],
   "source": [
    "# order of polynomial to use \n",
    "k=1\n",
    "# fit using a function of the form f(x) = u1 x^k + u2 x^(k-1) + ... + uk x + u{k+1}\n",
    "n_clean = length(x_clean)\n",
    "A_clean = zeros(n_clean,k+1)\n",
    "for i = 1:n_clean\n",
    "    for j = 1:k+1\n",
    "        A_clean[i,j] = x_clean[i]^(k+1-j)\n",
    "    end\n",
    "end\n"
   ]
  },
  {
   "cell_type": "code",
   "execution_count": 8,
   "metadata": {
    "collapsed": false
   },
   "outputs": [
    {
     "name": "stdout",
     "output_type": "stream",
     "text": [
      "Optimal\n",
      "L2 Error: 4.528647342002823 Objective value: 20.508646748243223, Parameters learnt: [-0.236484,4.9916]\n"
     ]
    }
   ],
   "source": [
    "m = Model(solver=GurobiSolver(OutputFlag=0))\n",
    "@variable(m, u[1:k+1])\n",
    "@objective(m, Min, sum((y_clean - A_clean*u).^2))\n",
    "\n",
    "status = solve(m)\n",
    "uopt_clean = getvalue(u)\n",
    "println(status)\n",
    "println(\"L2 Error: \",norm(y_clean - A_clean*uopt_clean),\n",
    "    \" Objective value: \",getobjectivevalue(m),\", Parameters learnt: \", uopt_clean)"
   ]
  },
  {
   "cell_type": "markdown",
   "metadata": {},
   "source": [
    "#### Plot"
   ]
  },
  {
   "cell_type": "code",
   "execution_count": 9,
   "metadata": {
    "collapsed": false
   },
   "outputs": [
    {
     "data": {
      "image/png": "[encoded data removed]",
      "text/plain": [
       "PyPlot.Figure(PyObject <matplotlib.figure.Figure object at 0x319772990>)"
      ]
     },
     "metadata": {},
     "output_type": "display_data"
    }
   ],
   "source": [
    "using PyPlot\n",
    "npts = 100\n",
    "xfine = linspace(0,15,npts)\n",
    "ffine = ones(npts)\n",
    "for j = 1:k\n",
    "    ffine = [ffine.*xfine ones(npts)] \n",
    "end\n",
    "yfine = ffine * uopt\n",
    "\n",
    "xfine_clean = linspace(0,15,npts)\n",
    "ffine_clean = ones(npts)\n",
    "for j = 1:k\n",
    "    ffine_clean = [ffine_clean.*xfine_clean ones(npts)] \n",
    "end\n",
    "yfine_clean = ffine_clean * uopt_clean\n",
    "\n",
    "figure(figsize=(12,4))\n",
    "plot( x, y, \"r.\")\n",
    "plot( xfine, yfine, \"b-\",label=\"original\");\n",
    "plot( xfine_clean, yfine_clean, \"m-\", label=\"no_outlier\")\n",
    "legend();"
   ]
  },
  {
   "cell_type": "markdown",
   "metadata": {},
   "source": [
    "The difference between the two lines can be explained by the fact that the model for the clean data doesn't try to minmize the cost which it incurs due to the outliers which is pretty significant if it has to approximate the other 13 points."
   ]
  },
  {
   "cell_type": "markdown",
   "metadata": {},
   "source": [
    "__b) It’s not always practical to remove outliers from the data manually, so we’ll investigate ways of\n",
    "automatically dealing with outliers by changing our cost function. Find the best linear fit again\n",
    "(including the outliers), but this time use the__ $\\ell_1$ __cost function:__\n",
    "$$\n",
    "\\ell_1 \\space cost: \\sum_{i=1}^{15} | y_i − ax_i − b |\n",
    "$$\n",
    "__Include a plot containing the data and the best__ $\\ell_1$__ linear fit. Does the__ $\\ell_1$ __cost handle outliers\n",
    "better or worse than least squares? Explain why.__"
   ]
  },
  {
   "cell_type": "code",
   "execution_count": 10,
   "metadata": {
    "collapsed": false
   },
   "outputs": [
    {
     "name": "stdout",
     "output_type": "stream",
     "text": [
      "Optimal\n",
      "L2 Error: 28.17265589183952 Objective Value: 54.029999999999994, Parameters learnt: [-0.356,6.666]\n"
     ]
    }
   ],
   "source": [
    "m = Model(solver=GurobiSolver(OutputFlag=0))\n",
    "@variable(m, uopt_norm1[1:k+1])\n",
    "@objective(m, Min, sum(abs_array(y - A*uopt_norm1)))\n",
    "\n",
    "status = solve(m)\n",
    "uopt_L1 = getvalue(uopt_norm1)\n",
    "println(status)\n",
    "println(\"L2 Error: \",norm(y - A*uopt_L1),\" Objective Value: \",getobjectivevalue(m),\n",
    "    \", Parameters learnt: \", uopt_L1)"
   ]
  },
  {
   "cell_type": "code",
   "execution_count": 11,
   "metadata": {
    "collapsed": false
   },
   "outputs": [
    {
     "data": {
      "image/png": "[encoded data removed]",
      "text/plain": [
       "PyPlot.Figure(PyObject <matplotlib.figure.Figure object at 0x319c010d0>)"
      ]
     },
     "metadata": {},
     "output_type": "display_data"
    }
   ],
   "source": [
    "xfine_L1 = linspace(0,15,npts)\n",
    "ffine_L1 = ones(npts)\n",
    "for j = 1:k\n",
    "    ffine_L1 = [ffine_L1.*xfine_L1 ones(npts)] \n",
    "end\n",
    "yfine_L1 = ffine_L1 * uopt_L1\n",
    "\n",
    "figure(figsize=(12,4))\n",
    "plot( x, y, \"r.\")\n",
    "plot( xfine_L1, yfine_L1, \"b-\",label=\"norm1\")\n",
    "legend();"
   ]
  },
  {
   "cell_type": "markdown",
   "metadata": {},
   "source": [
    "The $\\ell_1$ norm model fits the data much better. The $\\ell_2$ norm penalizes the model much severly for the outliers since the distance to them is squared, whereas the $\\ell_1$ norm is just adding the absolute values. This results in less shifting of the line towards the outlier in the $\\ell_1$ norm case and hence the better results"
   ]
  },
  {
   "cell_type": "markdown",
   "metadata": {},
   "source": [
    "__c) Another approach is to use an __$\\ell_2$__ penalty for points that are close to the line but an__ $\\ell_1$ __penalty\n",
    "for points that are far away. Specifically, we’ll use something called the Huber loss, defined as__:\n",
    "\n",
    "$$\\phi(x) = \\begin{cases} \n",
    "      x^2  & if -M \\leq x \\leq M \\\\\n",
    "      2M|x| - M^2  & otherwise \\\\\n",
    "   \\end{cases}$$\n",
    "\n",
    "__Here, M is a parameter that determines where\n",
    "the quadratic function transitions to a linear\n",
    "function. The plot on the right shows what\n",
    "the Huber loss function looks like for M = 1.\n",
    "The formula above is simple, but not in a form that is useful for us. As it turns out, we can\n",
    "evaluate the Huber loss function at any point $x$ by solving the following convex QP instead__:\n",
    "\n",
    "$$\\phi(x) = \n",
    "\\begin{cases}\n",
    "\\begin{equation*}\n",
    "\\begin{aligned}\n",
    "& \\underset{v,w}{\\text{minimize}}\n",
    "& & w^2 + 2Mv \\\\\n",
    "& \\text{subject to}:\n",
    "& & |x| \\leq w + v \\\\\n",
    "& & & v \\geq 0, w \\leq M.\n",
    "\\end{aligned}\n",
    "\\end{equation*}\n",
    "\\end{cases}$$\n",
    "\n",
    "__Verify this fact by solving the above QP (with M = 1) for many values of $x$ in the interval\n",
    "$−3 ≤ x ≤ 3$ and reproducing the plot above. Finally, find the best linear fit to our data using a\n",
    "Huber loss with $M = 1$ and produce a plot showing your fit. The cost function is:__\n",
    "\n",
    "$$\n",
    "Huber\\space Loss : \\sum_{i=1}^{15} \\phi(y_i - ax_i -b)\n",
    "$$"
   ]
  },
  {
   "cell_type": "code",
   "execution_count": 12,
   "metadata": {
    "collapsed": false
   },
   "outputs": [
    {
     "data": {
      "image/png": "[encoded data removed]",
      "text/plain": [
       "PyPlot.Figure(PyObject <matplotlib.figure.Figure object at 0x319fcef90>)"
      ]
     },
     "metadata": {},
     "output_type": "display_data"
    }
   ],
   "source": [
    "M = 1\n",
    "X = linspace(-3,3,npts)\n",
    "Y = zeros(1,100)\n",
    "for (i,pt) in  enumerate(X)\n",
    "    m = Model(solver=GurobiSolver(OutputFlag=0))\n",
    "\n",
    "    @variable(m, v >= 0)\n",
    "    @variable(m, w <= M)\n",
    "    @constraint(m, abs(pt) <= w + v)\n",
    "    @objective(m, Min, w^2 + 2M*v)\n",
    "    solve(m)\n",
    "    Y[i] = getobjectivevalue(m)\n",
    "end\n",
    "\n",
    "plot(X, Y', \"b-\", label=\"Huber loss(M=1)\")\n",
    "xlim(-3,3)\n",
    "ylim(0,6)\n",
    "legend();"
   ]
  },
  {
   "cell_type": "markdown",
   "metadata": {},
   "source": [
    "The plot for different values from interval $[-3,3]$ is as given in the question"
   ]
  },
  {
   "cell_type": "code",
   "execution_count": 13,
   "metadata": {
    "collapsed": false
   },
   "outputs": [
    {
     "name": "stdout",
     "output_type": "stream",
     "text": [
      "Optimal\n",
      "L2 Error: 28.526155756854973 Objective Value: 95.49973754752351, Parameters learnt: [-0.281108,5.73812]\n"
     ]
    }
   ],
   "source": [
    "m = Model(solver=GurobiSolver(OutputFlag=0))\n",
    "\n",
    "@variable(m, uopt_huber[1:k+1])\n",
    "@variable(m, v[1:15] >= 0)\n",
    "@variable(m, w[1:15] <= M)\n",
    "\n",
    "@constraint(m, abs_array(y - A*uopt_huber) .<= w + v)\n",
    "\n",
    "@objective(m, Min, sum(w.^2 + 2M*v))\n",
    "status = solve(m)\n",
    "uopt_Huber = getvalue(uopt_huber)\n",
    "println(status)\n",
    "println(\"L2 Error: \", norm(y-A*uopt_Huber),\" Objective Value: \",\n",
    "    getobjectivevalue(m),\", Parameters learnt: \", uopt_Huber)"
   ]
  },
  {
   "cell_type": "code",
   "execution_count": 14,
   "metadata": {
    "collapsed": false
   },
   "outputs": [
    {
     "data": {
      "image/png": "[encoded data removed]",
      "text/plain": [
       "PyPlot.Figure(PyObject <matplotlib.figure.Figure object at 0x31a195cd0>)"
      ]
     },
     "metadata": {},
     "output_type": "display_data"
    }
   ],
   "source": [
    "xfine_huber = linspace(0,15,npts)\n",
    "ffine_huber = ones(npts)\n",
    "for j = 1:k\n",
    "    ffine_huber = [ffine_huber.*xfine_huber ones(npts)] \n",
    "end\n",
    "yfine_huber = ffine_huber * uopt_Huber\n",
    "\n",
    "figure(figsize=(12,4))\n",
    "plot( x, y, \"r.\")\n",
    "plot( xfine_huber, yfine_huber, \"b-\",label=\"huber loss\")\n",
    "legend();"
   ]
  }
 ],
 "metadata": {
  "kernelspec": {
   "display_name": "Julia 0.5.0",
   "language": "julia",
   "name": "julia-0.5"
  },
  "language_info": {
   "file_extension": ".jl",
   "mimetype": "application/julia",
   "name": "julia",
   "version": "0.5.0"
  }
 },
 "nbformat": 4,
 "nbformat_minor": 2
}
