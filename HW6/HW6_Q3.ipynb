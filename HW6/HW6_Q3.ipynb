{
 "cells": [
  {
   "cell_type": "markdown",
   "metadata": {},
   "source": [
    "# Homework 6 Question 3: Heat pipe design.\n",
    "A heated fluid at temperature $T$ (degrees above ambient temperature)\n",
    "flows in a pipe with fixed length and circular cross section with radius $r$. A layer of insulation, with\n",
    "thickness $w$, surrounds the pipe to reduce heat loss through the pipe walls ($w$ is much smaller than $r$).\n",
    "The design variables in this problem are $T, r$, and $w$.\n",
    "\n",
    "The energy cost due to heat loss is roughly equal to $α_1T r/w$. The cost of the pipe, which has a fixed\n",
    "wall thickness, is approximately proportional to the total material, i.e., it is given by $α_2r$. The cost of\n",
    "the insulation is also approximately proportional to the total insulation material, i.e., roughly $α_3rw$.\n",
    "The total cost is the sum of these three costs.\n",
    "\n",
    "The heat flow down the pipe is entirely due to the flow of the fluid, which has a fixed velocity, i.e., it\n",
    "is given by $α_4T r^2$\n",
    ". The constants $α_i$ are all positive, as are the variables $T, r,$ and $w$.\n",
    "\n",
    "Now the problem: maximize the total heat flow down the pipe, subject to an upper limit C_max on total\n",
    "cost, and the constraints \n",
    "\n",
    "$$\n",
    "    T_{min} ≤ T ≤ T_{max}, \\space r_{min} ≤ r ≤ r_{max}, \\space w_{min} ≤ w ≤ w_{max}, \\space w ≤ 0.1r\n",
    "$$\n",
    "\n",
    "__a) Express this problem as a geometric program, and convert it into a convex optimization problem.__"
   ]
  },
  {
   "cell_type": "markdown",
   "metadata": {
    "collapsed": true
   },
   "source": [
    "Equivalent G.P.:\n",
    "\\begin{equation*}\n",
    "\\begin{aligned}\n",
    "&{\\text{minimize}}\n",
    "& & (1/α_4)T^{−1}r^{−2} \\\\\n",
    "& \\text{subject to}:\n",
    "& & (1/T_{max})T ≤ 1, T_{min}T^{−1} ≤ 1  \\\\\n",
    "& & & (1/r_{max})r ≤ 1, r_{min}r^{−1} ≤ 1  \\\\\n",
    "& & & (1/w_{max})w ≤ 1, w_{min}w^{−1} ≤ 1  \\\\\n",
    "& & & 10wr^{−1} ≤ 1.\n",
    "\\end{aligned}\n",
    "\\end{equation*}\n",
    "\n",
    "\n",
    "\n",
    "\n",
    "\n",
    "\n",
    "\n",
    "Let  $x = log(T), y = log(r) , z = log(w)$\n",
    "\n",
    "So objective function\n",
    "\n",
    "$$α_4Tr^2 : log(e^{log(\\alpha_4)+x+2y})$$\n",
    "\n",
    "Constraints\n",
    "\n",
    "$$T_{min} ≤ T ≤ T_{max} : \\space log(e^{log(T_{min})-x}) \\leq 0 ,\\space log(e^{x+log(1/T_{max})}) \\leq 0$$\n",
    " $$r_{min} ≤ r ≤ r_{max} : \\space log(e^{log(r_{min})-y}) \\leq 0, \\space log(e^{y+log(1/r_{max})}) \\leq 0$$\n",
    "$$w_{min} ≤ w ≤ w_{max} : \\space log(e^{log(w_{min})-z}) \\leq 0, \\space log(e^{z+log(1/w_{max})}) \\leq 0$$\n",
    "$$ w ≤ 0.1r : log (e^{log(10) + z - y}) \\leq 0$$\n",
    "\n",
    "__Heat Loss Cost__ $(α_1Trw^{-1}) => log(e^{log(\\alpha_1) + x + y - z})$\n",
    "\n",
    "__Pipe Cost__ $(α_2r) => log(e^{log(\\alpha_2) + y})$\n",
    "\n",
    "__Insulation Cost__ $(α_3rw) => log(e^{log(\\alpha_3) + x + z})$"
   ]
  },
  {
   "cell_type": "markdown",
   "metadata": {},
   "source": [
    "__b) Consider a simple instance of this problem, where $Cmax = 500$ and $α_1 = α_2 = α_3 = α_4 = 1$.\n",
    "Also assume for simplicity that each variable has a lower bound of zero and no upper bound.\n",
    "Solve this problem using JuMP. Use the Mosek solver and the command @NLconstraint(...)\n",
    "to specify nonlinear constraints such as log-sum-exp functions. Note: Mosek can solve general\n",
    "convex optimization problems! What is the optimal $T, r$, and $w$?__"
   ]
  },
  {
   "cell_type": "code",
   "execution_count": 7,
   "metadata": {
    "collapsed": false
   },
   "outputs": [
    {
     "name": "stdout",
     "output_type": "stream",
     "text": [
      "Status:Optimal\n",
      "Optimal Temperature: 1.0000001730422694, Radius: 3.7464406250722294e108, Width: 6.120817586443607e53\n",
      "Max heat flow: 1.4035819785981284e217\n"
     ]
    }
   ],
   "source": [
    "using JuMP, Mosek\n",
    "\n",
    "α1 = 1\n",
    "α2 = 1\n",
    "α3 = 1\n",
    "α4 = 1\n",
    "Cmax = 500\n",
    "\n",
    "m = Model(solver=MosekSolver(LOG=0))\n",
    "\n",
    "@variable(m, x >= 0)\n",
    "@variable(m, y >= 0)\n",
    "@variable(m, z >= 0)\n",
    "\n",
    "@NLexpression(m, heatLossCost, log(α1)+x+y-z)\n",
    "@NLexpression(m, pipeCost, log(α2) + y)\n",
    "@NLexpression(m, insulationCost, log(α3) + x + z)\n",
    "\n",
    "@NLconstraint(m, log(10) + z - y  <= 0)\n",
    "@NLconstraint(m, heatLossCost + pipeCost + insulationCost <= Cmax)\n",
    "\n",
    "@NLexpression(m, heatFlow, log(α4) + x + 2y)\n",
    "\n",
    "@NLobjective(m, Max, heatFlow)\n",
    "println(\"Status:\", solve(m))\n",
    "X = getvalue(x)\n",
    "Y = getvalue(y)\n",
    "Z = getvalue(z)\n",
    "\n",
    "T = e^X\n",
    "r = e^Y\n",
    "w = e^Z\n",
    "println(\"Optimal Temperature: \", T, \", Radius: \",r, \", Width: \",w)\n",
    "println(\"Max heat flow: \", α4*T*r^2)"
   ]
  }
 ],
 "metadata": {
  "kernelspec": {
   "display_name": "Julia 0.5.0",
   "language": "julia",
   "name": "julia-0.5"
  },
  "language_info": {
   "file_extension": ".jl",
   "mimetype": "application/julia",
   "name": "julia",
   "version": "0.5.0"
  }
 },
 "nbformat": 4,
 "nbformat_minor": 2
}
