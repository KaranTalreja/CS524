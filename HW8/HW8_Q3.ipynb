{
 "cells": [
  {
   "cell_type": "markdown",
   "metadata": {},
   "source": [
    "# Homework 8 Question 3:  The Queens problem.\n",
    "You are given a standard 8×8 chess board. The following problems\n",
    "involve placing queens on the board such that certain constraints are satisfied. For each of the following\n",
    "problems, model the optimization task as an integer program, solve it, and show what an optimal\n",
    "placement of queens on the board looks like.\n",
    "\n",
    "__a) Find a way to place 8 queens on the board so that no two queens threaten each other. We say\n",
    "that two queens threaten each other if they occupy the same row, column, or diagonal. Show\n",
    "what this placement looks like.__"
   ]
  },
  {
   "cell_type": "code",
   "execution_count": 1,
   "metadata": {
    "collapsed": false
   },
   "outputs": [],
   "source": [
    "# helper function to print a chess board\n",
    "function printChessBoard(arr)\n",
    "  u = 0\n",
    "  println(\"+---+---+---+---+---+---+---+---+\")\n",
    "    for r in 1:8\n",
    "        for c in 1:8\n",
    "            if arr[r,c] == 1\n",
    "                print(\"| \",round(Int,arr[r,c]),\" \")\n",
    "            else\n",
    "                print(\"|  \",\" \")\n",
    "            end\n",
    "        end\n",
    "        println(\"|\")\n",
    "        println(\"+---+---+---+---+---+---+---+---+\")\n",
    "    end\n",
    "end\n",
    ";"
   ]
  },
  {
   "cell_type": "code",
   "execution_count": 2,
   "metadata": {
    "collapsed": false
   },
   "outputs": [],
   "source": [
    "# Helper function to generate neihbours\n",
    "# Operations allowed to get neighbor of a cell.\n",
    "# First column element is for row and second column for column operation\n",
    "ops = [ 1  1;\n",
    "       -1  1;\n",
    "        1 -1;\n",
    "       -1 -1]\n",
    "\n",
    "function get_diag_nbr(i, j, rows, columns)\n",
    "    retval = []\n",
    "    for o in 1:length(ops[:,1])\n",
    "        for mul in 1:8\n",
    "            if i + ops[o,1]*mul <= rows && i + ops[o,1]*mul >= 1\n",
    "                if j + ops[o,2]*mul <= columns && j + ops[o,2]*mul >= 1\n",
    "                    push!(retval,(i + ops[o,1]*mul, j + ops[o,2]*mul))\n",
    "                end\n",
    "            end\n",
    "        end\n",
    "    end\n",
    "    return retval\n",
    "end\n",
    "# Helper function to generate neihbours\n",
    "# Operations allowed to get neighbor of a cell.\n",
    "# First column element is for row and second column for column operation\n",
    "all_ops = [ 1  1;\n",
    "       -1  1;\n",
    "        1 -1;\n",
    "       -1 -1;\n",
    "        0  1;\n",
    "        0 -1;\n",
    "        1  0;\n",
    "       -1  0]\n",
    "\n",
    "function get_all_nbr(i, j, rows, columns)\n",
    "    retval = []\n",
    "    for o in 1:length(all_ops[:,1])\n",
    "        for mul in 1:8\n",
    "            if i + all_ops[o,1]*mul <= rows && i + all_ops[o,1]*mul >= 1\n",
    "                if j + all_ops[o,2]*mul <= columns && j + all_ops[o,2]*mul >= 1\n",
    "                    push!(retval,(i + all_ops[o,1]*mul, j + all_ops[o,2]*mul))\n",
    "                end\n",
    "            end\n",
    "        end\n",
    "    end\n",
    "    return retval\n",
    "end;"
   ]
  },
  {
   "cell_type": "code",
   "execution_count": 3,
   "metadata": {
    "collapsed": false
   },
   "outputs": [
    {
     "name": "stdout",
     "output_type": "stream",
     "text": [
      "Diagonal Neighbours for (4,4) as example\n",
      "(4,4): Any[(5,5),(6,6),(7,7),(8,8),(3,5),(2,6),(1,7),(5,3),(6,2),(7,1),(3,3),(2,2),(1,1)]\n",
      "All Neighbours for (4,4) as example\n",
      "(4,4): Any[(5,5),(6,6),(7,7),(8,8),(3,5),(2,6),(1,7),(5,3),(6,2),(7,1),(3,3),(2,2),(1,1),(4,5),(4,6),(4,7),(4,8),(4,3),(4,2),(4,1),(5,4),(6,4),(7,4),(8,4),(3,4),(2,4),(1,4)]\n"
     ]
    }
   ],
   "source": [
    "println(\"Diagonal Neighbours for (4,4) as example\")\n",
    "[println(\"(\",i,\",\",j,\"): \",get_diag_nbr(i,j, 8,8)) for i in 4 for j in 4]\n",
    "println(\"All Neighbours for (4,4) as example\")\n",
    "[println(\"(\",i,\",\",j,\"): \",get_all_nbr(i,j, 8,8)) for i in 4 for j in 4];;"
   ]
  },
  {
   "cell_type": "code",
   "execution_count": 4,
   "metadata": {
    "collapsed": false
   },
   "outputs": [],
   "source": [
    "using JuMP, Cbc\n",
    "\n",
    "m = Model(solver = CbcSolver())\n",
    "\n",
    "@variable(m, x[1:8,1:8], Bin)\n",
    "\n",
    "# exactly one of each number per row\n",
    "@constraint(m, rowC[i=1:8], sum(x[i,j] for j in 1:8) == 1)\n",
    "\n",
    "# exactly one of each number per column\n",
    "@constraint(m, colC[j=1:8], sum(x[i,j] for i in 1:8) == 1)\n",
    "\n",
    "# if the sum of queens in the diagonals is 1 then this cell cannot contain queen\n",
    "@constraint(m, diagC[i=1:8,j=1:8], sum(x[i_n,j_n] for (i_n,j_n) in get_diag_nbr(i,j,8,8)) - 1 \n",
    "                                    <= 1 - x[i,j] - x[i,j]);"
   ]
  },
  {
   "cell_type": "code",
   "execution_count": 5,
   "metadata": {
    "collapsed": false
   },
   "outputs": [
    {
     "name": "stdout",
     "output_type": "stream",
     "text": [
      "Status: Optimal\n",
      "+---+---+---+---+---+---+---+---+\n",
      "|   |   |   |   |   | 1 |   |   |\n",
      "+---+---+---+---+---+---+---+---+\n",
      "|   |   | 1 |   |   |   |   |   |\n",
      "+---+---+---+---+---+---+---+---+\n",
      "|   |   |   |   |   |   | 1 |   |\n",
      "+---+---+---+---+---+---+---+---+\n",
      "|   | 1 |   |   |   |   |   |   |\n",
      "+---+---+---+---+---+---+---+---+\n",
      "|   |   |   |   |   |   |   | 1 |\n",
      "+---+---+---+---+---+---+---+---+\n",
      "|   |   |   |   | 1 |   |   |   |\n",
      "+---+---+---+---+---+---+---+---+\n",
      "| 1 |   |   |   |   |   |   |   |\n",
      "+---+---+---+---+---+---+---+---+\n",
      "|   |   |   | 1 |   |   |   |   |\n",
      "+---+---+---+---+---+---+---+---+\n"
     ]
    }
   ],
   "source": [
    "status = solve(m)\n",
    "println(\"Status: \", status)\n",
    "board = getvalue(x)\n",
    "printChessBoard(board);"
   ]
  },
  {
   "cell_type": "markdown",
   "metadata": {},
   "source": [
    "__b) Repeat part (a) but this time find a placement of the 8 queens that has point symmetry. In other\n",
    "words, find a placement that looks the same if you rotate the board 180◦.__"
   ]
  },
  {
   "cell_type": "code",
   "execution_count": 6,
   "metadata": {
    "collapsed": false
   },
   "outputs": [],
   "source": [
    "m = Model(solver = CbcSolver())\n",
    "\n",
    "@variable(m, x[1:8,1:8], Bin)\n",
    "\n",
    "# exactly one of each number per row\n",
    "@constraint(m, rowC[i=1:8], sum(x[i,j] for j in 1:8) == 1)\n",
    "\n",
    "# exactly one of each number per column\n",
    "@constraint(m, colC[j=1:8], sum(x[i,j] for i in 1:8) == 1)\n",
    "\n",
    "# if the sum of queens in the diagonals is 1 then this cell cannot contain queen\n",
    "@constraint(m, diagC[i=1:8,j=1:8], sum(x[i_n,j_n] for (i_n,j_n) in get_diag_nbr(i,j,8,8)) - 1 \n",
    "                                    <= 1 - x[i,j] - x[i,j])\n",
    "\n",
    "# symmetry constraint\n",
    "@constraint(m, symC[i=1:8,j=1:8], x[i,j] == x[8-i+1,8-j+1]);"
   ]
  },
  {
   "cell_type": "code",
   "execution_count": 7,
   "metadata": {
    "collapsed": false
   },
   "outputs": [
    {
     "name": "stdout",
     "output_type": "stream",
     "text": [
      "Status: Optimal\n",
      "+---+---+---+---+---+---+---+---+\n",
      "|   |   |   |   | 1 |   |   |   |\n",
      "+---+---+---+---+---+---+---+---+\n",
      "|   |   | 1 |   |   |   |   |   |\n",
      "+---+---+---+---+---+---+---+---+\n",
      "| 1 |   |   |   |   |   |   |   |\n",
      "+---+---+---+---+---+---+---+---+\n",
      "|   |   |   |   |   |   | 1 |   |\n",
      "+---+---+---+---+---+---+---+---+\n",
      "|   | 1 |   |   |   |   |   |   |\n",
      "+---+---+---+---+---+---+---+---+\n",
      "|   |   |   |   |   |   |   | 1 |\n",
      "+---+---+---+---+---+---+---+---+\n",
      "|   |   |   |   |   | 1 |   |   |\n",
      "+---+---+---+---+---+---+---+---+\n",
      "|   |   |   | 1 |   |   |   |   |\n",
      "+---+---+---+---+---+---+---+---+\n"
     ]
    }
   ],
   "source": [
    "status = solve(m)\n",
    "println(\"Status: \", status)\n",
    "board = getvalue(x)\n",
    "printChessBoard(board);"
   ]
  },
  {
   "cell_type": "markdown",
   "metadata": {},
   "source": [
    "__c) What is the smallest number of queens that we can place on the board so that each empty cell is\n",
    "threatened by at least one queen? Show a possible optimal placement.__"
   ]
  },
  {
   "cell_type": "code",
   "execution_count": 8,
   "metadata": {
    "collapsed": true
   },
   "outputs": [],
   "source": [
    "m = Model(solver = CbcSolver())\n",
    "\n",
    "@variable(m, x[1:8,1:8], Bin)\n",
    "# exactly one of each number per row\n",
    "@constraint(m, rowC[i=1:8], sum(x[i,j] for j in 1:8) <= 1)\n",
    "\n",
    "# exactly one of each number per column\n",
    "@constraint(m, colC[j=1:8], sum(x[i,j] for i in 1:8) <= 1)\n",
    "\n",
    "# diagonal constraint\n",
    "@constraint(m, diagC[i=1:8,j=1:8], sum(x[i_n,j_n] for (i_n,j_n) in get_diag_nbr(i,j,8,8)) - 1 \n",
    "                                    <= 1 - x[i,j] - x[i,j])\n",
    "# attacking each cell at least once\n",
    "@constraint(m, attackC[i=1:8,j=1:8], x[i,j] + sum(x[i_n,j_n] for (i_n,j_n) in get_all_nbr(i,j,8,8)) >= 1)\n",
    "@objective(m, Min, sum(x))\n",
    ";"
   ]
  },
  {
   "cell_type": "code",
   "execution_count": 9,
   "metadata": {
    "collapsed": false
   },
   "outputs": [
    {
     "name": "stdout",
     "output_type": "stream",
     "text": [
      "Status: Optimal\n",
      "Minimum number of queens required: 5.0\n",
      "+---+---+---+---+---+---+---+---+\n",
      "|   |   |   |   |   |   |   | 1 |\n",
      "+---+---+---+---+---+---+---+---+\n",
      "|   |   |   |   |   |   |   |   |\n",
      "+---+---+---+---+---+---+---+---+\n",
      "|   |   |   |   | 1 |   |   |   |\n",
      "+---+---+---+---+---+---+---+---+\n",
      "| 1 |   |   |   |   |   |   |   |\n",
      "+---+---+---+---+---+---+---+---+\n",
      "|   |   |   |   |   |   |   |   |\n",
      "+---+---+---+---+---+---+---+---+\n",
      "|   |   |   |   |   |   |   |   |\n",
      "+---+---+---+---+---+---+---+---+\n",
      "|   |   |   |   |   | 1 |   |   |\n",
      "+---+---+---+---+---+---+---+---+\n",
      "|   | 1 |   |   |   |   |   |   |\n",
      "+---+---+---+---+---+---+---+---+\n"
     ]
    }
   ],
   "source": [
    "status = solve(m)\n",
    "println(\"Status: \", status)\n",
    "println(\"Minimum number of queens required: \", getobjectivevalue(m))\n",
    "board = getvalue(x)\n",
    "printChessBoard(board);"
   ]
  },
  {
   "cell_type": "markdown",
   "metadata": {},
   "source": [
    "__d) Repeat part (c) but this time find a placement of the queens that also has point symmetry. Does\n",
    "the minimum number of queens required change? Show a possible optimal placement.__"
   ]
  },
  {
   "cell_type": "code",
   "execution_count": 10,
   "metadata": {
    "collapsed": true
   },
   "outputs": [],
   "source": [
    "m = Model(solver = CbcSolver())\n",
    "\n",
    "@variable(m, x[1:8,1:8], Bin)\n",
    "# atmost one of each number per row\n",
    "@constraint(m, rowC[i=1:8], sum(x[i,j] for j in 1:8) <= 1)\n",
    "\n",
    "# atmost one of each number per column\n",
    "@constraint(m, colC[j=1:8], sum(x[i,j] for i in 1:8) <= 1)\n",
    "# diagonal constraint\n",
    "@constraint(m, diagC[i=1:8,j=1:8], sum(x[i_n,j_n] for (i_n,j_n) in get_diag_nbr(i,j,8,8)) - 1 \n",
    "                                    <= 1 - x[i,j] - x[i,j])\n",
    "# attacking constraint\n",
    "@constraint(m, attackC[i=1:8,j=1:8], x[i,j] + sum(x[i_n,j_n] \n",
    "                                            for (i_n,j_n) in get_all_nbr(i,j,8,8)) >= 1)\n",
    "# symmetry constraint\n",
    "@constraint(m, symC[i=1:8,j=1:8], x[i,j] == x[8-i+1,8-j+1])\n",
    "@objective(m, Min, sum(x))\n",
    ";"
   ]
  },
  {
   "cell_type": "code",
   "execution_count": 11,
   "metadata": {
    "collapsed": false
   },
   "outputs": [
    {
     "name": "stdout",
     "output_type": "stream",
     "text": [
      "Status: Optimal\n",
      "Minimum number of queens required: 6.0\n",
      "+---+---+---+---+---+---+---+---+\n",
      "|   |   |   |   |   |   | 1 |   |\n",
      "+---+---+---+---+---+---+---+---+\n",
      "|   |   | 1 |   |   |   |   |   |\n",
      "+---+---+---+---+---+---+---+---+\n",
      "|   |   |   |   |   |   |   |   |\n",
      "+---+---+---+---+---+---+---+---+\n",
      "|   |   |   |   |   |   |   | 1 |\n",
      "+---+---+---+---+---+---+---+---+\n",
      "| 1 |   |   |   |   |   |   |   |\n",
      "+---+---+---+---+---+---+---+---+\n",
      "|   |   |   |   |   |   |   |   |\n",
      "+---+---+---+---+---+---+---+---+\n",
      "|   |   |   |   |   | 1 |   |   |\n",
      "+---+---+---+---+---+---+---+---+\n",
      "|   | 1 |   |   |   |   |   |   |\n",
      "+---+---+---+---+---+---+---+---+\n"
     ]
    }
   ],
   "source": [
    "status = solve(m)\n",
    "println(\"Status: \", status)\n",
    "println(\"Minimum number of queens required: \", getobjectivevalue(m))\n",
    "board = getvalue(x)\n",
    "printChessBoard(board);"
   ]
  }
 ],
 "metadata": {
  "kernelspec": {
   "display_name": "Julia 0.5.0",
   "language": "julia",
   "name": "julia-0.5"
  },
  "language_info": {
   "file_extension": ".jl",
   "mimetype": "application/julia",
   "name": "julia",
   "version": "0.5.0"
  }
 },
 "nbformat": 4,
 "nbformat_minor": 2
}
