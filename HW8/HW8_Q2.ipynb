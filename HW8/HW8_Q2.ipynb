{
 "cells": [
  {
   "cell_type": "markdown",
   "metadata": {},
   "source": [
    "# Homework 8 Question 2: Paint production.\n",
    "As part of its weekly production, a paint company produces five batches\n",
    "of paints, always the same, for some big clients who have a stable demand. Every paint batch is\n",
    "produced in a single production process, all in the same blender that needs to be cleaned between each\n",
    "batch. The durations of blending paint batches 1 to 5 are 40, 35, 45, 32 and 50 minutes respectively.\n",
    "The cleaning times depend of the colors and the paint types. For example, a long cleaning period is\n",
    "required if an oil-based paint is produced after a water-based paint, or to produce white paint after a\n",
    "dark color. The times are given in minutes in the following matrix $A$ where $A_{ij}$ denotes the cleaning\n",
    "time after batch $i$ if it is followed by batch $j$. \n",
    "\n",
    "$$\n",
    "A =\n",
    "\\begin{bmatrix}\n",
    "   0& 11& 7& 13& 11 \\\\\n",
    "    5& 0& 13& 15& 15 \\\\\n",
    "    13& 15& 0& 23& 11 \\\\\n",
    "9& 13&  5 & 0& 3 \\\\\n",
    "3& 7& 7& 7& 0 \\\\\n",
    "\\end{bmatrix}\n",
    "$$\n",
    "\n",
    "Since the company has other activities, it wishes to deal with this weekly production in the shortest\n",
    "possible time (blending and cleaning). What is the corresponding order of paint batches? The order\n",
    "will be applied every week, so the cleaning time between the last batch of one week and the first of the\n",
    "following week needs to be accounted for in the total duration of cleaning."
   ]
  },
  {
   "cell_type": "markdown",
   "metadata": {},
   "source": [
    "## Problem Data "
   ]
  },
  {
   "cell_type": "code",
   "execution_count": 4,
   "metadata": {
    "collapsed": false
   },
   "outputs": [],
   "source": [
    "using NamedArrays\n",
    "batches = [:one, :two, :three, :four, :five]\n",
    "blendTimes = Dict(zip(batches,[40, 35, 45, 32 ,50]))\n",
    "cleaningTimes = [ 0 11  7 13 11 ;\n",
    "                  5  0 13 15 15 ;\n",
    "                 13 15  0 23 11 ;\n",
    "                  9 13  5  0  3 ;\n",
    "                  3  7  7  7  0 ]\n",
    "c = NamedArray(cleaningTimes,(batches,batches))\n",
    "N = size(cleaningTimes,1);"
   ]
  },
  {
   "cell_type": "markdown",
   "metadata": {},
   "source": [
    "## Problem Model "
   ]
  },
  {
   "cell_type": "code",
   "execution_count": 10,
   "metadata": {
    "collapsed": false
   },
   "outputs": [],
   "source": [
    "using JuMP, Cbc\n",
    "\n",
    "m = Model(solver = CbcSolver())\n",
    "@variable(m, x[batches,batches], Bin)                                      # must formulate as IP this time\n",
    "@constraint(m, c1[j in batches], sum( x[i,j] for i in batches ) == 1)      # one out-edge\n",
    "@constraint(m, c2[i in batches], sum( x[i,j] for j in batches ) == 1)      # one in-edge\n",
    "@constraint(m, c3[i in batches], x[i,i] == 0 )                            # no self-loops\n",
    "@objective(m, Min, sum( x[i,j]*(c[i,j] + blendTimes[j]) for i in batches, j in batches ))   # minimize total cost\n",
    "                                    \n",
    "# MTZ variables and constraints\n",
    "@variable(m, u[batches])\n",
    "@constraint(m, c4[i in batches, j in batches[2:end]], u[i] - u[j] + N*x[i,j] <= N-1 );"
   ]
  },
  {
   "cell_type": "code",
   "execution_count": 11,
   "metadata": {
    "collapsed": false
   },
   "outputs": [
    {
     "name": "stdout",
     "output_type": "stream",
     "text": [
      "Status: Optimal\n",
      "Total length of cleaning and blending: 243.0\n",
      "Any[Symbol[:one,:four,:three,:five,:two,:one]]\n",
      "5×5 Named Array{Int64,2}\n",
      "A ╲ B │   one    two  three   four   five\n",
      "──────┼──────────────────────────────────\n",
      "one   │     0      0      0      1      0\n",
      "two   │     1      0      0      0      0\n",
      "three │     0      0      0      0      1\n",
      "four  │     0      0      1      0      0\n",
      "five  │     0      1      0      0      0\n"
     ]
    }
   ],
   "source": [
    "status = solve(m)\n",
    "println(\"Status: \", status)\n",
    "xx = getvalue(x)\n",
    "subtours = getAllSubtours(xx)\n",
    "println(\"Total length of cleaning and blending: \", getobjectivevalue(m))\n",
    "println(subtours)\n",
    "# pretty print the solution\n",
    "sol = NamedArray(zeros(Int,N,N),(batches,batches))\n",
    "for i in batches\n",
    "    for j in batches\n",
    "        sol[i,j] = Int(xx[i,j])\n",
    "    end\n",
    "end\n",
    "println(sol)"
   ]
  },
  {
   "cell_type": "code",
   "execution_count": 1,
   "metadata": {
    "collapsed": false
   },
   "outputs": [],
   "source": [
    "# HELPER FUNCTION: returns the cycle containing the city START.\n",
    "function getSubtour(x,start)\n",
    "    subtour = [start]\n",
    "    while true\n",
    "        j = subtour[end]\n",
    "        for k in batches\n",
    "            if x[j,k] == 1\n",
    "                push!(subtour,k)\n",
    "                break\n",
    "            end\n",
    "        end\n",
    "        if subtour[end] == start\n",
    "            break\n",
    "        end\n",
    "    end\n",
    "    return subtour\n",
    "end\n",
    "\n",
    "# HELPER FUNCTION: returns a list of all cycles\n",
    "function getAllSubtours(x)\n",
    "    nodesRemaining = batches\n",
    "    subtours = []\n",
    "    while length(nodesRemaining) > 0\n",
    "        subtour = getSubtour(x,nodesRemaining[1])\n",
    "        push!(subtours, subtour)\n",
    "        nodesRemaining = setdiff(nodesRemaining,subtour)\n",
    "    end\n",
    "    return subtours\n",
    "end;"
   ]
  }
 ],
 "metadata": {
  "kernelspec": {
   "display_name": "Julia 0.5.0",
   "language": "julia",
   "name": "julia-0.5"
  },
  "language_info": {
   "file_extension": ".jl",
   "mimetype": "application/julia",
   "name": "julia",
   "version": "0.5.0"
  }
 },
 "nbformat": 4,
 "nbformat_minor": 2
}
