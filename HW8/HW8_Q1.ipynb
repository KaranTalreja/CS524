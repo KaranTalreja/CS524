{
 "cells": [
  {
   "cell_type": "markdown",
   "metadata": {},
   "source": [
    "# Homework 8 Question 1: Voting\n",
    "Governor Blue of the state of Berry is attempting to get the state legislator to\n",
    "gerrymander Berry’s congressional districts. The state consists of ten cities, and the numbers of\n",
    "registered Republicans and Democrats (in thousands) in each city are shown below \n",
    "\n",
    "City | Republicans | Democrats\n",
    "--- | --- | ---\n",
    "1 | 80 | 34\n",
    "2 | 60 | 44\n",
    "3 | 40 | 44\n",
    "4 | 20 | 24\n",
    "5 | 40 | 114\n",
    "6 | 40 | 64\n",
    "7 | 70 | 14\n",
    "8 | 50 | 44\n",
    "9 | 70 | 54\n",
    "10 | 70 | 64\n",
    "\n",
    "Berry has five congressional representatives. To form the five congressional districts, cities must be\n",
    "grouped together according to the following restrictions:\n",
    "\n",
    "- Districts cannot subdivide cities; all voters in a city must be in the same district.\n",
    "-  Each district must contain between 150,000 and 250,000 voters (there are no independent voters).\n",
    "\n",
    "Governor Blue is a Democrat. Assume 100% voter turnout and that each voter always votes according\n",
    "to their registered party. Formulate and solve an optimization problem to help Governor Blue maximize\n",
    "the number of congressional districts that have a Democratic majority."
   ]
  },
  {
   "cell_type": "markdown",
   "metadata": {},
   "source": [
    "## Problem Data "
   ]
  },
  {
   "cell_type": "code",
   "execution_count": 1,
   "metadata": {
    "collapsed": false
   },
   "outputs": [],
   "source": [
    "cities = [:one, :two, :three, :four, :five, :six, :seven, :eight, :nine, :ten]\n",
    "raw_repub = [80, 60, 40, 20, 40, 40, 70, 50, 70, 70]'\n",
    "republicans = Dict(zip(cities, raw_repub))\n",
    "raw_demo = [34, 44, 44, 24, 114, 64, 14, 44, 54, 64]'\n",
    "democrats = Dict(zip(cities, raw_demo))\n",
    "n_cities = length(cities)\n",
    "n_districts = 5;"
   ]
  },
  {
   "cell_type": "markdown",
   "metadata": {},
   "source": [
    "## Problem Model "
   ]
  },
  {
   "cell_type": "code",
   "execution_count": 2,
   "metadata": {
    "collapsed": false
   },
   "outputs": [
    {
     "data": {
      "text/latex": [
       "$$ \\begin{alignat*}{1}\\max\\quad & majority_{1} + majority_{2} + majority_{3} + majority_{4} + majority_{5}\\\\\n",
       "\\text{Subject to} \\quad & x_{1,1} + x_{1,2} + x_{1,3} + x_{1,4} + x_{1,5} = 1\\\\\n",
       " & x_{2,1} + x_{2,2} + x_{2,3} + x_{2,4} + x_{2,5} = 1\\\\\n",
       " & x_{3,1} + x_{3,2} + x_{3,3} + x_{3,4} + x_{3,5} = 1\\\\\n",
       " & x_{4,1} + x_{4,2} + x_{4,3} + x_{4,4} + x_{4,5} = 1\\\\\n",
       " & x_{5,1} + x_{5,2} + x_{5,3} + x_{5,4} + x_{5,5} = 1\\\\\n",
       " & x_{6,1} + x_{6,2} + x_{6,3} + x_{6,4} + x_{6,5} = 1\\\\\n",
       " & x_{7,1} + x_{7,2} + x_{7,3} + x_{7,4} + x_{7,5} = 1\\\\\n",
       " & x_{8,1} + x_{8,2} + x_{8,3} + x_{8,4} + x_{8,5} = 1\\\\\n",
       " & x_{9,1} + x_{9,2} + x_{9,3} + x_{9,4} + x_{9,5} = 1\\\\\n",
       " & x_{10,1} + x_{10,2} + x_{10,3} + x_{10,4} + x_{10,5} = 1\\\\\n",
       " & 114 x_{1,1} + 104 x_{2,1} + 84 x_{3,1} + 44 x_{4,1} + 154 x_{5,1} + 104 x_{6,1} + 84 x_{7,1} + 94 x_{8,1} + 124 x_{9,1} + 134 x_{10,1} \\geq 150\\\\\n",
       " & 114 x_{1,2} + 104 x_{2,2} + 84 x_{3,2} + 44 x_{4,2} + 154 x_{5,2} + 104 x_{6,2} + 84 x_{7,2} + 94 x_{8,2} + 124 x_{9,2} + 134 x_{10,2} \\geq 150\\\\\n",
       " & 114 x_{1,3} + 104 x_{2,3} + 84 x_{3,3} + 44 x_{4,3} + 154 x_{5,3} + 104 x_{6,3} + 84 x_{7,3} + 94 x_{8,3} + 124 x_{9,3} + 134 x_{10,3} \\geq 150\\\\\n",
       " & 114 x_{1,4} + 104 x_{2,4} + 84 x_{3,4} + 44 x_{4,4} + 154 x_{5,4} + 104 x_{6,4} + 84 x_{7,4} + 94 x_{8,4} + 124 x_{9,4} + 134 x_{10,4} \\geq 150\\\\\n",
       " & 114 x_{1,5} + 104 x_{2,5} + 84 x_{3,5} + 44 x_{4,5} + 154 x_{5,5} + 104 x_{6,5} + 84 x_{7,5} + 94 x_{8,5} + 124 x_{9,5} + 134 x_{10,5} \\geq 150\\\\\n",
       " & 114 x_{1,1} + 104 x_{2,1} + 84 x_{3,1} + 44 x_{4,1} + 154 x_{5,1} + 104 x_{6,1} + 84 x_{7,1} + 94 x_{8,1} + 124 x_{9,1} + 134 x_{10,1} \\leq 250\\\\\n",
       " & 114 x_{1,2} + 104 x_{2,2} + 84 x_{3,2} + 44 x_{4,2} + 154 x_{5,2} + 104 x_{6,2} + 84 x_{7,2} + 94 x_{8,2} + 124 x_{9,2} + 134 x_{10,2} \\leq 250\\\\\n",
       " & 114 x_{1,3} + 104 x_{2,3} + 84 x_{3,3} + 44 x_{4,3} + 154 x_{5,3} + 104 x_{6,3} + 84 x_{7,3} + 94 x_{8,3} + 124 x_{9,3} + 134 x_{10,3} \\leq 250\\\\\n",
       " & 114 x_{1,4} + 104 x_{2,4} + 84 x_{3,4} + 44 x_{4,4} + 154 x_{5,4} + 104 x_{6,4} + 84 x_{7,4} + 94 x_{8,4} + 124 x_{9,4} + 134 x_{10,4} \\leq 250\\\\\n",
       " & 114 x_{1,5} + 104 x_{2,5} + 84 x_{3,5} + 44 x_{4,5} + 154 x_{5,5} + 104 x_{6,5} + 84 x_{7,5} + 94 x_{8,5} + 124 x_{9,5} + 134 x_{10,5} \\leq 250\\\\\n",
       " & 46 x_{1,1} + 16 x_{2,1} - 4 x_{3,1} - 4 x_{4,1} - 74 x_{5,1} - 24 x_{6,1} + 56 x_{7,1} + 6 x_{8,1} + 16 x_{9,1} + 6 x_{10,1} + 250 majority_{1} \\leq 250\\\\\n",
       " & 46 x_{1,2} + 16 x_{2,2} - 4 x_{3,2} - 4 x_{4,2} - 74 x_{5,2} - 24 x_{6,2} + 56 x_{7,2} + 6 x_{8,2} + 16 x_{9,2} + 6 x_{10,2} + 250 majority_{2} \\leq 250\\\\\n",
       " & 46 x_{1,3} + 16 x_{2,3} - 4 x_{3,3} - 4 x_{4,3} - 74 x_{5,3} - 24 x_{6,3} + 56 x_{7,3} + 6 x_{8,3} + 16 x_{9,3} + 6 x_{10,3} + 250 majority_{3} \\leq 250\\\\\n",
       " & 46 x_{1,4} + 16 x_{2,4} - 4 x_{3,4} - 4 x_{4,4} - 74 x_{5,4} - 24 x_{6,4} + 56 x_{7,4} + 6 x_{8,4} + 16 x_{9,4} + 6 x_{10,4} + 250 majority_{4} \\leq 250\\\\\n",
       " & 46 x_{1,5} + 16 x_{2,5} - 4 x_{3,5} - 4 x_{4,5} - 74 x_{5,5} - 24 x_{6,5} + 56 x_{7,5} + 6 x_{8,5} + 16 x_{9,5} + 6 x_{10,5} + 250 majority_{5} \\leq 250\\\\\n",
       " & x_{i,j} \\in \\{0,1\\} \\quad\\forall i \\in \\{1,2,\\dots,9,10\\}, j \\in \\{1,2,3,4,5\\}\\\\\n",
       " & majority_{i} \\in \\{0,1\\} \\quad\\forall i \\in \\{1,2,3,4,5\\}\\\\\n",
       "\\end{alignat*}\n",
       " $$"
      ],
      "text/plain": [
       "Maximization problem with:\n",
       " * 25 linear constraints\n",
       " * 55 variables: 55 binary\n",
       "Solver is CbcMathProg"
      ]
     },
     "execution_count": 2,
     "metadata": {},
     "output_type": "execute_result"
    }
   ],
   "source": [
    "using JuMP, Cbc\n",
    "\n",
    "m = Model(solver=CbcSolver())\n",
    "\n",
    "@variable(m, x[1:n_cities, 1:n_districts], Bin)\n",
    "@variable(m, majority[1:n_districts], Bin)\n",
    "\n",
    "@constraint(m, cityToOneDistrict[i=1:n_cities], sum(x[i,j] for j in 1:n_districts) == 1)\n",
    "\n",
    "@constraint(m, votersMin[j=1:n_districts], sum(x[i,j]*\n",
    "                    (democrats[cities[i]] + republicans[cities[i]])\n",
    "                    for i in 1:n_cities) >= 150)\n",
    "@constraint(m, votersMax[j=1:n_districts], sum(x[i,j]*\n",
    "                                (democrats[cities[i]] + republicans[cities[i]])\n",
    "                    for i in 1:n_cities) <= 250)\n",
    "                 \n",
    "# If There is majority then # of democrats are more than # of republicans\n",
    "@constraint(m, majorityConstr[j=1:n_districts], sum(x[i,j]*\n",
    "                                            ( republicans[cities[i]] - democrats[cities[i]])\n",
    "                    for i in 1:n_cities) <= 250(1-majority[j]))\n",
    "@objective(m, Max, sum(majority))\n",
    "m"
   ]
  },
  {
   "cell_type": "code",
   "execution_count": 3,
   "metadata": {
    "collapsed": false
   },
   "outputs": [
    {
     "name": "stdout",
     "output_type": "stream",
     "text": [
      "Status: Optimal\n",
      "Majority in districts [1.0,0.0,0.0,1.0,1.0]\n",
      "Assignment of cities to districts\n",
      "[0.0,0.0,1.0,1.0,0.0,0.0,0.0,1.0,0.0,0.0]\n",
      "[1.0,0.0,0.0,0.0,0.0,0.0,0.0,0.0,1.0,0.0]\n",
      "[0.0,1.0,0.0,0.0,0.0,0.0,1.0,0.0,0.0,0.0]\n",
      "[0.0,0.0,0.0,0.0,1.0,0.0,0.0,0.0,0.0,0.0]\n",
      "[0.0,0.0,0.0,0.0,0.0,1.0,0.0,0.0,0.0,1.0]\n",
      "# of Voters per district, # of Democrats, # of Republicans\n",
      "[222.0]\t112.0\t110.0\n",
      "[238.0]\t88.0\t150.0\n",
      "[188.0]\t58.0\t130.0\n",
      "[154.0]\t114.0\t40.0\n",
      "[238.0]\t128.0\t110.0\n"
     ]
    }
   ],
   "source": [
    "status = solve(m)\n",
    "println(\"Status: \",status)\n",
    "println(\"Majority in districts \", getvalue(majority))\n",
    "assignment = getvalue(x)\n",
    "println(\"Assignment of cities to districts\")\n",
    "[println(assignment[:,j]) for j in 1:n_districts]\n",
    "println(\"# of Voters per district, # of Democrats, # of Republicans\")\n",
    "[println(raw_demo*assignment[:,j] + raw_repub*assignment[:,j],\"\\t\",\n",
    "        (raw_demo*assignment[:,j])[1],\"\\t\",\n",
    "        (raw_repub*assignment[:,j])[1])\n",
    "    for j in 1:n_districts];"
   ]
  }
 ],
 "metadata": {
  "kernelspec": {
   "display_name": "Julia 0.5.0",
   "language": "julia",
   "name": "julia-0.5"
  },
  "language_info": {
   "file_extension": ".jl",
   "mimetype": "application/julia",
   "name": "julia",
   "version": "0.5.0"
  }
 },
 "nbformat": 4,
 "nbformat_minor": 2
}
