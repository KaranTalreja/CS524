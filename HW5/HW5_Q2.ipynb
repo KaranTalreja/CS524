{
 "cells": [
  {
   "cell_type": "markdown",
   "metadata": {},
   "source": [
    "# Homework 5 Question 2: Quadratic form positivity.\n",
    "You’re presented with the constraint $(1)$:\n",
    "$$2x^2 + 2y^2 + 9z^2 + 8xy − 6xz − 6yz ≤ 1 $$\n",
    "__a) It turns out the above constraint is not convex. In other words, the set of (x, y, z) satisfying the\n",
    "constraint (1) is not an ellipsoid. Explain why this is the case.__"
   ]
  },
  {
   "cell_type": "code",
   "execution_count": 1,
   "metadata": {
    "collapsed": false
   },
   "outputs": [
    {
     "name": "stdout",
     "output_type": "stream",
     "text": [
      "Eigen values: [-2.0,3.0,12.0]\n",
      "Eigen vectors\n",
      "[0.707107,-0.57735,-0.408248]\n",
      "[-0.707107,-0.57735,-0.408248]\n",
      "[0.0,-0.57735,0.816497]\n"
     ]
    }
   ],
   "source": [
    "Q = [2  4 -3;\n",
    "     4  2 -3;\n",
    "    -3 -3  9;]\n",
    "\n",
    "λ,V = eig(Q)\n",
    "println(\"Eigen values: \",λ)\n",
    "println(\"Eigen vectors\")\n",
    "[println(V[r,:]) for r in 1:3];"
   ]
  },
  {
   "cell_type": "markdown",
   "metadata": {},
   "source": [
    "The above eigen value decomposition shows that the matrix Q is indefinite. For the constraint to be an ellipsoid it should be positive definite."
   ]
  },
  {
   "cell_type": "markdown",
   "metadata": {},
   "source": [
    "__b) Show that the following QCQP is unbounded:__\n",
    "\\begin{equation*}\n",
    "\\begin{aligned}\n",
    "& {\\text{maximize}}\n",
    "& & x^2 + y^2 + z^2 \\\\\n",
    "& \\text{subject to}:\n",
    "& & (1) \\\\\n",
    "\\end{aligned}\n",
    "\\end{equation*}\n",
    "\n",
    "The idea behind the code is explained as folows. The given constraint can be written in transformed dimensions as $$-2p^2 + 3q^2 + 12r^2 - 1 <= 0$$\n",
    "\n",
    "In order to make the equation negative, the p term should overpower the other terms in the equation. The equations for p, q and r in terms of x,y and z can be calculated by $$V'*[x;y;z] = [p;q;r]$$\n",
    "\n",
    "So we chose values for x,y,z in for the above equations to make the p-term larger than q and r. This results in solving the set of linear equation $$A*b = c$$ in which Matrix A is the transpose of eigen vector matrix and c is vector representing points in transformed coordinate system(p,q,r). To make the p-dimension larger we simply choose [1;0;0] as c. Now b is the point in the older coordinate system. Multiplying c with a positive value would give us more and more negative values of the constraint above. The value of the objective is also shown"
   ]
  },
  {
   "cell_type": "code",
   "execution_count": 6,
   "metadata": {
    "collapsed": false
   },
   "outputs": [
    {
     "name": "stdout",
     "output_type": "stream",
     "text": [
      "K: 1\n",
      "Quadratic Constraint Value: [-3.0]\n",
      "Quadratic Objective Value: [1.0]\n",
      "K: 2\n",
      "Quadratic Constraint Value: [-9.0]\n",
      "Quadratic Objective Value: [4.0]\n",
      "K: 3\n",
      "Quadratic Constraint Value: [-19.0]\n",
      "Quadratic Objective Value: [9.0]\n",
      "K: 4\n",
      "Quadratic Constraint Value: [-33.0]\n",
      "Quadratic Objective Value: [16.0]\n",
      "K: 5\n",
      "Quadratic Constraint Value: [-51.0]\n",
      "Quadratic Objective Value: [25.0]\n",
      "K: 6\n",
      "Quadratic Constraint Value: [-73.0]\n",
      "Quadratic Objective Value: [36.0]\n",
      "K: 7\n",
      "Quadratic Constraint Value: [-99.0]\n",
      "Quadratic Objective Value: [49.0]\n",
      "K: 8\n",
      "Quadratic Constraint Value: [-129.0]\n",
      "Quadratic Objective Value: [64.0]\n",
      "K: 9\n",
      "Quadratic Constraint Value: [-163.0]\n",
      "Quadratic Objective Value: [81.0]\n",
      "K: 10\n",
      "Quadratic Constraint Value: [-201.0]\n",
      "Quadratic Objective Value: [100.0]\n"
     ]
    }
   ],
   "source": [
    "# Matrix P for the quadratic objective function x^2 + y^2 + z^2\n",
    "P = [1 0 0;\n",
    "     0 1 0;\n",
    "     0 0 1;]\n",
    "\n",
    "for k = 1:10\n",
    "    c = [k; 0; 0]\n",
    "    point = V'\\c\n",
    "    println(\"K: \",k)\n",
    "    println(\"Quadratic Constraint Value: \", point'*Q*point - 1)\n",
    "    println(\"Quadratic Objective Value: \",point'P*point)\n",
    "end"
   ]
  },
  {
   "cell_type": "markdown",
   "metadata": {},
   "source": [
    "This shows that the problem is unbounded as we can get points which satisfy the constraint and make the objective larger and larger."
   ]
  }
 ],
 "metadata": {
  "kernelspec": {
   "display_name": "Julia 0.5.0",
   "language": "julia",
   "name": "julia-0.5"
  },
  "language_info": {
   "file_extension": ".jl",
   "mimetype": "application/julia",
   "name": "julia",
   "version": "0.5.0"
  }
 },
 "nbformat": 4,
 "nbformat_minor": 2
}
