{
 "cells": [
  {
   "cell_type": "markdown",
   "metadata": {},
   "source": [
    "# Homework-2 Question 4: Electricity grid with storage\n",
    "The town of Hamilton buys its electricity from the Powerco\n",
    "utility, which charges for electricity on an hourly basis. If less than 50 MWh is used during a given\n",
    "hour, then the cost is \\$100 per MWh. Any excess beyond 50 MWh used during the hour is charged at\n",
    "the higher rate of \\$400 per MWh. The maximum power that Powerco can provide in any given hour is\n",
    "75 MWh. Here is what the average daily electricity demand looks like for Hamilton during the month\n",
    "of January\n",
    "\n",
    "| | | | | | | | | | | | |\n",
    "--- | --- | --- | --- | --- | --- | --- | --- | --- | --- | --- | --- |\n",
    "Hour of day (AM)  | 1 | 2 | 3 | 4 | 5 | 6 | 7 | 8 | 9 | 10 | 11 | 12\n",
    "Demand (MWh)  | 43 | 40 | 36 | 36 | 35 | 38 | 41 | 46 | 49 | 48 | 47 | 47\n",
    "\n",
    "| | | | | | | | | | | | |\n",
    "--- | --- | --- | --- | --- | --- | --- | --- | --- | --- | --- | --- |\n",
    "Hour of day (PM) |  1 | 2 | 3 | 4 | 5 | 6 | 7 | 8 | 9 | 10 | 11 | 12\n",
    "Demand (MWh) | 48 | 46 | 45 | 47 | 50 | 63 | 75 | 75 | 72 | 66 | 57 | 50\n",
    "\n",
    "The mayor of Hamilton is concerned because the high electricity use during evening hours is costing\n",
    "the city a lot of money. There is also risk of black-outs at around 7pm because the average demand is\n",
    "dangerously close to Powerco’s 75 MW limit.\n",
    "To address these issues, the mayor purchased a large battery with a storage capacity of 30 MWh. The\n",
    "idea is that extra electricity could be purchased early in the day (at the lower rate), stored in the\n",
    "battery, and used later in the day when demand (and prices) are high."
   ]
  },
  {
   "cell_type": "markdown",
   "metadata": {},
   "source": [
    "__ a) How much money can the town of Hamilton save per day thanks to the battery? Assume that\n",
    "the battery begins the day completely drained. Also, to be safe from possible black-outs, limit\n",
    "the amount of electricity purchased every hour to a maximum of 65 MWh. __"
   ]
  },
  {
   "cell_type": "markdown",
   "metadata": {},
   "source": [
    "## Problem Data"
   ]
  },
  {
   "cell_type": "code",
   "execution_count": 1,
   "metadata": {
    "collapsed": false
   },
   "outputs": [
    {
     "name": "stdout",
     "output_type": "stream",
     "text": [
      "Currently the town spends $152400 daily for its electricty needs\n"
     ]
    }
   ],
   "source": [
    "n_hours = 24\n",
    "demand_arr = [43 40 36 36 35 38 41 46 49 48 47 47 48 46 45 47 50 63 75 75 72 66 57 50]\n",
    "demand = Dict(zip(1:n_hours,demand_arr))\n",
    "\n",
    "curr_cost = 0\n",
    "for h in 1:n_hours\n",
    "    curr_cost += (demand[h]*100)*(demand[h]<=50) + (demand[h]>50)*((demand[h] - 50)*400 + 50*100)\n",
    "end\n",
    "\n",
    "println(\"Currently the town spends \\$\",curr_cost,\" daily for its electricty needs\")"
   ]
  },
  {
   "cell_type": "markdown",
   "metadata": {},
   "source": [
    "## Problem Model "
   ]
  },
  {
   "cell_type": "code",
   "execution_count": 2,
   "metadata": {
    "collapsed": false
   },
   "outputs": [],
   "source": [
    "using JuMP\n",
    "\n",
    "m = Model()\n",
    "\n",
    "batteryCapacity = 30\n",
    "\n",
    "# Variable vector for power taken at lower rate of $100 per hour\n",
    "@variable(m, 0 <= lRatePower[1:n_hours] <= 50)\n",
    "# Variable vector for power taken at higher rate of $400 per hour\n",
    "@variable(m, hRatePower[1:n_hours] >= 0)  \n",
    "# Variable vector for battery charge per hour\n",
    "@variable(m, battery[1:n_hours+1] >= 0)   \n",
    "\n",
    "# Constraint to limit the total intake of power to be 65MWh\n",
    "@constraint(m, [lRatePower[h]+hRatePower[h] for h in 1:n_hours] .<= 65)\n",
    "\n",
    "# Initial constraint to start battery empty at the start of the day\n",
    "@constraint(m, battery[1] == 0) \n",
    "\n",
    "# Power flow constraint, which means power taken is either used or \n",
    "# stored in the battery for the next hour\n",
    "@constraint(m, [battery[h] + lRatePower[h] + hRatePower[h] - battery[h+1] - demand[h] \n",
    "        for h in 1:n_hours] .== 0)\n",
    "\n",
    "# Constraint for battery capcacity\n",
    "@constraint(m, [battery[h] for h in 1:n_hours+1] .<= batteryCapacity)\n",
    "\n",
    "# Objective function to minimize the total power intake.\n",
    "@objective(m, Min, sum(lRatePower[h]*100 + hRatePower[h]*400 for h in 1:n_hours));"
   ]
  },
  {
   "cell_type": "code",
   "execution_count": 3,
   "metadata": {
    "collapsed": false
   },
   "outputs": [
    {
     "name": "stdout",
     "output_type": "stream",
     "text": [
      "Status: Optimal\n",
      "After battery of 30MWh the town spends $143400.0 daily for its electricty needs\n",
      "The savings are equal to $9000.0\n",
      "\n",
      "Battery + lRate + hRate = Battery(for next hour) + demand(now) \n",
      "0.0\t  50.0\t  0.0\t=\t7.0\t\t \t43\n",
      "7.0\t  50.0\t  0.0\t=\t17.0\t\t \t40\n",
      "17.0\t  19.0\t  0.0\t=\t0.0\t\t \t36\n",
      "0.0\t  36.0\t  0.0\t=\t0.0\t\t \t36\n",
      "0.0\t  35.0\t  0.0\t=\t0.0\t\t \t35\n",
      "0.0\t  38.0\t  0.0\t=\t0.0\t\t \t38\n",
      "0.0\t  44.0\t  0.0\t=\t3.0\t\t \t41\n",
      "3.0\t  50.0\t  0.0\t=\t7.0\t\t \t46\n",
      "7.0\t  50.0\t  0.0\t=\t8.0\t\t \t49\n",
      "8.0\t  50.0\t  0.0\t=\t10.0\t\t \t48\n",
      "10.0\t  50.0\t  0.0\t=\t13.0\t\t \t47\n",
      "13.0\t  50.0\t  0.0\t=\t16.0\t\t \t47\n",
      "16.0\t  50.0\t  0.0\t=\t18.0\t\t \t48\n",
      "18.0\t  50.0\t  0.0\t=\t22.0\t\t \t46\n",
      "22.0\t  50.0\t  0.0\t=\t27.0\t\t \t45\n",
      "27.0\t  50.0\t  0.0\t=\t30.0\t\t \t47\n",
      "30.0\t  50.0\t  0.0\t=\t30.0\t\t \t50\n",
      "30.0\t  50.0\t  13.0\t=\t30.0\t\t \t63\n",
      "30.0\t  50.0\t  15.0\t=\t20.0\t\t \t75\n",
      "20.0\t  50.0\t  13.0\t=\t8.0\t\t \t75\n",
      "8.0\t  50.0\t  15.0\t=\t1.0\t\t \t72\n",
      "1.0\t  50.0\t  15.0\t=\t0.0\t\t \t66\n",
      "0.0\t  50.0\t  7.0\t=\t0.0\t\t \t57\n",
      "0.0\t  50.0\t  0.0\t=\t0.0\t\t \t50\n"
     ]
    }
   ],
   "source": [
    "status = solve(m)\n",
    "println(\"Status: \",status)\n",
    "println(\"After battery of 30MWh the town spends \\$\",getobjectivevalue(m),\n",
    "    \" daily for its electricty needs\")\n",
    "println(\"The savings are equal to \\$\",curr_cost-getobjectivevalue(m))\n",
    "println()\n",
    "lRate_a = getvalue(lRatePower)\n",
    "hRate_a = getvalue(hRatePower)\n",
    "Battery_a = getvalue(battery)\n",
    "println(\"Battery + lRate + hRate = Battery(for next hour) + demand(now) \")\n",
    "for h in 1:n_hours\n",
    "    println(Battery_a[h],\"\\t  \", lRate_a[h],\"\\t  \", hRate_a[h],\"\\t=\\t\",\n",
    "        Battery_a[h+1],\"\\t\\t \\t\", demand[h])\n",
    "end"
   ]
  },
  {
   "cell_type": "markdown",
   "metadata": {
    "collapsed": true
   },
   "source": [
    "__b) How much money would be saved if the battery had an infinite capacity? In this scenario, how\n",
    "much of the battery’s capacity is actually used?__\n",
    "\n",
    "To model the case of infinite capacity battery, the upper bound from the battery capacity is removed"
   ]
  },
  {
   "cell_type": "code",
   "execution_count": 4,
   "metadata": {
    "collapsed": false
   },
   "outputs": [
    {
     "name": "stdout",
     "output_type": "stream",
     "text": [
      "Status: Optimal\n",
      "After battery of Inf the town spends $120000.0 daily for its electricty needs\n",
      "The savings are equal to $32400.0\n",
      "The maximum capcaity of the battery that is actual used is 108.0\n",
      "\n",
      "Battery + lRate + hRate = Battery(for next hour) + demand(now) \n",
      "0.0\t  50.0\t  0.0\t=\t7.0\t\t \t43\n",
      "7.0\t  50.0\t  0.0\t=\t17.0\t\t \t40\n",
      "17.0\t  50.0\t  0.0\t=\t31.0\t\t \t36\n",
      "31.0\t  50.0\t  0.0\t=\t45.0\t\t \t36\n",
      "45.0\t  50.0\t  0.0\t=\t60.0\t\t \t35\n",
      "60.0\t  50.0\t  0.0\t=\t72.0\t\t \t38\n",
      "72.0\t  50.0\t  0.0\t=\t81.0\t\t \t41\n",
      "81.0\t  50.0\t  0.0\t=\t85.0\t\t \t46\n",
      "85.0\t  50.0\t  0.0\t=\t86.0\t\t \t49\n",
      "86.0\t  50.0\t  0.0\t=\t88.0\t\t \t48\n",
      "88.0\t  50.0\t  0.0\t=\t91.0\t\t \t47\n",
      "91.0\t  50.0\t  0.0\t=\t94.0\t\t \t47\n",
      "94.0\t  50.0\t  0.0\t=\t96.0\t\t \t48\n",
      "96.0\t  50.0\t  0.0\t=\t100.0\t\t \t46\n",
      "100.0\t  50.0\t  0.0\t=\t105.0\t\t \t45\n",
      "105.0\t  50.0\t  0.0\t=\t108.0\t\t \t47\n",
      "108.0\t  50.0\t  0.0\t=\t108.0\t\t \t50\n",
      "108.0\t  50.0\t  0.0\t=\t95.0\t\t \t63\n",
      "95.0\t  50.0\t  0.0\t=\t70.0\t\t \t75\n",
      "70.0\t  50.0\t  0.0\t=\t45.0\t\t \t75\n",
      "45.0\t  50.0\t  0.0\t=\t23.0\t\t \t72\n",
      "23.0\t  50.0\t  0.0\t=\t7.0\t\t \t66\n",
      "7.0\t  50.0\t  0.0\t=\t0.0\t\t \t57\n",
      "0.0\t  50.0\t  0.0\t=\t0.0\t\t \t50\n"
     ]
    }
   ],
   "source": [
    "batteryCapacity = Inf64\n",
    "m = Model()\n",
    "# Variable vector for power taken at lower rate of $100 per hour\n",
    "@variable(m, 0 <= lRatePower[1:n_hours] <= 50)\n",
    "# Variable vector for power taken at higher rate of $400 per hour\n",
    "@variable(m, hRatePower[1:n_hours] >= 0)  \n",
    "# Variable vector for battery charge per hour\n",
    "@variable(m, battery[1:n_hours+1] >= 0)   \n",
    "\n",
    "# Constraint to limit the total intake of power to be 65MWh\n",
    "@constraint(m, [lRatePower[h]+hRatePower[h] for h in 1:n_hours] .<= 65)\n",
    "# Initial constraint to start battery empty at the start of the day\n",
    "@constraint(m, battery[1] == 0) \n",
    "# Power flow constraint, which means power taken is either used\n",
    "# or stored in the battery for the next hour\n",
    "@constraint(m, [battery[h] + lRatePower[h] + hRatePower[h] - battery[h+1] - demand[h]\n",
    "        for h in 1:n_hours] .== 0)\n",
    "# Constraint for battery capcacity\n",
    "@constraint(m, [battery[h] for h in 1:n_hours+1] .<= batteryCapacity)\n",
    "\n",
    "# Objective function to minimize the total power intake.\n",
    "@objective(m, Min, sum(lRatePower[h]*100 + hRatePower[h]*400 for h in 1:n_hours));\n",
    "\n",
    "status = solve(m)\n",
    "println(\"Status: \",status)\n",
    "println(\"After battery of \", batteryCapacity,\" the town spends \\$\",getobjectivevalue(m),\n",
    "                \" daily for its electricty needs\")\n",
    "println(\"The savings are equal to \\$\",curr_cost-getobjectivevalue(m))\n",
    "println(\"The maximum capcaity of the battery that is actual used is \",\n",
    "                maximum(getvalue(battery)))\n",
    "println()\n",
    "lRate = getvalue(lRatePower)\n",
    "hRate = getvalue(hRatePower)\n",
    "Battery = getvalue(battery)\n",
    "println(\"Battery + lRate + hRate = Battery(for next hour) + demand(now) \")\n",
    "for h in 1:n_hours\n",
    "    println(Battery[h],\"\\t  \", lRate[h],\"\\t  \", hRate[h],\"\\t=\\t\",\n",
    "        Battery[h+1],\"\\t\\t \\t\", demand[h])\n",
    "end"
   ]
  },
  {
   "cell_type": "markdown",
   "metadata": {},
   "source": [
    "## Plot\n",
    "__c) Make a plot that shows (i) the typical energy demand vs time of day (ii) the electricity purchased\n",
    "using the strategy found in part a) vs time of day, and (iii) the battery capacity used as a function\n",
    "of time (draw all three plots on the same axes).__"
   ]
  },
  {
   "cell_type": "code",
   "execution_count": 5,
   "metadata": {
    "collapsed": false
   },
   "outputs": [
    {
     "data": {
      "image/png": "[encoded data removed]",
      "text/plain": [
       "PyPlot.Figure(PyObject <matplotlib.figure.Figure object at 0x7fe745f482d0>)"
      ]
     },
     "metadata": {},
     "output_type": "display_data"
    }
   ],
   "source": [
    "using PyPlot\n",
    "hours = linspace(1,24,24)\n",
    "grid(\"on\")\n",
    "xlim(0,25)\n",
    "bar(hours,demand_arr',width=0.33,color=\"red\",align=\"edge\")\n",
    "bar(hours.+0.33,lRate_a.+hRate_a,width=0.33,color=\"blue\", align=\"edge\")\n",
    "bar(hours.+0.67,Battery_a[1:24],width=0.33,color=\"green\", align=\"edge\");"
   ]
  },
  {
   "cell_type": "markdown",
   "metadata": {
    "collapsed": true
   },
   "source": [
    "__d) Comment on whether the solutions you found are unique. Are other solutions possible? Why?\n",
    "Suggest a way of finding another optimal solution.__\n",
    "\n",
    "The solution consists of all of the possible electricty quantities which can be bought in a particular hour which do not change the total cost incurred through out the day.\n",
    "\n",
    "The solution found above for part a) is not unique. Since the lower electricity rate applies to any quantity bought below 50MWh, a lot of solutions can exist with the same optimal cost but different combinations of quantity.\n",
    "For example, at 3AM the demand is 36 and the lower rate electricity bought is 19MWh, If instead the lower rate electricity of 25MWh(a sample value chosen, many other possible) was bought it could have been stored in the battery and used in the next hour.\n",
    "The total cost remains the same but the solution differs."
   ]
  }
 ],
 "metadata": {
  "kernelspec": {
   "display_name": "Julia 0.5.0",
   "language": "julia",
   "name": "julia-0.5"
  },
  "language_info": {
   "file_extension": ".jl",
   "mimetype": "application/julia",
   "name": "julia",
   "version": "0.5.0"
  }
 },
 "nbformat": 4,
 "nbformat_minor": 2
}
