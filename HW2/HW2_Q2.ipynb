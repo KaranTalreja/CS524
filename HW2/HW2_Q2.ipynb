{
 "cells": [
  {
   "cell_type": "markdown",
   "metadata": {},
   "source": [
    "# Homework 2-Question-2 : Construction with constraints"
   ]
  },
  {
   "cell_type": "markdown",
   "metadata": {},
   "source": [
    " During the next 4 months, a construction firm must\n",
    "complete three projects. Each project has a deadline as well as labor requirements. Project 1 must be\n",
    "completed no later than 3 months from now and requires 8 worker-months of labor. Project 2 must\n",
    "be completed no later than 4 months from now and requires 10 worker-months of labor. Project 3\n",
    "must be completed no later than 2 months from now and requires 12 worker-months of labor. Each\n",
    "month, 8 workers are available. During a given month, no more than 6 workers can work on a single\n",
    "job. Determine whether all three projects can be completed on time."
   ]
  },
  {
   "cell_type": "markdown",
   "metadata": {},
   "source": [
    "## Problem Data "
   ]
  },
  {
   "cell_type": "code",
   "execution_count": 5,
   "metadata": {
    "collapsed": false
   },
   "outputs": [],
   "source": [
    "n_months = 4\n",
    "n_projects = 3\n",
    "tasks = range(1,n_projects)\n",
    "\n",
    "deadlines = Dict(zip(tasks,[3, 4, 2]))   # deadlines of each project\n",
    "work_required = Dict(zip(tasks,[8, 10, 12]))   # Total worker-months required for each project.\n",
    ";"
   ]
  },
  {
   "cell_type": "markdown",
   "metadata": {},
   "source": [
    "## Problem Model "
   ]
  },
  {
   "cell_type": "code",
   "execution_count": 6,
   "metadata": {
    "collapsed": false
   },
   "outputs": [
    {
     "data": {
      "text/latex": [
       "$$ workRequired_{1,4} + workRequired_{1,5} + workRequired_{2,5} + workRequired_{3,3} + workRequired_{3,4} + workRequired_{3,5} $$"
      ],
      "text/plain": [
       "workRequired[1,4] + workRequired[1,5] + workRequired[2,5] + workRequired[3,3] + workRequired[3,4] + workRequired[3,5]"
      ]
     },
     "execution_count": 6,
     "metadata": {},
     "output_type": "execute_result"
    }
   ],
   "source": [
    "using JuMP\n",
    "\n",
    "m = Model()\n",
    "# variables for work required for a project to complete at the start of each month\n",
    "# (Project, month)\n",
    "@variable(m, workRequired[1:n_projects,1:n_months+1] >= 0)\n",
    "#Initial condition to put total worker months required to be equal to work required for a project to\n",
    "#complete at the start of 1st month.\n",
    "for p in 1:n_projects \n",
    "    @constraint(m, workRequired[p,1] == work_required[p])\n",
    "end\n",
    "#variable to provide labor to each project each month\n",
    "@variable(m, 0 <= laborProvider[1:n_projects,1:n_months] <= 6)\n",
    "#constraint to limit the total availability of workers to 8 per month.\n",
    "@constraint(m, worker_constr[i in 1:n_months], sum(laborProvider[:,i]) <= 8)\n",
    "#constraints for flow of work left from month to next month\n",
    "for p in 1:n_projects\n",
    "    for mo in 2:n_months+1\n",
    "        @constraint(m, workRequired[p,mo] + laborProvider[p,mo-1] == workRequired[p,mo-1])\n",
    "    end\n",
    "end\n",
    "# objective to minimize the work required for completion of any project after its deadline.\n",
    "# A min value of Zero would tell us that its possible to deliver on all of these projects.\n",
    "@objective(m, Min, (sum(sum(workRequired[p, deadlines[p]+1:n_months+1]) for p in 1:n_projects)))"
   ]
  },
  {
   "cell_type": "code",
   "execution_count": 7,
   "metadata": {
    "collapsed": false
   },
   "outputs": [
    {
     "name": "stdout",
     "output_type": "stream",
     "text": [
      "Delay in completion of projects: 0.0\n",
      "Work done monthly for Projects\n",
      "Project 1 (8.0): [2.0,0.0,6.0,0.0]\n",
      "Project 2 (10.0): [0.0,2.0,2.0,6.0]\n",
      "Project 3 (12.0): [6.0,6.0,0.0,0.0]\n"
     ]
    }
   ],
   "source": [
    "solve(m)\n",
    "delayInCompletion = getobjectivevalue(m)\n",
    "println(\"Delay in completion of projects: \",delayInCompletion)\n",
    "laborProvided = getvalue(laborProvider)\n",
    "println(\"Work done monthly for Projects\")\n",
    "for p in 1:n_projects\n",
    "    println(\"Project \",p,\" (\",sum(laborProvided[p,:]),\"): \", laborProvided[p,:])\n",
    "end"
   ]
  },
  {
   "cell_type": "markdown",
   "metadata": {},
   "source": [
    "The delay in completion of projects is equal to Zero, which means all the projects met their individual deadlines and were completed in the required 4 months."
   ]
  }
 ],
 "metadata": {
  "kernelspec": {
   "display_name": "Julia 0.5.0",
   "language": "julia",
   "name": "julia-0.5"
  },
  "language_info": {
   "file_extension": ".jl",
   "mimetype": "application/julia",
   "name": "julia",
   "version": "0.5.0"
  }
 },
 "nbformat": 4,
 "nbformat_minor": 2
}
