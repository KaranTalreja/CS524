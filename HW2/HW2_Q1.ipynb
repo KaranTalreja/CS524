{
 "cells": [
  {
   "cell_type": "markdown",
   "metadata": {
    "collapsed": true
   },
   "source": [
    "# Homework 2-Question-1\n",
    "Stigler’s diet. True story! In 1945, American economist (and future Nobel laureate) George\n",
    "Stigler published a paper investigating the composition of an optimal diet; minimizing total cost while\n",
    "meeting the recommended daily allowance (RDA) of several nutrients. To answer this question, Stigler\n",
    "tabulated a list of 77 foods and their nutrient content for 9 nutrients: calories, protein, calcium, iron,\n",
    "vitamin A, thiamine, riboflavin, niacin, and ascorbic acid.\n",
    "\n",
    "Formulate Stigler’s diet problem as an LP and solve it. To get you started, Stigler’s original data\n",
    "is provided in stigler.csv, and the IJulia notebook stigler.ipynb imports the data and puts it\n",
    "into a convenient array format. How does your cheapest diet compare in annual cost to Stigler’s?\n",
    "What foods make up your optimal diet?"
   ]
  },
  {
   "cell_type": "markdown",
   "metadata": {},
   "source": [
    "## Load Data"
   ]
  },
  {
   "cell_type": "code",
   "execution_count": 1,
   "metadata": {
    "collapsed": true
   },
   "outputs": [],
   "source": [
    "using NamedArrays      # make sure you run Pkg.add(\"NamedArrays\") first!\n",
    "\n",
    "# import Stigler's data set\n",
    "raw = readcsv(\"stigler.csv\")\n",
    "(m,n) = size(raw)\n",
    "\n",
    "n_nutrients = 2:n      # columns containing nutrients\n",
    "n_foods = 3:m          # rows containing food names\n",
    "\n",
    "nutrients = raw[1,n_nutrients][:]   # the list of nutrients (convert to 1-D array)\n",
    "foods = raw[n_foods,1][:]           # the list of foods (convert to 1-D array)\n",
    "\n",
    "# lower[i] is the minimum daily requirement of nutrient i.\n",
    "lower = Dict( zip(nutrients,raw[2,n_nutrients]) )\n",
    "\n",
    "# data[f,i] is the amount of nutrient i contained in food f.\n",
    "data = NamedArray( raw[n_foods,n_nutrients], (foods,nutrients), (\"foods\",\"nutrients\") );"
   ]
  },
  {
   "cell_type": "markdown",
   "metadata": {},
   "source": [
    "## Problem Model"
   ]
  },
  {
   "cell_type": "code",
   "execution_count": 2,
   "metadata": {
    "collapsed": false
   },
   "outputs": [
    {
     "name": "stdout",
     "output_type": "stream",
     "text": [
      "0.02951906167648827\t\tWheat Flour (Enriched)\n",
      "0.0018925572907052643\t\tLiver (Beef)\n",
      "0.011214435246144865\t\tCabbage\n",
      "0.005007660466725203\t\tSpinach\n",
      "0.061028563526693246\t\tNavy Beans, Dried\n",
      "Minimum Cost yearly: $39.68889711501794\n"
     ]
    }
   ],
   "source": [
    "using JuMP\n",
    "\n",
    "m = Model()\n",
    "\n",
    "# Variable vector for quantities of food\n",
    "@variable(m, quantities[foods] >= 0)\n",
    "\n",
    "# expression for cost of total food. Since the quantites are per unit dollar, summation of quantities\n",
    "# is sufficient to calculate the total cost.\n",
    "@expression(m, cost, sum(quantities[f] for f in foods))\n",
    "\n",
    "# constraint to lower bound the quantity of nutrients required\n",
    "@constraint(m, min_req[n in nutrients],sum(data[f,n]*quantities[f] for f in foods) >= lower[n])\n",
    "\n",
    "# Objective to minimize the total cost\n",
    "@objective(m, Min, cost)\n",
    "\n",
    "solve(m)\n",
    "\n",
    "[println(getvalue(quantities[f]), \"\\t\\t\", f) for f in foods if getvalue(quantities)[f] > 0]\n",
    "println(\"Minimum Cost yearly: \\$\", getobjectivevalue(m)*365.25)"
   ]
  },
  {
   "cell_type": "markdown",
   "metadata": {},
   "source": [
    "## Vegan and Gluten Free Diet\n",
    "I will add the following constraints to the model created above. This constraints are only applied seeing the minimum cost diet solution given by the solver above.\n",
    "- Liver(Beef) : Comes from animals so it's not vegan.\n",
    "- Wheat Flour (Enriched) : Contains gluten.\n",
    "- Lard : Animal fat\n",
    "\n",
    "So the quantities of these are constrained to be zero."
   ]
  },
  {
   "cell_type": "code",
   "execution_count": 9,
   "metadata": {
    "collapsed": false
   },
   "outputs": [
    {
     "name": "stdout",
     "output_type": "stream",
     "text": [
      "0.005344246335991787\t\tCorn Meal\n",
      "0.01131324508827593\t\tCabbage\n",
      "0.00517574850128731\t\tSpinach\n",
      "0.10306689112726254\t\tNavy Beans, Dried\n",
      "Minimum Cost yearly: $45.61977286704162\n"
     ]
    }
   ],
   "source": [
    "non_vegan = [\"Wheat Flour (Enriched)\", \"Liver (Beef)\", \"Lard\"]\n",
    "for nv in non_vegan\n",
    "    @constraint(m, [nv], quantities[nv] == 0)\n",
    "end\n",
    "solve(m)\n",
    "\n",
    "[println(getvalue(quantities[f]), \"\\t\\t\", f) for f in foods if getvalue(quantities)[f] > 0]\n",
    "println(\"Minimum Cost yearly: \\$\", getobjectivevalue(m)*365.25)"
   ]
  },
  {
   "cell_type": "markdown",
   "metadata": {},
   "source": [
    "So the minimum cost increases from \\$39.69 to \\$45.62 annualy for vegan and gluten-free diet"
   ]
  }
 ],
 "metadata": {
  "kernelspec": {
   "display_name": "Julia 0.5.0",
   "language": "julia",
   "name": "julia-0.5"
  },
  "language_info": {
   "file_extension": ".jl",
   "mimetype": "application/julia",
   "name": "julia",
   "version": "0.5.0"
  }
 },
 "nbformat": 4,
 "nbformat_minor": 2
}
