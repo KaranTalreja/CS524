{
 "cells": [
  {
   "cell_type": "markdown",
   "metadata": {},
   "source": [
    "# Homework 9 Question 2:  Fertilizer influence model.\n",
    "A series of experiments is conducted to determine the effect\n",
    "of a particular fertilizer on wheat crop yield. Here are the results: Such situations typically involve\n",
    "\n",
    "\n",
    "fertilizer rate (x) | crop yield (y)\n",
    "--- | --- \n",
    "−5 | 127\n",
    "−3 | 151\n",
    "−1 | 379\n",
    "1 | 421\n",
    "3 | 460\n",
    "5 | 426\n",
    "\n",
    "some sort of “diminishing returns”. So there is a limit to how much the fertilizer can boost the yield.\n",
    "A popular model for this relationship is the following:\n",
    "$$y = k_1 + k_2 exp(k_3x)$$\n",
    "Use nonlinear least squares to determine the values of ($k_1$, $k_2$, $k_3$) that provide the best fit to the data.\n",
    "We are expecting coefficients in the neighborhood of (500, −200, −1).\n",
    "To display your result, produce a plot of the original data points and the best-fit curve."
   ]
  },
  {
   "cell_type": "markdown",
   "metadata": {},
   "source": [
    "## Problem Data"
   ]
  },
  {
   "cell_type": "code",
   "execution_count": 1,
   "metadata": {
    "collapsed": true
   },
   "outputs": [],
   "source": [
    "x = [-5 -3 -1 1 3 5]\n",
    "y = [127 151 379 421 460 426];"
   ]
  },
  {
   "cell_type": "markdown",
   "metadata": {},
   "source": [
    "## Problem Model"
   ]
  },
  {
   "cell_type": "code",
   "execution_count": 2,
   "metadata": {
    "collapsed": false
   },
   "outputs": [
    {
     "name": "stdout",
     "output_type": "stream",
     "text": [
      "\n",
      "******************************************************************************\n",
      "This program contains Ipopt, a library for large-scale nonlinear optimization.\n",
      " Ipopt is released as open source code under the Eclipse Public License (EPL).\n",
      "         For more information visit http://projects.coin-or.org/Ipopt\n",
      "******************************************************************************\n",
      "\n"
     ]
    },
    {
     "data": {
      "text/plain": [
       ":Optimal"
      ]
     },
     "execution_count": 2,
     "metadata": {},
     "output_type": "execute_result"
    }
   ],
   "source": [
    "using JuMP, Ipopt\n",
    "n = 6\n",
    "m = Model(solver=IpoptSolver(print_level=0))\n",
    "\n",
    "@variable(m, k[1:3])\n",
    "\n",
    "@NLexpression(m, y_pred[i=1:n], k[1] + k[2]*e^(k[3]*x[i]))\n",
    "@NLobjective(m, Min, (sum((y[i] - y_pred[i])^2 for i in 1:n)))\n",
    "                \n",
    "setvalue(k, [500; -200; -1])\n",
    "\n",
    "solve(m)"
   ]
  },
  {
   "cell_type": "code",
   "execution_count": 3,
   "metadata": {
    "collapsed": false
   },
   "outputs": [
    {
     "name": "stdout",
     "output_type": "stream",
     "text": [
      "Optimal K: [523.306,-156.948,-0.199665]\n",
      "Error: 13390.093119479578\n",
      "Predictions: [97.392,237.616,331.673,394.764,437.084,465.471]\n",
      "Original: [127 151 379 421 460 426]\n"
     ]
    }
   ],
   "source": [
    "println(\"Optimal K: \", getvalue(k))\n",
    "println(\"Error: \", getobjectivevalue(m))\n",
    "println(\"Predictions: \", getvalue(y_pred))\n",
    "println(\"Original: \", y)"
   ]
  },
  {
   "cell_type": "code",
   "execution_count": 20,
   "metadata": {
    "collapsed": false
   },
   "outputs": [
    {
     "data": {
      "image/png": "[encoded data removed]",
      "text/plain": [
       "PyPlot.Figure(PyObject <matplotlib.figure.Figure object at 0x31a18de90>)"
      ]
     },
     "metadata": {},
     "output_type": "display_data"
    }
   ],
   "source": [
    "using PyPlot\n",
    "Y = getvalue(y_pred)\n",
    "plot(x,y,\".r\", label=\"true position\")\n",
    "plot(x',Y,\"b-\", label=\"Modelled\");"
   ]
  }
 ],
 "metadata": {
  "kernelspec": {
   "display_name": "Julia 0.5.0",
   "language": "julia",
   "name": "julia-0.5"
  },
  "language_info": {
   "file_extension": ".jl",
   "mimetype": "application/julia",
   "name": "julia",
   "version": "0.5.0"
  }
 },
 "nbformat": 4,
 "nbformat_minor": 2
}
