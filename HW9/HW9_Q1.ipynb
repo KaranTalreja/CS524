{
 "cells": [
  {
   "cell_type": "markdown",
   "metadata": {},
   "source": [
    "# Homework 9 Question 1: Hexagon construction.\n",
    "The goal is to figure out the optimal geometry of a hexagon such\n",
    "that (1) the hexagon’s area is maximized and (2) the hexagon’s diameter does not exceed 1. The\n",
    "diameter of the hexagon is the largest distance between any pair of points belonging to the hexagon.\n",
    "There are many different ways to solve this problem.\n",
    "\n",
    "Plot a picture of the optimal hexagon. "
   ]
  },
  {
   "cell_type": "code",
   "execution_count": 5,
   "metadata": {
    "collapsed": false,
    "scrolled": false
   },
   "outputs": [
    {
     "name": "stdout",
     "output_type": "stream",
     "text": [
      "Optimal\n",
      "Optimal area: 0.6749814387708283\n"
     ]
    },
    {
     "data": {
      "text/plain": [
       "6×2 Array{Float64,2}:\n",
       " -4.77545e-39  6.83553e-40\n",
       "  0.295477     0.4745     \n",
       "  0.11147      0.771206   \n",
       " -0.163322     0.986573   \n",
       " -0.667303     0.744787   \n",
       " -0.633317     0.103904   "
      ]
     },
     "execution_count": 5,
     "metadata": {},
     "output_type": "execute_result"
    }
   ],
   "source": [
    "# rectangular coordinates\n",
    "\n",
    "using JuMP, Ipopt\n",
    "n = 6\n",
    "m = Model(solver = IpoptSolver(print_level=0))\n",
    "\n",
    "@variable(m, x[1:n] )\n",
    "@variable(m, y[1:n] )\n",
    "\n",
    "# constraint one vertex on origin\n",
    "@constraint(m, x[1] == 0)\n",
    "@constraint(m, y[1] == 0)\n",
    "\n",
    "# objective to maximize the area of 4 triangles that form the hexagon\n",
    "@NLobjective(m, Max, 0.5*sum( x[i]*y[i+1]-y[i]*x[i+1] for i=2:n-1))\n",
    "            \n",
    "# objective for each vertex with other vertex to be at least 1 unit apart\n",
    "for i = 1:n\n",
    " for j = 1:n\n",
    "    @NLconstraint(m, ((x[i]-x[j])^2 + (y[i]-y[j])^2) <= 1)\n",
    " end\n",
    "end  \n",
    "\n",
    "# add ordering constraint to the vertices\n",
    "for i = 1:n-1\n",
    "    @NLconstraint(m, x[i]*y[i+1]-y[i]*x[i+1] >= 0 )\n",
    "end\n",
    "@NLconstraint(m, x[n]*y[1]-y[n]*x[1] >= 0 )\n",
    "\n",
    "srand(0)\n",
    "setvalue(x,rand(n))\n",
    "setvalue(y,rand(n))\n",
    "\n",
    "status = solve(m)\n",
    "println(status)\n",
    "println(\"Optimal area: \", getobjectivevalue(m))\n",
    "getvalue([x y])"
   ]
  },
  {
   "cell_type": "code",
   "execution_count": 6,
   "metadata": {
    "collapsed": false
   },
   "outputs": [
    {
     "data": {
      "image/png": "[encoded data removed]",
      "text/plain": [
       "PyPlot.Figure(PyObject <matplotlib.figure.Figure object at 0x311429bd0>)"
      ]
     },
     "metadata": {},
     "output_type": "display_data"
    }
   ],
   "source": [
    "using PyPlot\n",
    "xopt = getvalue([x; x[1]])\n",
    "yopt = getvalue([y; y[1]])\n",
    "figure(figsize=[5,5])\n",
    "plot( xopt, yopt, \"r.-\" )\n",
    "plot( 0,0,\"b.\")\n",
    "axis(\"equal\");axis(\"on\")\n",
    "grid(\"on\");"
   ]
  },
  {
   "cell_type": "code",
   "execution_count": 7,
   "metadata": {
    "collapsed": false
   },
   "outputs": [
    {
     "name": "stdout",
     "output_type": "stream",
     "text": [
      "Distance b/w (1,1) points: 0.0\n",
      "Distance b/w (1,2) points: 0.31245708339472317\n",
      "Distance b/w (1,3) points: 0.6071847023626462\n",
      "Distance b/w (1,4) points: 0.9999999986456775\n",
      "Distance b/w (1,5) points: 0.9999999917541671\n",
      "Distance b/w (1,6) points: 0.41188606953581264\n",
      "Distance b/w (2,1) points: 0.31245708339472317\n",
      "Distance b/w (2,2) points: 0.0\n",
      "Distance b/w (2,3) points: 0.12189331293971255\n",
      "Distance b/w (2,4) points: 0.47271526538283504\n",
      "Distance b/w (2,5) points: 0.9999999986456771\n",
      "Distance b/w (2,6) points: 0.9999999662853343\n",
      "Distance b/w (3,1) points: 0.6071847023626462\n",
      "Distance b/w (3,2) points: 0.12189331293971255\n",
      "Distance b/w (3,3) points: 0.0\n",
      "Distance b/w (3,4) points: 0.12189331371192778\n",
      "Distance b/w (3,5) points: 0.6071847023948855\n",
      "Distance b/w (3,6) points: 0.9999999994221487\n",
      "Distance b/w (4,1) points: 0.9999999986456775\n",
      "Distance b/w (4,2) points: 0.47271526538283504\n",
      "Distance b/w (4,3) points: 0.12189331371192778\n",
      "Distance b/w (4,4) points: 0.0\n",
      "Distance b/w (4,5) points: 0.3124570816884688\n",
      "Distance b/w (4,6) points: 0.9999999662853328\n",
      "Distance b/w (5,1) points: 0.9999999917541671\n",
      "Distance b/w (5,2) points: 0.9999999986456771\n",
      "Distance b/w (5,3) points: 0.6071847023948855\n",
      "Distance b/w (5,4) points: 0.3124570816884688\n",
      "Distance b/w (5,5) points: 0.0\n",
      "Distance b/w (5,6) points: 0.4118860723464287\n",
      "Distance b/w (6,1) points: 0.41188606953581264\n",
      "Distance b/w (6,2) points: 0.9999999662853343\n",
      "Distance b/w (6,3) points: 0.9999999994221487\n",
      "Distance b/w (6,4) points: 0.9999999662853328\n",
      "Distance b/w (6,5) points: 0.4118860723464287\n",
      "Distance b/w (6,6) points: 0.0\n"
     ]
    }
   ],
   "source": [
    "X = getvalue(x)\n",
    "Y = getvalue(y)\n",
    "for i = 1:n\n",
    " for j = 1:n\n",
    "    println(\"Distance b/w (\",i,\",\",j,\") points: \",(X[i]-X[j])^2 + (Y[i]-Y[j])^2)\n",
    " end\n",
    "end"
   ]
  },
  {
   "cell_type": "code",
   "execution_count": 8,
   "metadata": {
    "collapsed": false
   },
   "outputs": [
    {
     "name": "stdout",
     "output_type": "stream",
     "text": [
      "Area of triangle between vertices 1,2,3: 0.08749072052423558\n",
      "Area of triangle between vertices 1,3,4: 0.11796405728664686\n",
      "Area of triangle between vertices 1,4,5: 0.2683513197351244\n",
      "Area of triangle between vertices 1,5,6: 0.20117534122482147\n"
     ]
    }
   ],
   "source": [
    "[println(\"Area of triangle between vertices 1,\",i,\",\",i+1,\": \",0.5*(X[i]*Y[i+1]-Y[i]*X[i+1])) for i=2:n-1];"
   ]
  }
 ],
 "metadata": {
  "kernelspec": {
   "display_name": "Julia 0.5.0",
   "language": "julia",
   "name": "julia-0.5"
  },
  "language_info": {
   "file_extension": ".jl",
   "mimetype": "application/julia",
   "name": "julia",
   "version": "0.5.0"
  }
 },
 "nbformat": 4,
 "nbformat_minor": 2
}
