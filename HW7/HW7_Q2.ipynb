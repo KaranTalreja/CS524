{
 "cells": [
  {
   "cell_type": "markdown",
   "metadata": {},
   "source": [
    "# Homework 7 Question 2: Comquat Computers.\n",
    "Comquat owns four production plants at which personal computers\n",
    "are produced. Comquat can sell up to 20,000 computers per year at a price of $3,500 per computer. For\n",
    "each plant the production capacity, cost per computer, and fixed cost of operating the plant for a year\n",
    "are given below. Determine how Comquat can maximize its yearly profit from computer production. \n",
    "\n",
    "Plant Production | capacity | Plant fixed cost (\\$ Million) | Cost per computer ($)\n",
    "--- | --- | --- | ---\n",
    "1 | 10,000 | 9 | 1,000\n",
    "2 | 8,000 | 5 | 1,700\n",
    "3 | 9,000 | 3 | 2,300\n",
    "4 | 6,000 | 1 | 2,900"
   ]
  },
  {
   "cell_type": "markdown",
   "metadata": {},
   "source": [
    "## Problem Data "
   ]
  },
  {
   "cell_type": "code",
   "execution_count": 1,
   "metadata": {
    "collapsed": true
   },
   "outputs": [],
   "source": [
    "Plants = [:one, :two, :three, :four]\n",
    "raw_capacity = [10000, 8000, 9000, 6000]\n",
    "capacity = Dict(zip(Plants, raw_capacity))\n",
    "fixedCost = Dict(zip(Plants, [9, 5, 3, 1]))\n",
    "costPerPc = Dict(zip(Plants, [1000, 1700, 2300, 2900]));"
   ]
  },
  {
   "cell_type": "markdown",
   "metadata": {},
   "source": [
    "## Problem Model "
   ]
  },
  {
   "cell_type": "code",
   "execution_count": 2,
   "metadata": {
    "collapsed": false
   },
   "outputs": [
    {
     "data": {
      "text/latex": [
       "$$ \\begin{alignat*}{1}\\max\\quad & 2500 production_{one} + 1800 production_{two} + 1200 production_{three} + 600 production_{four} - 9.0e6 plantUsed_{one} - 5.0e6 plantUsed_{two} - 3.0e6 plantUsed_{three} - 1.0e6 plantUsed_{four}\\\\\n",
       "\\text{Subject to} \\quad & production_{one} - 10000 plantUsed_{one} \\leq 0\\\\\n",
       " & production_{two} - 8000 plantUsed_{two} \\leq 0\\\\\n",
       " & production_{three} - 9000 plantUsed_{three} \\leq 0\\\\\n",
       " & production_{four} - 6000 plantUsed_{four} \\leq 0\\\\\n",
       " & production_{one} + production_{two} + production_{three} + production_{four} \\leq 20000\\\\\n",
       " & production_{i} \\geq 0, \\in \\mathbb{Z}, \\quad\\forall i \\in \\{one,two,three,four\\}\\\\\n",
       " & plantUsed_{i} \\in \\{0,1\\} \\quad\\forall i \\in \\{one,two,three,four\\}\\\\\n",
       "\\end{alignat*}\n",
       " $$"
      ],
      "text/plain": [
       "Maximization problem with:\n",
       " * 5 linear constraints\n",
       " * 8 variables: 4 binary, 4 integer\n",
       "Solver is CbcMathProg"
      ]
     },
     "execution_count": 2,
     "metadata": {},
     "output_type": "execute_result"
    }
   ],
   "source": [
    "using JuMP, Cbc\n",
    "\n",
    "m = Model(solver=CbcSolver())\n",
    "\n",
    "@variable(m, production[Plants] >= 0, Int)  # Production per plant\n",
    "@variable(m, plantUsed[Plants], Bin)\n",
    "\n",
    "  # capacity constraints\n",
    "@constraint(m, cap_constr[p in Plants], production[p] <= plantUsed[p]*capacity[p])\n",
    "@constraint(m, sum(production[p] for p in Plants) <= 20000)  # Selling constraints\n",
    "\n",
    "# expression for cost\n",
    "@expression(m, cost, sum(costPerPc[p]*production[p] + plantUsed[p]*fixedCost[p]*1000000\n",
    "                    for p in Plants))\n",
    "# expression for sell price\n",
    "@expression(m, sellPrice, sum(production[p]*3500 for p in Plants))\n",
    "                        \n",
    "# objective to maximize profit\n",
    "@objective(m, Max, sellPrice - cost)\n",
    "m"
   ]
  },
  {
   "cell_type": "code",
   "execution_count": 3,
   "metadata": {
    "collapsed": false
   },
   "outputs": [
    {
     "name": "stdout",
     "output_type": "stream",
     "text": [
      "Status: Optimal\n",
      "Max profit 2.56e7\n",
      "Production production: 1 dimensions:\n",
      "[  one] = 10000.0\n",
      "[  two] = 8000.0\n",
      "[three] = 0.0\n",
      "[ four] = 2000.0\n",
      "\n",
      "Plant Used plantUsed: 1 dimensions:\n",
      "[  one] = 1.0\n",
      "[  two] = 1.0\n",
      "[three] = 0.0\n",
      "[ four] = 1.0\n",
      "\n"
     ]
    }
   ],
   "source": [
    "status = solve(m)\n",
    "println(\"Status: \",status)\n",
    "println(\"Max profit \", getobjectivevalue(m))\n",
    "println(\"Production \", getvalue(production))\n",
    "println(\"Plant Used \", getvalue(plantUsed))"
   ]
  }
 ],
 "metadata": {
  "kernelspec": {
   "display_name": "Julia 0.5.0",
   "language": "julia",
   "name": "julia-0.5"
  },
  "language_info": {
   "file_extension": ".jl",
   "mimetype": "application/julia",
   "name": "julia",
   "version": "0.5.0"
  }
 },
 "nbformat": 4,
 "nbformat_minor": 2
}
