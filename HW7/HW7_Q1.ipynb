{
 "cells": [
  {
   "cell_type": "markdown",
   "metadata": {},
   "source": [
    "# Homework 7 Question 1: Thrift Store\n",
    "How should you make change for 99 cents if the goal is to minimize the total\n",
    "weight of the coins used? The following table shows the weight of each type of coin. You may use any\n",
    "number of each type of coin\n",
    "\n",
    "Type of Coin | penny | nickel | dime | quarter |\n",
    "---|---|---|---| --- |\n",
    "Weight (grams) | 2.500 | 5.000 | 2.268 | 5.670"
   ]
  },
  {
   "cell_type": "markdown",
   "metadata": {},
   "source": [
    "## Problem Data "
   ]
  },
  {
   "cell_type": "code",
   "execution_count": 1,
   "metadata": {
    "collapsed": false
   },
   "outputs": [],
   "source": [
    "typeOfCoins = [:penny, :nickel, :dime, :quarter]\n",
    "weight = Dict(zip(typeOfCoins, [2.5, 5.0, 2.268, 5.670]))\n",
    "value = Dict(zip(typeOfCoins, [1, 5, 10, 25]));"
   ]
  },
  {
   "cell_type": "markdown",
   "metadata": {},
   "source": [
    "## Problem Model "
   ]
  },
  {
   "cell_type": "code",
   "execution_count": 2,
   "metadata": {
    "collapsed": false
   },
   "outputs": [
    {
     "data": {
      "text/latex": [
       "$$ \\begin{alignat*}{1}\\min\\quad & 2.5 coins_{penny} + 5 coins_{nickel} + 2.268 coins_{dime} + 5.67 coins_{quarter}\\\\\n",
       "\\text{Subject to} \\quad & coins_{penny} + 5 coins_{nickel} + 10 coins_{dime} + 25 coins_{quarter} = 99\\\\\n",
       " & coins_{i} \\geq 0, \\in \\mathbb{Z}, \\quad\\forall i \\in \\{penny,nickel,dime,quarter\\}\\\\\n",
       "\\end{alignat*}\n",
       " $$"
      ],
      "text/plain": [
       "Minimization problem with:\n",
       " * 1 linear constraint\n",
       " * 4 variables: 4 integer\n",
       "Solver is CbcMathProg"
      ]
     },
     "execution_count": 2,
     "metadata": {},
     "output_type": "execute_result"
    }
   ],
   "source": [
    "using JuMP, Cbc\n",
    "\n",
    "m = Model(solver=CbcSolver())\n",
    "\n",
    "@variable(m, coins[typeOfCoins] >= 0, Int)  # number of each type of coins\n",
    "\n",
    "@constraint(m, sum(value[c]*coins[c] for c in typeOfCoins) == 99)  # constraint for total value 99\n",
    "\n",
    "@objective(m, Min, sum(weight[c]*coins[c] for c in typeOfCoins))  # minimize total weight of change\n",
    "                        \n",
    "m"
   ]
  },
  {
   "cell_type": "code",
   "execution_count": 3,
   "metadata": {
    "collapsed": false
   },
   "outputs": [
    {
     "name": "stdout",
     "output_type": "stream",
     "text": [
      "Status: Optimal\n",
      "Coins coins: 1 dimensions:\n",
      "[  penny] = 4.0\n",
      "[ nickel] = 0.0\n",
      "[   dime] = 7.000000000000001\n",
      "[quarter] = 1.0\n",
      "\n",
      "Total weight 31.546gms\n"
     ]
    }
   ],
   "source": [
    "status = solve(m)\n",
    "println(\"Status: \", status)\n",
    "println(\"Coins \", getvalue(coins))\n",
    "println(\"Total weight \", getobjectivevalue(m), \"gms\")"
   ]
  }
 ],
 "metadata": {
  "kernelspec": {
   "display_name": "Julia 0.5.0",
   "language": "julia",
   "name": "julia-0.5"
  },
  "language_info": {
   "file_extension": ".jl",
   "mimetype": "application/julia",
   "name": "julia",
   "version": "0.5.0"
  }
 },
 "nbformat": 4,
 "nbformat_minor": 2
}
