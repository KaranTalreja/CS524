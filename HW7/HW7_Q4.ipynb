{
 "cells": [
  {
   "cell_type": "markdown",
   "metadata": {},
   "source": [
    "# Homework 7 Question 4:  Lights Out.\n",
    "In Tiger Electronic’s handheld solitaire game Lights Out, the player strives to\n",
    "turn out all 25 lights that make up a 5 × 5 grid of cells. On each turn, the player is allowed to click\n",
    "on any one cell. Clicking on a cell activates a switch that causes the states of the cell and its (edge)\n",
    "neighbors to change from on to off, or from off to on. Corner cells are considered to have 2 neighbors,\n",
    "edge cells to have three, and interior cells to have four. Find a way to turn out all the lights in as few\n",
    "turns as possible (starting from the state where all lights are on)."
   ]
  },
  {
   "cell_type": "markdown",
   "metadata": {},
   "source": [
    "## Problem Data"
   ]
  },
  {
   "cell_type": "code",
   "execution_count": 1,
   "metadata": {
    "collapsed": false
   },
   "outputs": [],
   "source": [
    "rows = 5\n",
    "columns = 5;"
   ]
  },
  {
   "cell_type": "code",
   "execution_count": 2,
   "metadata": {
    "collapsed": false
   },
   "outputs": [],
   "source": [
    "# Operations allowed to get neighbor of a cell.\n",
    "# First column element is for row and second column for column operation\n",
    "ops = [1 0;\n",
    "       0 1;\n",
    "      -1 0;\n",
    "       0 -1]\n",
    "\n",
    "# Helper function to generate neihbours\n",
    "function get_nbr(i, j, max_row, max_col)\n",
    "    retval = []\n",
    "    for o in 1:length(ops[:,1])\n",
    "        if i + ops[o,1] <= rows && i + ops[o,1] >= 1\n",
    "            if j + ops[o,2] <= columns && j + ops[o,2] >= 1\n",
    "                push!(retval,(i + ops[o,1], j + ops[o,2]))\n",
    "            end\n",
    "        end\n",
    "    end\n",
    "    return retval\n",
    "end;"
   ]
  },
  {
   "cell_type": "code",
   "execution_count": 3,
   "metadata": {
    "collapsed": false
   },
   "outputs": [
    {
     "name": "stdout",
     "output_type": "stream",
     "text": [
      "Neighbours\n",
      "(1,1): Any[(2,1),(1,2)]\n",
      "(1,2): Any[(2,2),(1,3),(1,1)]\n",
      "(1,3): Any[(2,3),(1,4),(1,2)]\n",
      "(1,4): Any[(2,4),(1,5),(1,3)]\n",
      "(1,5): Any[(2,5),(1,4)]\n",
      "(2,1): Any[(3,1),(2,2),(1,1)]\n",
      "(2,2): Any[(3,2),(2,3),(1,2),(2,1)]\n",
      "(2,3): Any[(3,3),(2,4),(1,3),(2,2)]\n",
      "(2,4): Any[(3,4),(2,5),(1,4),(2,3)]\n",
      "(2,5): Any[(3,5),(1,5),(2,4)]\n",
      "(3,1): Any[(4,1),(3,2),(2,1)]\n",
      "(3,2): Any[(4,2),(3,3),(2,2),(3,1)]\n",
      "(3,3): Any[(4,3),(3,4),(2,3),(3,2)]\n",
      "(3,4): Any[(4,4),(3,5),(2,4),(3,3)]\n",
      "(3,5): Any[(4,5),(2,5),(3,4)]\n",
      "(4,1): Any[(5,1),(4,2),(3,1)]\n",
      "(4,2): Any[(5,2),(4,3),(3,2),(4,1)]\n",
      "(4,3): Any[(5,3),(4,4),(3,3),(4,2)]\n",
      "(4,4): Any[(5,4),(4,5),(3,4),(4,3)]\n",
      "(4,5): Any[(5,5),(3,5),(4,4)]\n",
      "(5,1): Any[(5,2),(4,1)]\n",
      "(5,2): Any[(5,3),(4,2),(5,1)]\n",
      "(5,3): Any[(5,4),(4,3),(5,2)]\n",
      "(5,4): Any[(5,5),(4,4),(5,3)]\n",
      "(5,5): Any[(4,5),(5,4)]\n"
     ]
    }
   ],
   "source": [
    "println(\"Neighbours\")\n",
    "[println(\"(\",i,\",\",j,\"): \",get_nbr(i,j, rows,columns)) for i in 1:rows for j in 1:columns];"
   ]
  },
  {
   "cell_type": "markdown",
   "metadata": {},
   "source": [
    "## Problem Model "
   ]
  },
  {
   "cell_type": "code",
   "execution_count": 4,
   "metadata": {
    "collapsed": false
   },
   "outputs": [
    {
     "data": {
      "text/latex": [
       "$$ \\begin{alignat*}{1}\\min\\quad & clicked_{1,1} + clicked_{1,2} + clicked_{1,3} + clicked_{1,4} + clicked_{1,5} + clicked_{2,1} + clicked_{2,2} + clicked_{2,3} + clicked_{2,4} + clicked_{2,5} + clicked_{3,1} + clicked_{3,2} + clicked_{3,3} + clicked_{3,4} + clicked_{3,5} + clicked_{4,1} + clicked_{4,2} + clicked_{4,3} + clicked_{4,4} + clicked_{4,5} + clicked_{5,1} + clicked_{5,2} + clicked_{5,3} + clicked_{5,4} + clicked_{5,5}\\\\\n",
       "\\text{Subject to} \\quad & toggled_{1,1} - 2 t_{1,1} = 1\\\\\n",
       " & toggled_{1,2} - 2 t_{1,2} = 1\\\\\n",
       " & toggled_{1,3} - 2 t_{1,3} = 1\\\\\n",
       " & toggled_{1,4} - 2 t_{1,4} = 1\\\\\n",
       " & toggled_{1,5} - 2 t_{1,5} = 1\\\\\n",
       " & toggled_{2,1} - 2 t_{2,1} = 1\\\\\n",
       " & toggled_{2,2} - 2 t_{2,2} = 1\\\\\n",
       " & toggled_{2,3} - 2 t_{2,3} = 1\\\\\n",
       " & toggled_{2,4} - 2 t_{2,4} = 1\\\\\n",
       " & toggled_{2,5} - 2 t_{2,5} = 1\\\\\n",
       " & toggled_{3,1} - 2 t_{3,1} = 1\\\\\n",
       " & toggled_{3,2} - 2 t_{3,2} = 1\\\\\n",
       " & toggled_{3,3} - 2 t_{3,3} = 1\\\\\n",
       " & toggled_{3,4} - 2 t_{3,4} = 1\\\\\n",
       " & toggled_{3,5} - 2 t_{3,5} = 1\\\\\n",
       " & toggled_{4,1} - 2 t_{4,1} = 1\\\\\n",
       " & toggled_{4,2} - 2 t_{4,2} = 1\\\\\n",
       " & toggled_{4,3} - 2 t_{4,3} = 1\\\\\n",
       " & toggled_{4,4} - 2 t_{4,4} = 1\\\\\n",
       " & toggled_{4,5} - 2 t_{4,5} = 1\\\\\n",
       " & toggled_{5,1} - 2 t_{5,1} = 1\\\\\n",
       " & toggled_{5,2} - 2 t_{5,2} = 1\\\\\n",
       " & toggled_{5,3} - 2 t_{5,3} = 1\\\\\n",
       " & toggled_{5,4} - 2 t_{5,4} = 1\\\\\n",
       " & toggled_{5,5} - 2 t_{5,5} = 1\\\\\n",
       " & clicked_{1,1} + clicked_{2,1} + clicked_{1,2} - toggled_{1,1} = 0\\\\\n",
       " & clicked_{1,2} + clicked_{2,2} + clicked_{1,3} + clicked_{1,1} - toggled_{1,2} = 0\\\\\n",
       " & clicked_{1,3} + clicked_{2,3} + clicked_{1,4} + clicked_{1,2} - toggled_{1,3} = 0\\\\\n",
       " & clicked_{1,4} + clicked_{2,4} + clicked_{1,5} + clicked_{1,3} - toggled_{1,4} = 0\\\\\n",
       " & clicked_{1,5} + clicked_{2,5} + clicked_{1,4} - toggled_{1,5} = 0\\\\\n",
       " & clicked_{2,1} + clicked_{3,1} + clicked_{2,2} + clicked_{1,1} - toggled_{2,1} = 0\\\\\n",
       " & clicked_{2,2} + clicked_{3,2} + clicked_{2,3} + clicked_{1,2} + clicked_{2,1} - toggled_{2,2} = 0\\\\\n",
       " & clicked_{2,3} + clicked_{3,3} + clicked_{2,4} + clicked_{1,3} + clicked_{2,2} - toggled_{2,3} = 0\\\\\n",
       " & clicked_{2,4} + clicked_{3,4} + clicked_{2,5} + clicked_{1,4} + clicked_{2,3} - toggled_{2,4} = 0\\\\\n",
       " & clicked_{2,5} + clicked_{3,5} + clicked_{1,5} + clicked_{2,4} - toggled_{2,5} = 0\\\\\n",
       " & clicked_{3,1} + clicked_{4,1} + clicked_{3,2} + clicked_{2,1} - toggled_{3,1} = 0\\\\\n",
       " & clicked_{3,2} + clicked_{4,2} + clicked_{3,3} + clicked_{2,2} + clicked_{3,1} - toggled_{3,2} = 0\\\\\n",
       " & clicked_{3,3} + clicked_{4,3} + clicked_{3,4} + clicked_{2,3} + clicked_{3,2} - toggled_{3,3} = 0\\\\\n",
       " & clicked_{3,4} + clicked_{4,4} + clicked_{3,5} + clicked_{2,4} + clicked_{3,3} - toggled_{3,4} = 0\\\\\n",
       " & clicked_{3,5} + clicked_{4,5} + clicked_{2,5} + clicked_{3,4} - toggled_{3,5} = 0\\\\\n",
       " & clicked_{4,1} + clicked_{5,1} + clicked_{4,2} + clicked_{3,1} - toggled_{4,1} = 0\\\\\n",
       " & clicked_{4,2} + clicked_{5,2} + clicked_{4,3} + clicked_{3,2} + clicked_{4,1} - toggled_{4,2} = 0\\\\\n",
       " & clicked_{4,3} + clicked_{5,3} + clicked_{4,4} + clicked_{3,3} + clicked_{4,2} - toggled_{4,3} = 0\\\\\n",
       " & clicked_{4,4} + clicked_{5,4} + clicked_{4,5} + clicked_{3,4} + clicked_{4,3} - toggled_{4,4} = 0\\\\\n",
       " & clicked_{4,5} + clicked_{5,5} + clicked_{3,5} + clicked_{4,4} - toggled_{4,5} = 0\\\\\n",
       " & clicked_{5,1} + clicked_{5,2} + clicked_{4,1} - toggled_{5,1} = 0\\\\\n",
       " & clicked_{5,2} + clicked_{5,3} + clicked_{4,2} + clicked_{5,1} - toggled_{5,2} = 0\\\\\n",
       " & clicked_{5,3} + clicked_{5,4} + clicked_{4,3} + clicked_{5,2} - toggled_{5,3} = 0\\\\\n",
       " & clicked_{5,4} + clicked_{5,5} + clicked_{4,4} + clicked_{5,3} - toggled_{5,4} = 0\\\\\n",
       " & clicked_{5,5} + clicked_{4,5} + clicked_{5,4} - toggled_{5,5} = 0\\\\\n",
       " & t_{i,j} \\geq 0, \\in \\mathbb{Z}, \\quad\\forall i \\in \\{1,2,3,4,5\\}, j \\in \\{1,2,3,4,5\\}\\\\\n",
       " & toggled_{i,j} free \\quad\\forall i \\in \\{1,2,3,4,5\\}, j \\in \\{1,2,3,4,5\\}\\\\\n",
       " & clicked_{i,j} \\in \\{0,1\\} \\quad\\forall i \\in \\{1,2,3,4,5\\}, j \\in \\{1,2,3,4,5\\}\\\\\n",
       "\\end{alignat*}\n",
       " $$"
      ],
      "text/plain": [
       "Minimization problem with:\n",
       " * 50 linear constraints\n",
       " * 75 variables: 25 binary, 25 integer\n",
       "Solver is CbcMathProg"
      ]
     },
     "execution_count": 4,
     "metadata": {},
     "output_type": "execute_result"
    }
   ],
   "source": [
    "using JuMP, Cbc\n",
    "\n",
    "m = Model(solver=CbcSolver())\n",
    "\n",
    "# dummy decision variable to make number of toggles odd\n",
    "@variable(m, t[1:rows,1:columns] >= 0, Int)\n",
    "# Number of times a cell has been toggled\n",
    "@variable(m, toggled[1:rows,1:columns])\n",
    "# Number of times a cell has been clicked.\n",
    "@variable(m, clicked[1:rows,1:columns], Bin)\n",
    "\n",
    "# Constraint for number of toggles to be odd. To switch off the light in the end.\n",
    "@constraint(m, oddToggles[i=1:rows,j=1:columns], toggled[i,j] == 2*t[i,j] + 1)\n",
    "# Constraint to make number of toggles equal to the sum of clicks on this cell and its\n",
    "# neighbours\n",
    "@constraint(m, nbr[i=1:rows,j=1:columns], clicked[i,j] + sum(clicked[i_n,j_n]\n",
    "                        for (i_n,j_n) in get_nbr(i,j,rows,columns)) == toggled[i,j])\n",
    "\n",
    "# Objective to minimize the number of clicks.\n",
    "@objective(m, Min, sum(clicked[i,j] for i in 1:rows for j in 1:columns))\n",
    "\n",
    "m"
   ]
  },
  {
   "cell_type": "code",
   "execution_count": 5,
   "metadata": {
    "collapsed": false
   },
   "outputs": [
    {
     "name": "stdout",
     "output_type": "stream",
     "text": [
      "Status: Optimal\n",
      "ObjectiveValue: 15.0\n",
      "Clicks\n",
      "[0.0,1.0,1.0,0.0,1.0]\n",
      "[0.0,1.0,1.0,1.0,0.0]\n",
      "[0.0,0.0,1.0,1.0,1.0]\n",
      "[1.0,1.0,0.0,1.0,1.0]\n",
      "[1.0,1.0,0.0,0.0,0.0]\n",
      "# of Toggles\n",
      "[1.0,3.0,3.0,3.0,1.0]\n",
      "[1.0,3.0,5.0,3.0,3.0]\n",
      "[1.0,3.0,3.0,5.0,3.0]\n",
      "[3.0,3.0,3.0,3.0,3.0]\n",
      "[3.0,3.0,1.0,1.0,1.0]\n"
     ]
    }
   ],
   "source": [
    "status=solve(m)\n",
    "println(\"Status: \",status)\n",
    "println(\"ObjectiveValue: \",getobjectivevalue(m))\n",
    "clickedCells=getvalue(clicked)\n",
    "println(\"Clicks\")\n",
    "[println(clickedCells[i,:]) for i in 1:rows]\n",
    "numToggles=getvalue(toggled)\n",
    "println(\"# of Toggles\")\n",
    "[println(numToggles[i,:]) for i in 1:rows];"
   ]
  }
 ],
 "metadata": {
  "kernelspec": {
   "display_name": "Julia 0.5.0",
   "language": "julia",
   "name": "julia-0.5"
  },
  "language_info": {
   "file_extension": ".jl",
   "mimetype": "application/julia",
   "name": "julia",
   "version": "0.5.0"
  }
 },
 "nbformat": 4,
 "nbformat_minor": 2
}
