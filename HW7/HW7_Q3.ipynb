{
 "cells": [
  {
   "cell_type": "markdown",
   "metadata": {},
   "source": [
    "# Homework 7 Question 3: ABC Investments.\n",
    "ABC Inc. is considering several investment options. Each option has\n",
    "a minimum investment required as well as a maximum investment allowed. These restrictions, along\n",
    "with the expected return are summarized in the following table (figures are in millions of dollars): \n",
    "\n",
    "Option | Minimum investment | Maximum investment | Expected return (%) |\n",
    "--- | --- | --- | --- |\n",
    "1 | 3 | 27 | 13\n",
    "2 | 2 | 12 | 9\n",
    "3 | 9 | 35 | 17\n",
    "4 | 5 | 15 | 10\n",
    "5 | 12| 46 | 22\n",
    "6 | 4 | 18 | 12\n",
    "\n",
    "Because of the high-risk nature of Option 5, company policy requires that the total amount invested\n",
    "in Option 5 be no more that the combined amount invested in Options 2, 4 and 6. In addition, if\n",
    "an investment is made in Option 3, it is required that at least a minimum investment be made in\n",
    "Option 6. ABC has $80 million to invest and obviously wants to maximize its total expected return\n",
    "on investment. Which options should ABC invest in, and how much should be invested?"
   ]
  },
  {
   "cell_type": "markdown",
   "metadata": {},
   "source": [
    "## Problem Data "
   ]
  },
  {
   "cell_type": "code",
   "execution_count": 1,
   "metadata": {
    "collapsed": true
   },
   "outputs": [],
   "source": [
    "options = [:one, :two, :three, :four, :five, :six]\n",
    "minInv = Dict(zip(options, [3, 2, 9, 5, 12, 4]))\n",
    "maxInv = Dict(zip(options, [27, 12, 35, 15, 46, 18]))\n",
    "expReturn = Dict(zip(options, [13, 9, 17, 10, 22, 12]));"
   ]
  },
  {
   "cell_type": "markdown",
   "metadata": {},
   "source": [
    "## Problem Model "
   ]
  },
  {
   "cell_type": "code",
   "execution_count": 2,
   "metadata": {
    "collapsed": false
   },
   "outputs": [
    {
     "data": {
      "text/latex": [
       "$$ \\begin{alignat*}{1}\\max\\quad & 0.13 investment_{one} + 0.09 investment_{two} + 0.17 investment_{three} + 0.1 investment_{four} + 0.22 investment_{five} + 0.12 investment_{six}\\\\\n",
       "\\text{Subject to} \\quad & investment_{one} - 3 investedIn_{one} \\geq 0\\\\\n",
       " & investment_{two} - 2 investedIn_{two} \\geq 0\\\\\n",
       " & investment_{three} - 9 investedIn_{three} \\geq 0\\\\\n",
       " & investment_{four} - 5 investedIn_{four} \\geq 0\\\\\n",
       " & investment_{five} - 12 investedIn_{five} \\geq 0\\\\\n",
       " & investment_{six} - 4 investedIn_{six} \\geq 0\\\\\n",
       " & investment_{one} - 27 investedIn_{one} \\leq 0\\\\\n",
       " & investment_{two} - 12 investedIn_{two} \\leq 0\\\\\n",
       " & investment_{three} - 35 investedIn_{three} \\leq 0\\\\\n",
       " & investment_{four} - 15 investedIn_{four} \\leq 0\\\\\n",
       " & investment_{five} - 46 investedIn_{five} \\leq 0\\\\\n",
       " & investment_{six} - 18 investedIn_{six} \\leq 0\\\\\n",
       " & investment_{five} - investment_{two} - investment_{four} - investment_{six} \\leq 0\\\\\n",
       " & investment_{six} - 4 investedIn_{three} \\geq 0\\\\\n",
       " & investment_{one} + investment_{two} + investment_{three} + investment_{four} + investment_{five} + investment_{six} \\leq 80\\\\\n",
       " & investedIn_{i} \\in \\{0,1\\} \\quad\\forall i \\in \\{one,two,\\dots,five,six\\}\\\\\n",
       " & investment_{i} free \\quad\\forall i \\in \\{one,two,\\dots,five,six\\}\\\\\n",
       "\\end{alignat*}\n",
       " $$"
      ],
      "text/plain": [
       "Maximization problem with:\n",
       " * 15 linear constraints\n",
       " * 12 variables: 6 binary\n",
       "Solver is CbcMathProg"
      ]
     },
     "execution_count": 2,
     "metadata": {},
     "output_type": "execute_result"
    }
   ],
   "source": [
    "using JuMP, Cbc\n",
    "\n",
    "m = Model(solver=CbcSolver())\n",
    "\n",
    "# Boolean decision variable to correspond to stocks invested in\n",
    "@variable(m, investedIn[options], Bin)\n",
    "@variable(m, investment[options]) # Investement made in each stock\n",
    "\n",
    "# Min investment constraint\n",
    "@constraint(m, minConstr[o in options], investment[o] >= investedIn[o]*minInv[o])\n",
    "# Max investment constraint\n",
    "@constraint(m, maxConstr[o in options], investment[o] <= investedIn[o]*maxInv[o])\n",
    "\n",
    "# Constraint for 5 equal to 2+4+6\n",
    "@constraint(m, investment[:five] <= sum(investment[o] for o in [:two, :four, :six]))\n",
    "# Constraint for 6 to be compulsory if invested in three\n",
    "@constraint(m, investment[:six] >= investedIn[:three]*minInv[:six])\n",
    "\n",
    "# Total investment available constraint\n",
    "@constraint(m, sum(investment[o] for o in options) <= 80)\n",
    "\n",
    "# Objective to maximize profit / return.\n",
    "@objective(m, Max, sum(investment[o]*(expReturn[o]/100.) for o in options))\n",
    "m"
   ]
  },
  {
   "cell_type": "code",
   "execution_count": 3,
   "metadata": {
    "collapsed": false
   },
   "outputs": [
    {
     "name": "stdout",
     "output_type": "stream",
     "text": [
      "Status: Optimal\n",
      "Investments investment: 1 dimensions:\n",
      "[  one] = 0.0\n",
      "[  two] = 0.0\n",
      "[three] = 34.99999999999999\n",
      "[ four] = 5.000000000000001\n",
      "[ five] = 22.500000000000004\n",
      "[  six] = 17.5\n",
      "\n",
      "Invested In investedIn: 1 dimensions:\n",
      "[  one] = 0.0\n",
      "[  two] = 0.0\n",
      "[three] = 1.0\n",
      "[ four] = 1.0\n",
      "[ five] = 1.0\n",
      "[  six] = 1.0\n",
      "\n",
      "Expected Return 13.500000000000004\n",
      "Expected Return (%) 16.875000000000007\n"
     ]
    }
   ],
   "source": [
    "status = solve(m)\n",
    "println(\"Status: \", status)\n",
    "println(\"Investments \", getvalue(investment))\n",
    "println(\"Invested In \", getvalue(investedIn))\n",
    "println(\"Expected Return \", getobjectivevalue(m))\n",
    "println(\"Expected Return (%) \", getobjectivevalue(m)*100/sum(getvalue(investment)))"
   ]
  }
 ],
 "metadata": {
  "kernelspec": {
   "display_name": "Julia 0.5.0",
   "language": "julia",
   "name": "julia-0.5"
  },
  "language_info": {
   "file_extension": ".jl",
   "mimetype": "application/julia",
   "name": "julia",
   "version": "0.5.0"
  }
 },
 "nbformat": 4,
 "nbformat_minor": 2
}
